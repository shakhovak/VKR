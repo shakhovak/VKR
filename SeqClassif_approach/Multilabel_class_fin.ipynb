{
 "cells": [
  {
   "cell_type": "code",
   "execution_count": 1,
   "id": "ce4a231e",
   "metadata": {
    "cellId": "p75dvo71vkay6rzwkr5r1",
    "execution": {
     "iopub.execute_input": "2024-04-09T20:34:50.526141Z",
     "iopub.status.busy": "2024-04-09T20:34:50.525458Z",
     "iopub.status.idle": "2024-04-09T20:34:50.547264Z",
     "shell.execute_reply": "2024-04-09T20:34:50.546441Z",
     "shell.execute_reply.started": "2024-04-09T20:34:50.526101Z"
    }
   },
   "outputs": [],
   "source": [
    "#!g2.1\n",
    "import pandas as pd\n",
    "import numpy as np\n",
    "import warnings\n",
    "warnings.filterwarnings(\"ignore\")"
   ]
  },
  {
   "cell_type": "code",
   "execution_count": 2,
   "id": "e3bf9ba4",
   "metadata": {
    "cellId": "0f1wnlmcr39it5zuggtugdn",
    "execution": {
     "iopub.execute_input": "2024-04-09T20:35:02.989855Z",
     "iopub.status.busy": "2024-04-09T20:35:02.989042Z",
     "iopub.status.idle": "2024-04-09T20:35:10.456948Z",
     "shell.execute_reply": "2024-04-09T20:35:10.456089Z",
     "shell.execute_reply.started": "2024-04-09T20:35:02.989800Z"
    }
   },
   "outputs": [
    {
     "name": "stderr",
     "output_type": "stream",
     "text": [
      "Downloading builder script: 100%|██████████| 10.0k/10.0k [00:00<00:00, 6.94MB/s]\n",
      "Downloading data files:   0%|          | 0/3 [00:00<?, ?it/s]\n",
      "Downloading data: 100%|██████████| 35.7k/35.7k [00:00<00:00, 17.9MB/s]\n",
      "Downloading data files:  33%|███▎      | 1/3 [00:00<00:01,  1.49it/s]\n",
      "Downloading data:   0%|          | 0.00/1.24M [00:00<?, ?B/s]\u001b[A\n",
      "Downloading data:  16%|█▌        | 198k/1.24M [00:00<00:00, 1.89MB/s]\u001b[A\n",
      "Downloading data: 100%|██████████| 1.24M/1.24M [00:00<00:00, 5.91MB/s]\u001b[A\n",
      "Downloading data files:  67%|██████▋   | 2/3 [00:01<00:00,  1.25it/s]\n",
      "Downloading data:   0%|          | 0.00/359k [00:00<?, ?B/s]\u001b[A\n",
      "Downloading data: 100%|██████████| 359k/359k [00:00<00:00, 2.37MB/s]\u001b[A\n",
      "Downloading data files: 100%|██████████| 3/3 [00:02<00:00,  1.27it/s]\n",
      "Extracting data files: 100%|██████████| 3/3 [00:00<00:00, 115.31it/s]\n",
      "Generating trial split: 100 examples [00:00, 1025.54 examples/s]\n",
      "Generating train split: 3041 examples [00:00, 10711.67 examples/s]\n",
      "Generating test split: 800 examples [00:00, 4845.66 examples/s]\n"
     ]
    },
    {
     "data": {
      "text/plain": [
       "DatasetDict({\n",
       "    trial: Dataset({\n",
       "        features: ['sentenceId', 'text', 'aspectTerms', 'aspectCategories'],\n",
       "        num_rows: 100\n",
       "    })\n",
       "    train: Dataset({\n",
       "        features: ['sentenceId', 'text', 'aspectTerms', 'aspectCategories'],\n",
       "        num_rows: 3041\n",
       "    })\n",
       "    test: Dataset({\n",
       "        features: ['sentenceId', 'text', 'aspectTerms', 'aspectCategories'],\n",
       "        num_rows: 800\n",
       "    })\n",
       "})"
      ]
     },
     "execution_count": 2,
     "metadata": {},
     "output_type": "execute_result"
    }
   ],
   "source": [
    "#!g2.1\n",
    "from datasets import load_dataset\n",
    "raw_datasets = load_dataset(\"alexcadillon/SemEval2014Task4\", 'restaurants')\n",
    "raw_datasets"
   ]
  },
  {
   "cell_type": "code",
   "execution_count": 3,
   "id": "8ae57d8b",
   "metadata": {
    "cellId": "zqdl6aezvhbd0ekrlltry5",
    "execution": {
     "iopub.execute_input": "2024-04-09T20:35:18.510982Z",
     "iopub.status.busy": "2024-04-09T20:35:18.510148Z",
     "iopub.status.idle": "2024-04-09T20:35:18.562832Z",
     "shell.execute_reply": "2024-04-09T20:35:18.562066Z",
     "shell.execute_reply.started": "2024-04-09T20:35:18.510938Z"
    }
   },
   "outputs": [
    {
     "data": {
      "text/plain": [
       "['service', 'food', 'anecdotes/miscellaneous', 'ambience', 'price']"
      ]
     },
     "execution_count": 3,
     "metadata": {},
     "output_type": "execute_result"
    }
   ],
   "source": [
    "#!g2.1\n",
    "categories = []\n",
    "for i in raw_datasets['train']['aspectCategories']:\n",
    "    if i[0]['category'] not in categories:\n",
    "        categories.append(i[0]['category'])\n",
    "categories    "
   ]
  },
  {
   "cell_type": "code",
   "execution_count": 4,
   "id": "d94d258c",
   "metadata": {
    "cellId": "r2fktzwxbpld2c9uzkb7kw",
    "execution": {
     "iopub.execute_input": "2024-04-09T20:35:22.342616Z",
     "iopub.status.busy": "2024-04-09T20:35:22.342060Z",
     "iopub.status.idle": "2024-04-09T20:35:22.360164Z",
     "shell.execute_reply": "2024-04-09T20:35:22.359375Z",
     "shell.execute_reply.started": "2024-04-09T20:35:22.342577Z"
    }
   },
   "outputs": [],
   "source": [
    "#!g2.1\n",
    "labels = ['service', 'food', 'anecdotes/miscellaneous', 'ambience', 'price']\n"
   ]
  },
  {
   "cell_type": "code",
   "execution_count": 5,
   "id": "c60aefb5",
   "metadata": {
    "cellId": "hi7gd80yjipsz8tiz8vdib",
    "execution": {
     "iopub.execute_input": "2024-04-09T20:35:26.581380Z",
     "iopub.status.busy": "2024-04-09T20:35:26.580537Z",
     "iopub.status.idle": "2024-04-09T20:35:26.598346Z",
     "shell.execute_reply": "2024-04-09T20:35:26.597324Z",
     "shell.execute_reply.started": "2024-04-09T20:35:26.581335Z"
    }
   },
   "outputs": [
    {
     "data": {
      "text/plain": [
       "{'service': 0,\n",
       " 'food': 1,\n",
       " 'anecdotes/miscellaneous': 2,\n",
       " 'ambience': 3,\n",
       " 'price': 4}"
      ]
     },
     "execution_count": 5,
     "metadata": {},
     "output_type": "execute_result"
    }
   ],
   "source": [
    "#!g2.1\n",
    "id2label = {idx:label for idx, label in enumerate(labels)}\n",
    "label2id = {label:idx for idx, label in enumerate(labels)}\n",
    "label2id"
   ]
  },
  {
   "cell_type": "code",
   "execution_count": 6,
   "id": "9074056f",
   "metadata": {
    "cellId": "xg2sibu6bu9y85znlo0ja",
    "execution": {
     "iopub.execute_input": "2024-04-09T20:35:31.341605Z",
     "iopub.status.busy": "2024-04-09T20:35:31.340791Z",
     "iopub.status.idle": "2024-04-09T20:35:31.381261Z",
     "shell.execute_reply": "2024-04-09T20:35:31.380269Z",
     "shell.execute_reply.started": "2024-04-09T20:35:31.341561Z"
    }
   },
   "outputs": [
    {
     "data": {
      "text/plain": [
       "{'sentenceId': '2846',\n",
       " 'text': \"Not only was the food outstanding, but the little 'perks' were great.\",\n",
       " 'aspectTerms': [{'term': 'food',\n",
       "   'polarity': 'positive',\n",
       "   'from': '17',\n",
       "   'to': '21'},\n",
       "  {'term': 'perks', 'polarity': 'positive', 'from': '51', 'to': '56'}],\n",
       " 'aspectCategories': [{'category': 'food', 'polarity': 'positive'},\n",
       "  {'category': 'service', 'polarity': 'positive'}]}"
      ]
     },
     "execution_count": 6,
     "metadata": {},
     "output_type": "execute_result"
    }
   ],
   "source": [
    "#!g2.1\n",
    "sample = raw_datasets['train'][5]\n",
    "sample"
   ]
  },
  {
   "cell_type": "code",
   "execution_count": 12,
   "id": "aff7baed",
   "metadata": {
    "cellId": "09imqijt7uk62hrmzrp0rhj",
    "execution": {
     "iopub.execute_input": "2024-04-09T20:37:12.975623Z",
     "iopub.status.busy": "2024-04-09T20:37:12.974744Z",
     "iopub.status.idle": "2024-04-09T20:37:13.001190Z",
     "shell.execute_reply": "2024-04-09T20:37:13.000046Z",
     "shell.execute_reply.started": "2024-04-09T20:37:12.975568Z"
    },
    "tags": []
   },
   "outputs": [],
   "source": [
    "#!g2.1\n",
    "def combo_label(example):   \n",
    "    labels_combo = []\n",
    "    for item in example['aspectCategories']:\n",
    "        labels_combo.append(f\"{item['category']}\")\n",
    "    example['labels_combo'] = labels_combo\n",
    "    return example"
   ]
  },
  {
   "cell_type": "code",
   "execution_count": 13,
   "id": "e2999666",
   "metadata": {
    "cellId": "qjbc59ahlnt7ty640s62",
    "execution": {
     "iopub.execute_input": "2024-04-09T20:37:16.618319Z",
     "iopub.status.busy": "2024-04-09T20:37:16.617449Z",
     "iopub.status.idle": "2024-04-09T20:37:16.993604Z",
     "shell.execute_reply": "2024-04-09T20:37:16.992799Z",
     "shell.execute_reply.started": "2024-04-09T20:37:16.618268Z"
    },
    "tags": []
   },
   "outputs": [
    {
     "name": "stderr",
     "output_type": "stream",
     "text": [
      "Map: 100%|██████████| 100/100 [00:00<00:00, 5672.65 examples/s]\n",
      "Map: 100%|██████████| 3041/3041 [00:00<00:00, 11690.95 examples/s]\n",
      "Map: 100%|██████████| 800/800 [00:00<00:00, 11480.04 examples/s]\n"
     ]
    },
    {
     "data": {
      "text/plain": [
       "DatasetDict({\n",
       "    trial: Dataset({\n",
       "        features: ['sentenceId', 'text', 'aspectTerms', 'aspectCategories', 'labels_combo'],\n",
       "        num_rows: 100\n",
       "    })\n",
       "    train: Dataset({\n",
       "        features: ['sentenceId', 'text', 'aspectTerms', 'aspectCategories', 'labels_combo'],\n",
       "        num_rows: 3041\n",
       "    })\n",
       "    test: Dataset({\n",
       "        features: ['sentenceId', 'text', 'aspectTerms', 'aspectCategories', 'labels_combo'],\n",
       "        num_rows: 800\n",
       "    })\n",
       "})"
      ]
     },
     "execution_count": 13,
     "metadata": {},
     "output_type": "execute_result"
    }
   ],
   "source": [
    "#!g2.1\n",
    "dataset = raw_datasets.map(combo_label)\n",
    "dataset"
   ]
  },
  {
   "cell_type": "code",
   "execution_count": 14,
   "id": "4c42bcdc",
   "metadata": {
    "cellId": "ccblpgjfnxtjinvx1lnzs",
    "execution": {
     "iopub.execute_input": "2024-04-09T20:37:20.751453Z",
     "iopub.status.busy": "2024-04-09T20:37:20.750440Z",
     "iopub.status.idle": "2024-04-09T20:37:20.764627Z",
     "shell.execute_reply": "2024-04-09T20:37:20.763817Z",
     "shell.execute_reply.started": "2024-04-09T20:37:20.751398Z"
    },
    "tags": []
   },
   "outputs": [
    {
     "data": {
      "text/plain": [
       "{'sentenceId': '3121',\n",
       " 'text': 'But the staff was so horrible to us.',\n",
       " 'aspectTerms': [{'term': 'staff',\n",
       "   'polarity': 'negative',\n",
       "   'from': '8',\n",
       "   'to': '13'}],\n",
       " 'aspectCategories': [{'category': 'service', 'polarity': 'negative'}],\n",
       " 'labels_combo': ['service']}"
      ]
     },
     "execution_count": 14,
     "metadata": {},
     "output_type": "execute_result"
    }
   ],
   "source": [
    "#!g2.1\n",
    "sample = dataset['train'][0]\n",
    "sample"
   ]
  },
  {
   "cell_type": "code",
   "execution_count": 15,
   "id": "1a3f1537",
   "metadata": {
    "cellId": "071ovfcx19pty5ekcm7q5u",
    "execution": {
     "iopub.execute_input": "2024-04-09T20:37:30.741416Z",
     "iopub.status.busy": "2024-04-09T20:37:30.740495Z",
     "iopub.status.idle": "2024-04-09T20:37:31.014212Z",
     "shell.execute_reply": "2024-04-09T20:37:31.013309Z",
     "shell.execute_reply.started": "2024-04-09T20:37:30.741369Z"
    },
    "tags": []
   },
   "outputs": [],
   "source": [
    "#!g2.1\n",
    "from transformers import AutoTokenizer\n",
    "import numpy as np\n",
    "\n",
    "tokenizer = AutoTokenizer.from_pretrained(\"albert-xxlarge-v2\")\n",
    "label_counts = len(labels)\n",
    "\n",
    "def preprocess_data(example):\n",
    "  # take a batch of texts\n",
    "  text = example[\"text\"]\n",
    "  # encode them\n",
    "  encoding = tokenizer(text, add_special_tokens=True)\n",
    "  # add labels\n",
    "  label_ids = [0 for i in range(label_counts)]\n",
    "  for item in example['labels_combo']:\n",
    "            new = [1.0 if l == labels.index(item) else 0.0 for l in range(label_counts)]\n",
    "            label_ids = [x+y for x,y in zip(label_ids, new)]\n",
    "            new = [0 for i in range(label_counts)]\n",
    "\n",
    "  encoding[\"labels\"] = label_ids\n",
    "\n",
    "  return encoding"
   ]
  },
  {
   "cell_type": "code",
   "execution_count": 16,
   "id": "d1fa7241",
   "metadata": {
    "cellId": "ujktinhdrtuxpsc6go8x",
    "execution": {
     "iopub.execute_input": "2024-04-09T20:37:35.073239Z",
     "iopub.status.busy": "2024-04-09T20:37:35.072488Z",
     "iopub.status.idle": "2024-04-09T20:37:35.092984Z",
     "shell.execute_reply": "2024-04-09T20:37:35.092186Z",
     "shell.execute_reply.started": "2024-04-09T20:37:35.073200Z"
    },
    "tags": []
   },
   "outputs": [
    {
     "data": {
      "text/plain": [
       "{'input_ids': [2, 47, 14, 1138, 23, 86, 9244, 20, 182, 9, 3], 'token_type_ids': [0, 0, 0, 0, 0, 0, 0, 0, 0, 0, 0], 'attention_mask': [1, 1, 1, 1, 1, 1, 1, 1, 1, 1, 1], 'labels': [1.0, 0.0, 0.0, 0.0, 0.0]}"
      ]
     },
     "execution_count": 16,
     "metadata": {},
     "output_type": "execute_result"
    }
   ],
   "source": [
    "#!g2.1\n",
    "preprocess_data(sample)"
   ]
  },
  {
   "cell_type": "code",
   "execution_count": 17,
   "id": "636510a7",
   "metadata": {
    "cellId": "cqiihq3udhgqnslemgcxmo",
    "execution": {
     "iopub.execute_input": "2024-04-09T20:37:43.626736Z",
     "iopub.status.busy": "2024-04-09T20:37:43.625536Z",
     "iopub.status.idle": "2024-04-09T20:37:44.850849Z",
     "shell.execute_reply": "2024-04-09T20:37:44.850050Z",
     "shell.execute_reply.started": "2024-04-09T20:37:43.626695Z"
    }
   },
   "outputs": [
    {
     "name": "stderr",
     "output_type": "stream",
     "text": [
      "Map: 100%|██████████| 100/100 [00:00<00:00, 2467.12 examples/s]\n",
      "Map: 100%|██████████| 3041/3041 [00:00<00:00, 3267.22 examples/s]\n",
      "Map: 100%|██████████| 800/800 [00:00<00:00, 3883.64 examples/s]\n"
     ]
    },
    {
     "data": {
      "text/plain": [
       "DatasetDict({\n",
       "    trial: Dataset({\n",
       "        features: ['input_ids', 'token_type_ids', 'attention_mask', 'labels'],\n",
       "        num_rows: 100\n",
       "    })\n",
       "    train: Dataset({\n",
       "        features: ['input_ids', 'token_type_ids', 'attention_mask', 'labels'],\n",
       "        num_rows: 3041\n",
       "    })\n",
       "    test: Dataset({\n",
       "        features: ['input_ids', 'token_type_ids', 'attention_mask', 'labels'],\n",
       "        num_rows: 800\n",
       "    })\n",
       "})"
      ]
     },
     "execution_count": 17,
     "metadata": {},
     "output_type": "execute_result"
    }
   ],
   "source": [
    "#!g2.1\n",
    "tokenized_dataset = dataset.map(preprocess_data, remove_columns=dataset['train'].column_names)\n",
    "tokenized_dataset"
   ]
  },
  {
   "cell_type": "code",
   "execution_count": 18,
   "id": "65741e33",
   "metadata": {
    "cellId": "p894aa57r8tn59nekvs1r",
    "execution": {
     "iopub.execute_input": "2024-04-09T20:37:48.588569Z",
     "iopub.status.busy": "2024-04-09T20:37:48.587716Z",
     "iopub.status.idle": "2024-04-09T20:37:48.606677Z",
     "shell.execute_reply": "2024-04-09T20:37:48.605879Z",
     "shell.execute_reply.started": "2024-04-09T20:37:48.588517Z"
    }
   },
   "outputs": [
    {
     "data": {
      "text/plain": [
       "{'sentenceId': '3359',\n",
       " 'text': 'The pizza is the best if you like thin crusted pizza.',\n",
       " 'aspectTerms': [{'term': 'pizza',\n",
       "   'polarity': 'positive',\n",
       "   'from': '4',\n",
       "   'to': '9'},\n",
       "  {'term': 'thin crusted pizza',\n",
       "   'polarity': 'neutral',\n",
       "   'from': '34',\n",
       "   'to': '52'}],\n",
       " 'aspectCategories': [{'category': 'food', 'polarity': 'positive'}]}"
      ]
     },
     "execution_count": 18,
     "metadata": {},
     "output_type": "execute_result"
    }
   ],
   "source": [
    "#!g2.1\n",
    "raw_datasets['train'][15]"
   ]
  },
  {
   "cell_type": "code",
   "execution_count": 19,
   "id": "3e9a7537",
   "metadata": {
    "cellId": "afrfhusritaxnsleoanwq",
    "execution": {
     "iopub.execute_input": "2024-04-09T20:37:55.053432Z",
     "iopub.status.busy": "2024-04-09T20:37:55.052595Z",
     "iopub.status.idle": "2024-04-09T20:37:55.066733Z",
     "shell.execute_reply": "2024-04-09T20:37:55.065768Z",
     "shell.execute_reply.started": "2024-04-09T20:37:55.053388Z"
    }
   },
   "outputs": [
    {
     "name": "stdout",
     "output_type": "stream",
     "text": [
      "dict_keys(['input_ids', 'token_type_ids', 'attention_mask', 'labels'])\n"
     ]
    }
   ],
   "source": [
    "#!g2.1\n",
    "example = tokenized_dataset['train'][15]\n",
    "print(example.keys())"
   ]
  },
  {
   "cell_type": "code",
   "execution_count": 20,
   "id": "764fdb5e",
   "metadata": {
    "cellId": "obe6lg0yram97gbjc927",
    "execution": {
     "iopub.execute_input": "2024-04-09T20:37:58.824175Z",
     "iopub.status.busy": "2024-04-09T20:37:58.823378Z",
     "iopub.status.idle": "2024-04-09T20:38:10.850197Z",
     "shell.execute_reply": "2024-04-09T20:38:10.849347Z",
     "shell.execute_reply.started": "2024-04-09T20:37:58.824120Z"
    }
   },
   "outputs": [
    {
     "name": "stderr",
     "output_type": "stream",
     "text": [
      "2024-04-09 20:38:06.639337: W tensorflow/compiler/tf2tensorrt/utils/py_utils.cc:38] TF-TRT Warning: Could not find TensorRT\n"
     ]
    },
    {
     "data": {
      "text/plain": [
       "'[CLS] the pizza is the best if you like thin crusted pizza.[SEP]'"
      ]
     },
     "execution_count": 20,
     "metadata": {},
     "output_type": "execute_result"
    }
   ],
   "source": [
    "#!g2.1\n",
    "tokenizer.decode(example['input_ids'])"
   ]
  },
  {
   "cell_type": "code",
   "execution_count": 21,
   "id": "cf9ee8cc",
   "metadata": {
    "cellId": "uxddtuw1s1a61f7wefqogv",
    "execution": {
     "iopub.execute_input": "2024-04-09T20:38:17.536463Z",
     "iopub.status.busy": "2024-04-09T20:38:17.535531Z",
     "iopub.status.idle": "2024-04-09T20:38:17.562987Z",
     "shell.execute_reply": "2024-04-09T20:38:17.562134Z",
     "shell.execute_reply.started": "2024-04-09T20:38:17.536402Z"
    }
   },
   "outputs": [
    {
     "data": {
      "text/plain": [
       "[0.0, 1.0, 0.0, 0.0, 0.0]"
      ]
     },
     "execution_count": 21,
     "metadata": {},
     "output_type": "execute_result"
    }
   ],
   "source": [
    "#!g2.1\n",
    "example['labels']"
   ]
  },
  {
   "cell_type": "code",
   "execution_count": 22,
   "id": "fb7a197f",
   "metadata": {
    "cellId": "ebvv77qadxp5zd4305ddkv",
    "execution": {
     "iopub.execute_input": "2024-04-09T20:38:22.123323Z",
     "iopub.status.busy": "2024-04-09T20:38:22.122441Z",
     "iopub.status.idle": "2024-04-09T20:38:22.137633Z",
     "shell.execute_reply": "2024-04-09T20:38:22.136583Z",
     "shell.execute_reply.started": "2024-04-09T20:38:22.123276Z"
    }
   },
   "outputs": [
    {
     "data": {
      "text/plain": [
       "['food']"
      ]
     },
     "execution_count": 22,
     "metadata": {},
     "output_type": "execute_result"
    }
   ],
   "source": [
    "#!g2.1\n",
    "[id2label[idx] for idx, label in enumerate(example['labels']) if label == 1.0]"
   ]
  },
  {
   "cell_type": "code",
   "execution_count": 23,
   "id": "a6869432",
   "metadata": {
    "cellId": "zv4rmf28tvspcin4nzrpxo",
    "execution": {
     "iopub.execute_input": "2024-04-09T20:38:31.895055Z",
     "iopub.status.busy": "2024-04-09T20:38:31.894218Z",
     "iopub.status.idle": "2024-04-09T20:38:31.960547Z",
     "shell.execute_reply": "2024-04-09T20:38:31.959734Z",
     "shell.execute_reply.started": "2024-04-09T20:38:31.895005Z"
    }
   },
   "outputs": [],
   "source": [
    "#!g2.1\n",
    "tokenized_dataset.set_format(\"torch\")"
   ]
  },
  {
   "cell_type": "code",
   "execution_count": 24,
   "id": "48529f67",
   "metadata": {
    "cellId": "kt8ncs4yol9p2lbqk1l8v",
    "execution": {
     "iopub.execute_input": "2024-04-09T20:38:39.088758Z",
     "iopub.status.busy": "2024-04-09T20:38:39.087925Z",
     "iopub.status.idle": "2024-04-09T20:39:15.838634Z",
     "shell.execute_reply": "2024-04-09T20:39:15.837767Z",
     "shell.execute_reply.started": "2024-04-09T20:38:39.088712Z"
    }
   },
   "outputs": [
    {
     "name": "stderr",
     "output_type": "stream",
     "text": [
      "model.safetensors: 100%|██████████| 893M/893M [00:13<00:00, 65.0MB/s] \n",
      "Some weights of AlbertForSequenceClassification were not initialized from the model checkpoint at albert-xxlarge-v2 and are newly initialized: ['classifier.weight', 'classifier.bias']\n",
      "You should probably TRAIN this model on a down-stream task to be able to use it for predictions and inference.\n"
     ]
    }
   ],
   "source": [
    "#!g2.1\n",
    "from transformers import AutoModelForSequenceClassification\n",
    "\n",
    "model = AutoModelForSequenceClassification.from_pretrained(\"albert-xxlarge-v2\", \n",
    "                                                           problem_type=\"multi_label_classification\", \n",
    "                                                           num_labels=len(labels),\n",
    "                                                           id2label=id2label,\n",
    "                                                           label2id=label2id)"
   ]
  },
  {
   "cell_type": "code",
   "execution_count": 25,
   "id": "3f85c82e",
   "metadata": {
    "cellId": "8dmb2jtokgplvioimt2pl8",
    "execution": {
     "iopub.execute_input": "2024-04-09T20:39:27.520682Z",
     "iopub.status.busy": "2024-04-09T20:39:27.519882Z",
     "iopub.status.idle": "2024-04-09T20:39:27.534822Z",
     "shell.execute_reply": "2024-04-09T20:39:27.534066Z",
     "shell.execute_reply.started": "2024-04-09T20:39:27.520641Z"
    }
   },
   "outputs": [],
   "source": [
    "#!g2.1\n",
    "batch_size = 8"
   ]
  },
  {
   "cell_type": "code",
   "execution_count": 26,
   "id": "b6172cb0",
   "metadata": {
    "cellId": "8f1ba17ikbi2apmftrit2i",
    "execution": {
     "iopub.execute_input": "2024-04-09T20:39:30.549108Z",
     "iopub.status.busy": "2024-04-09T20:39:30.548311Z",
     "iopub.status.idle": "2024-04-09T20:39:35.029418Z",
     "shell.execute_reply": "2024-04-09T20:39:35.028543Z",
     "shell.execute_reply.started": "2024-04-09T20:39:30.549063Z"
    }
   },
   "outputs": [],
   "source": [
    "#!g2.1\n",
    "from transformers import DataCollatorWithPadding\n",
    "data_collator = DataCollatorWithPadding(tokenizer=tokenizer, padding = True)"
   ]
  },
  {
   "cell_type": "code",
   "execution_count": 27,
   "id": "08abff75",
   "metadata": {
    "cellId": "wu1mzce5yulp0xjdh10r7m",
    "execution": {
     "iopub.execute_input": "2024-04-09T20:39:38.685369Z",
     "iopub.status.busy": "2024-04-09T20:39:38.684505Z",
     "iopub.status.idle": "2024-04-09T20:39:50.468515Z",
     "shell.execute_reply": "2024-04-09T20:39:50.467562Z",
     "shell.execute_reply.started": "2024-04-09T20:39:38.685323Z"
    }
   },
   "outputs": [],
   "source": [
    "#!g2.1\n",
    "from transformers import TrainingArguments, Trainer\n",
    "\n",
    "args = TrainingArguments(\n",
    "    f\"bert-finetuned-sem_eval-english\",\n",
    "    evaluation_strategy = \"epoch\",\n",
    "    save_strategy = \"no\",\n",
    "    learning_rate=2e-5,\n",
    "    per_device_train_batch_size=batch_size,\n",
    "    per_device_eval_batch_size=batch_size,\n",
    "    num_train_epochs=5,\n",
    "    weight_decay=0.01,\n",
    "    #push_to_hub=True,\n",
    ")"
   ]
  },
  {
   "cell_type": "code",
   "execution_count": 28,
   "id": "e133b380",
   "metadata": {
    "cellId": "3ay208kvvm7ehg25wg3miw",
    "execution": {
     "iopub.execute_input": "2024-04-09T20:39:56.131381Z",
     "iopub.status.busy": "2024-04-09T20:39:56.130488Z",
     "iopub.status.idle": "2024-04-09T20:39:56.146210Z",
     "shell.execute_reply": "2024-04-09T20:39:56.145282Z",
     "shell.execute_reply.started": "2024-04-09T20:39:56.131328Z"
    }
   },
   "outputs": [],
   "source": [
    "#!g2.1\n",
    "from sklearn.metrics import f1_score, roc_auc_score, accuracy_score\n",
    "from transformers import EvalPrediction\n",
    "import torch\n",
    "    \n",
    "# source: https://jesusleal.io/2021/04/21/Longformer-multilabel-classification/\n",
    "def multi_label_metrics(predictions, labels, threshold=0.5):\n",
    "    # first, apply sigmoid on predictions which are of shape (batch_size, num_labels)\n",
    "    sigmoid = torch.nn.Sigmoid()\n",
    "    probs = sigmoid(torch.Tensor(predictions))\n",
    "    # next, use threshold to turn them into integer predictions\n",
    "    y_pred = np.zeros(probs.shape)\n",
    "    y_pred[np.where(probs >= threshold)] = 1\n",
    "    # finally, compute metrics\n",
    "    y_true = labels\n",
    "    f1_micro_average = f1_score(y_true=y_true, y_pred=y_pred, average='macro')\n",
    "    roc_auc = roc_auc_score(y_true, y_pred, average = 'macro')\n",
    "    accuracy = accuracy_score(y_true, y_pred)\n",
    "    # return as dictionary\n",
    "    metrics = {'f1': f1_micro_average,\n",
    "               'roc_auc': roc_auc,\n",
    "               'accuracy': accuracy}\n",
    "    return metrics\n",
    "\n",
    "def compute_metrics(p: EvalPrediction):\n",
    "    preds = p.predictions[0] if isinstance(p.predictions, \n",
    "            tuple) else p.predictions\n",
    "    result = multi_label_metrics(\n",
    "        predictions=preds, \n",
    "        labels=p.label_ids)\n",
    "    return result"
   ]
  },
  {
   "cell_type": "code",
   "execution_count": 29,
   "id": "be1bf2dd",
   "metadata": {
    "cellId": "495b59fdry8xjfmgj0jeke",
    "execution": {
     "iopub.execute_input": "2024-04-09T20:40:09.875410Z",
     "iopub.status.busy": "2024-04-09T20:40:09.874349Z",
     "iopub.status.idle": "2024-04-09T20:53:25.557683Z",
     "shell.execute_reply": "2024-04-09T20:53:25.556880Z",
     "shell.execute_reply.started": "2024-04-09T20:40:09.875364Z"
    }
   },
   "outputs": [
    {
     "name": "stderr",
     "output_type": "stream",
     "text": [
      "  0%|          | 0/1905 [00:00<?, ?it/s]You're using a AlbertTokenizerFast tokenizer. Please note that with a fast tokenizer, using the `__call__` method is faster than using a method to encode the text followed by a call to the `pad` method to get a padded encoding.\n",
      " 20%|██        | 381/1905 [02:27<08:30,  2.99it/s]\n",
      "  0%|          | 0/100 [00:00<?, ?it/s]\u001b[A\n",
      "  3%|▎         | 3/100 [00:00<00:07, 13.78it/s]\u001b[A\n",
      "  5%|▌         | 5/100 [00:00<00:08, 11.04it/s]\u001b[A\n",
      "  7%|▋         | 7/100 [00:00<00:09,  9.42it/s]\u001b[A\n",
      "  8%|▊         | 8/100 [00:00<00:10,  9.10it/s]\u001b[A\n",
      "  9%|▉         | 9/100 [00:00<00:09,  9.28it/s]\u001b[A\n",
      " 10%|█         | 10/100 [00:01<00:09,  9.44it/s]\u001b[A\n",
      " 11%|█         | 11/100 [00:01<00:09,  9.05it/s]\u001b[A\n",
      " 13%|█▎        | 13/100 [00:01<00:08, 10.13it/s]\u001b[A\n",
      " 15%|█▌        | 15/100 [00:01<00:08, 10.12it/s]\u001b[A\n",
      " 17%|█▋        | 17/100 [00:01<00:08,  9.39it/s]\u001b[A\n",
      " 18%|█▊        | 18/100 [00:01<00:08,  9.49it/s]\u001b[A\n",
      " 19%|█▉        | 19/100 [00:02<00:09,  8.61it/s]\u001b[A\n",
      " 21%|██        | 21/100 [00:02<00:08,  9.61it/s]\u001b[A\n",
      " 22%|██▏       | 22/100 [00:02<00:08,  9.26it/s]\u001b[A\n",
      " 23%|██▎       | 23/100 [00:02<00:08,  9.40it/s]\u001b[A\n",
      " 25%|██▌       | 25/100 [00:02<00:07,  9.97it/s]\u001b[A\n",
      " 26%|██▌       | 26/100 [00:02<00:07,  9.50it/s]\u001b[A\n",
      " 27%|██▋       | 27/100 [00:02<00:07,  9.56it/s]\u001b[A\n",
      " 28%|██▊       | 28/100 [00:02<00:07,  9.67it/s]\u001b[A\n",
      " 29%|██▉       | 29/100 [00:03<00:07,  9.22it/s]\u001b[A\n",
      " 30%|███       | 30/100 [00:03<00:08,  7.83it/s]\u001b[A\n",
      " 32%|███▏      | 32/100 [00:03<00:07,  8.63it/s]\u001b[A\n",
      " 34%|███▍      | 34/100 [00:03<00:07,  8.73it/s]\u001b[A\n",
      " 35%|███▌      | 35/100 [00:03<00:08,  7.86it/s]\u001b[A\n",
      " 37%|███▋      | 37/100 [00:03<00:06,  9.23it/s]\u001b[A\n",
      " 38%|███▊      | 38/100 [00:04<00:06,  9.37it/s]\u001b[A\n",
      " 40%|████      | 40/100 [00:04<00:05, 10.47it/s]\u001b[A\n",
      " 42%|████▏     | 42/100 [00:04<00:05, 10.19it/s]\u001b[A\n",
      " 44%|████▍     | 44/100 [00:04<00:05,  9.74it/s]\u001b[A\n",
      " 46%|████▌     | 46/100 [00:04<00:05, 10.12it/s]\u001b[A\n",
      " 48%|████▊     | 48/100 [00:05<00:05, 10.09it/s]\u001b[A\n",
      " 50%|█████     | 50/100 [00:05<00:05,  9.43it/s]\u001b[A\n",
      " 51%|█████     | 51/100 [00:05<00:05,  9.50it/s]\u001b[A\n",
      " 52%|█████▏    | 52/100 [00:05<00:05,  9.20it/s]\u001b[A\n",
      " 53%|█████▎    | 53/100 [00:05<00:05,  8.96it/s]\u001b[A\n",
      " 54%|█████▍    | 54/100 [00:05<00:05,  9.15it/s]\u001b[A\n",
      " 55%|█████▌    | 55/100 [00:05<00:04,  9.35it/s]\u001b[A\n",
      " 56%|█████▌    | 56/100 [00:05<00:04,  8.97it/s]\u001b[A\n",
      " 57%|█████▋    | 57/100 [00:06<00:05,  7.73it/s]\u001b[A\n",
      " 58%|█████▊    | 58/100 [00:06<00:05,  7.90it/s]\u001b[A\n",
      " 59%|█████▉    | 59/100 [00:06<00:05,  7.92it/s]\u001b[A\n",
      " 60%|██████    | 60/100 [00:06<00:04,  8.40it/s]\u001b[A\n",
      " 61%|██████    | 61/100 [00:06<00:04,  8.33it/s]\u001b[A\n",
      " 62%|██████▏   | 62/100 [00:06<00:04,  8.68it/s]\u001b[A\n",
      " 63%|██████▎   | 63/100 [00:06<00:04,  7.46it/s]\u001b[A\n",
      " 64%|██████▍   | 64/100 [00:06<00:04,  7.65it/s]\u001b[A\n",
      " 65%|██████▌   | 65/100 [00:07<00:04,  7.25it/s]\u001b[A\n",
      " 67%|██████▋   | 67/100 [00:07<00:03,  8.34it/s]\u001b[A\n",
      " 68%|██████▊   | 68/100 [00:07<00:04,  6.86it/s]\u001b[A\n",
      " 69%|██████▉   | 69/100 [00:07<00:04,  7.15it/s]\u001b[A\n",
      " 70%|███████   | 70/100 [00:07<00:04,  7.05it/s]\u001b[A\n",
      " 71%|███████   | 71/100 [00:08<00:04,  6.61it/s]\u001b[A\n",
      " 72%|███████▏  | 72/100 [00:08<00:04,  6.32it/s]\u001b[A\n",
      " 73%|███████▎  | 73/100 [00:08<00:03,  6.79it/s]\u001b[A\n",
      " 74%|███████▍  | 74/100 [00:08<00:03,  7.45it/s]\u001b[A\n",
      " 75%|███████▌  | 75/100 [00:08<00:03,  6.85it/s]\u001b[A\n",
      " 76%|███████▌  | 76/100 [00:08<00:03,  6.77it/s]\u001b[A\n",
      " 77%|███████▋  | 77/100 [00:08<00:03,  6.72it/s]\u001b[A\n",
      " 78%|███████▊  | 78/100 [00:09<00:03,  6.70it/s]\u001b[A\n",
      " 80%|████████  | 80/100 [00:09<00:02,  7.94it/s]\u001b[A\n",
      " 82%|████████▏ | 82/100 [00:09<00:01,  9.55it/s]\u001b[A\n",
      " 83%|████████▎ | 83/100 [00:09<00:01,  9.60it/s]\u001b[A\n",
      " 84%|████████▍ | 84/100 [00:09<00:01,  9.20it/s]\u001b[A\n",
      " 86%|████████▌ | 86/100 [00:09<00:01,  9.41it/s]\u001b[A\n",
      " 87%|████████▋ | 87/100 [00:09<00:01,  9.07it/s]\u001b[A\n",
      " 88%|████████▊ | 88/100 [00:10<00:01,  8.21it/s]\u001b[A\n",
      " 89%|████████▉ | 89/100 [00:10<00:01,  6.70it/s]\u001b[A\n",
      " 90%|█████████ | 90/100 [00:10<00:01,  7.04it/s]\u001b[A\n",
      " 91%|█████████ | 91/100 [00:10<00:01,  6.33it/s]\u001b[A\n",
      " 92%|█████████▏| 92/100 [00:10<00:01,  6.40it/s]\u001b[A\n",
      " 93%|█████████▎| 93/100 [00:10<00:01,  6.85it/s]\u001b[A\n",
      " 94%|█████████▍| 94/100 [00:11<00:00,  6.79it/s]\u001b[A\n",
      " 95%|█████████▌| 95/100 [00:11<00:00,  7.13it/s]\u001b[A\n",
      " 96%|█████████▌| 96/100 [00:11<00:00,  6.93it/s]\u001b[A\n",
      " 97%|█████████▋| 97/100 [00:11<00:00,  6.81it/s]\u001b[A\n",
      " 98%|█████████▊| 98/100 [00:11<00:00,  5.84it/s]\u001b[A\n",
      " 99%|█████████▉| 99/100 [00:11<00:00,  6.67it/s]\u001b[A\n",
      "                                                  [A\n",
      " 20%|██        | 381/1905 [02:39<08:30,  2.99it/s]\n",
      "100%|██████████| 100/100 [00:12<00:00,  6.65it/s]\u001b[A\n",
      "                                                 \u001b[A"
     ]
    },
    {
     "name": "stdout",
     "output_type": "stream",
     "text": [
      "{'eval_loss': 0.14634805917739868, 'eval_f1': 0.8792216546313046, 'eval_roc_auc': 0.908165687613814, 'eval_accuracy': 0.81375, 'eval_runtime': 12.1404, 'eval_samples_per_second': 65.895, 'eval_steps_per_second': 8.237, 'epoch': 1.0}\n"
     ]
    },
    {
     "name": "stderr",
     "output_type": "stream",
     "text": [
      " 26%|██▌       | 500/1905 [03:26<09:37,  2.43it/s]  "
     ]
    },
    {
     "name": "stdout",
     "output_type": "stream",
     "text": [
      "{'loss': 0.2673, 'learning_rate': 1.4750656167979002e-05, 'epoch': 1.31}\n"
     ]
    },
    {
     "name": "stderr",
     "output_type": "stream",
     "text": [
      " 40%|████      | 762/1905 [05:05<06:04,  3.14it/s]\n",
      "  0%|          | 0/100 [00:00<?, ?it/s]\u001b[A\n",
      "  3%|▎         | 3/100 [00:00<00:07, 13.81it/s]\u001b[A\n",
      "  5%|▌         | 5/100 [00:00<00:08, 11.02it/s]\u001b[A\n",
      "  7%|▋         | 7/100 [00:00<00:09,  9.39it/s]\u001b[A\n",
      "  8%|▊         | 8/100 [00:00<00:10,  9.06it/s]\u001b[A\n",
      "  9%|▉         | 9/100 [00:00<00:09,  9.24it/s]\u001b[A\n",
      " 10%|█         | 10/100 [00:01<00:09,  9.42it/s]\u001b[A\n",
      " 11%|█         | 11/100 [00:01<00:09,  9.05it/s]\u001b[A\n",
      " 13%|█▎        | 13/100 [00:01<00:08, 10.15it/s]\u001b[A\n",
      " 15%|█▌        | 15/100 [00:01<00:08, 10.12it/s]\u001b[A\n",
      " 17%|█▋        | 17/100 [00:01<00:08,  9.38it/s]\u001b[A\n",
      " 18%|█▊        | 18/100 [00:01<00:08,  9.46it/s]\u001b[A\n",
      " 19%|█▉        | 19/100 [00:02<00:09,  8.58it/s]\u001b[A\n",
      " 20%|██        | 20/100 [00:02<00:09,  8.88it/s]\u001b[A\n",
      " 22%|██▏       | 22/100 [00:02<00:08,  9.39it/s]\u001b[A\n",
      " 23%|██▎       | 23/100 [00:02<00:08,  9.50it/s]\u001b[A\n",
      " 25%|██▌       | 25/100 [00:02<00:07,  9.97it/s]\u001b[A\n",
      " 26%|██▌       | 26/100 [00:02<00:07,  9.51it/s]\u001b[A\n",
      " 27%|██▋       | 27/100 [00:02<00:07,  9.53it/s]\u001b[A\n",
      " 28%|██▊       | 28/100 [00:02<00:07,  9.64it/s]\u001b[A\n",
      " 29%|██▉       | 29/100 [00:03<00:07,  9.17it/s]\u001b[A\n",
      " 30%|███       | 30/100 [00:03<00:08,  7.80it/s]\u001b[A\n",
      " 32%|███▏      | 32/100 [00:03<00:07,  8.57it/s]\u001b[A\n",
      " 34%|███▍      | 34/100 [00:03<00:07,  8.69it/s]\u001b[A\n",
      " 35%|███▌      | 35/100 [00:03<00:08,  7.82it/s]\u001b[A\n",
      " 37%|███▋      | 37/100 [00:03<00:06,  9.19it/s]\u001b[A\n",
      " 38%|███▊      | 38/100 [00:04<00:06,  9.33it/s]\u001b[A\n",
      " 40%|████      | 40/100 [00:04<00:05, 10.41it/s]\u001b[A\n",
      " 42%|████▏     | 42/100 [00:04<00:05, 10.15it/s]\u001b[A\n",
      " 44%|████▍     | 44/100 [00:04<00:05,  9.70it/s]\u001b[A\n",
      " 46%|████▌     | 46/100 [00:04<00:05, 10.06it/s]\u001b[A\n",
      " 48%|████▊     | 48/100 [00:05<00:05, 10.06it/s]\u001b[A\n",
      " 50%|█████     | 50/100 [00:05<00:05,  9.40it/s]\u001b[A\n",
      " 51%|█████     | 51/100 [00:05<00:05,  9.49it/s]\u001b[A\n",
      " 52%|█████▏    | 52/100 [00:05<00:05,  9.22it/s]\u001b[A\n",
      " 53%|█████▎    | 53/100 [00:05<00:05,  8.97it/s]\u001b[A\n",
      " 54%|█████▍    | 54/100 [00:05<00:05,  9.16it/s]\u001b[A\n",
      " 56%|█████▌    | 56/100 [00:05<00:04,  9.12it/s]\u001b[A\n",
      " 57%|█████▋    | 57/100 [00:06<00:05,  8.03it/s]\u001b[A\n",
      " 58%|█████▊    | 58/100 [00:06<00:05,  8.10it/s]\u001b[A\n",
      " 59%|█████▉    | 59/100 [00:06<00:05,  8.05it/s]\u001b[A\n",
      " 60%|██████    | 60/100 [00:06<00:04,  8.46it/s]\u001b[A\n",
      " 61%|██████    | 61/100 [00:06<00:04,  8.36it/s]\u001b[A\n",
      " 62%|██████▏   | 62/100 [00:06<00:04,  8.73it/s]\u001b[A\n",
      " 63%|██████▎   | 63/100 [00:06<00:04,  7.54it/s]\u001b[A\n",
      " 64%|██████▍   | 64/100 [00:07<00:04,  7.74it/s]\u001b[A\n",
      " 65%|██████▌   | 65/100 [00:07<00:04,  7.33it/s]\u001b[A\n",
      " 67%|██████▋   | 67/100 [00:07<00:03,  8.40it/s]\u001b[A\n",
      " 68%|██████▊   | 68/100 [00:07<00:04,  6.88it/s]\u001b[A\n",
      " 69%|██████▉   | 69/100 [00:07<00:04,  7.15it/s]\u001b[A\n",
      " 70%|███████   | 70/100 [00:07<00:04,  7.03it/s]\u001b[A\n",
      " 71%|███████   | 71/100 [00:08<00:04,  6.60it/s]\u001b[A\n",
      " 72%|███████▏  | 72/100 [00:08<00:04,  6.30it/s]\u001b[A\n",
      " 73%|███████▎  | 73/100 [00:08<00:03,  6.76it/s]\u001b[A\n",
      " 74%|███████▍  | 74/100 [00:08<00:03,  7.39it/s]\u001b[A\n",
      " 75%|███████▌  | 75/100 [00:08<00:03,  6.79it/s]\u001b[A\n",
      " 76%|███████▌  | 76/100 [00:08<00:03,  6.71it/s]\u001b[A\n",
      " 77%|███████▋  | 77/100 [00:08<00:03,  6.67it/s]\u001b[A\n",
      " 78%|███████▊  | 78/100 [00:09<00:03,  6.65it/s]\u001b[A\n",
      " 79%|███████▉  | 79/100 [00:09<00:02,  7.38it/s]\u001b[A\n",
      " 80%|████████  | 80/100 [00:09<00:02,  7.98it/s]\u001b[A\n",
      " 82%|████████▏ | 82/100 [00:09<00:01,  9.91it/s]\u001b[A\n",
      " 83%|████████▎ | 83/100 [00:09<00:01,  9.87it/s]\u001b[A\n",
      " 84%|████████▍ | 84/100 [00:09<00:01,  9.33it/s]\u001b[A\n",
      " 86%|████████▌ | 86/100 [00:09<00:01,  9.44it/s]\u001b[A\n",
      " 87%|████████▋ | 87/100 [00:09<00:01,  9.08it/s]\u001b[A\n",
      " 88%|████████▊ | 88/100 [00:10<00:01,  8.24it/s]\u001b[A\n",
      " 89%|████████▉ | 89/100 [00:10<00:01,  6.69it/s]\u001b[A\n",
      " 90%|█████████ | 90/100 [00:10<00:01,  7.06it/s]\u001b[A\n",
      " 91%|█████████ | 91/100 [00:10<00:01,  6.35it/s]\u001b[A\n",
      " 92%|█████████▏| 92/100 [00:10<00:01,  6.41it/s]\u001b[A\n",
      " 93%|█████████▎| 93/100 [00:10<00:01,  6.86it/s]\u001b[A\n",
      " 94%|█████████▍| 94/100 [00:11<00:00,  6.82it/s]\u001b[A\n",
      " 95%|█████████▌| 95/100 [00:11<00:00,  7.15it/s]\u001b[A\n",
      " 96%|█████████▌| 96/100 [00:11<00:00,  6.94it/s]\u001b[A\n",
      " 97%|█████████▋| 97/100 [00:11<00:00,  6.84it/s]\u001b[A\n",
      " 98%|█████████▊| 98/100 [00:11<00:00,  5.83it/s]\u001b[A\n",
      " 99%|█████████▉| 99/100 [00:11<00:00,  6.65it/s]\u001b[A\n",
      "100%|██████████| 100/100 [00:12<00:00,  6.64it/s]\u001b[A\n",
      "                                                  \n",
      " 40%|████      | 762/1905 [05:17<06:04,  3.14it/s][A\n",
      "                                                 \u001b[A"
     ]
    },
    {
     "name": "stdout",
     "output_type": "stream",
     "text": [
      "{'eval_loss': 0.14918918907642365, 'eval_f1': 0.9201353382009939, 'eval_roc_auc': 0.9395855998455869, 'eval_accuracy': 0.8525, 'eval_runtime': 12.1397, 'eval_samples_per_second': 65.899, 'eval_steps_per_second': 8.237, 'epoch': 2.0}\n"
     ]
    },
    {
     "name": "stderr",
     "output_type": "stream",
     "text": [
      " 52%|█████▏    | 1000/1905 [06:50<05:37,  2.68it/s] "
     ]
    },
    {
     "name": "stdout",
     "output_type": "stream",
     "text": [
      "{'loss': 0.1008, 'learning_rate': 9.501312335958006e-06, 'epoch': 2.62}\n"
     ]
    },
    {
     "name": "stderr",
     "output_type": "stream",
     "text": [
      " 60%|██████    | 1143/1905 [07:45<03:31,  3.61it/s]\n",
      "  0%|          | 0/100 [00:00<?, ?it/s]\u001b[A\n",
      "  3%|▎         | 3/100 [00:00<00:07, 13.80it/s]\u001b[A\n",
      "  5%|▌         | 5/100 [00:00<00:08, 11.00it/s]\u001b[A\n",
      "  7%|▋         | 7/100 [00:00<00:09,  9.40it/s]\u001b[A\n",
      "  8%|▊         | 8/100 [00:00<00:10,  9.07it/s]\u001b[A\n",
      "  9%|▉         | 9/100 [00:00<00:09,  9.25it/s]\u001b[A\n",
      " 10%|█         | 10/100 [00:01<00:09,  9.43it/s]\u001b[A\n",
      " 11%|█         | 11/100 [00:01<00:09,  9.05it/s]\u001b[A\n",
      " 13%|█▎        | 13/100 [00:01<00:08, 10.13it/s]\u001b[A\n",
      " 15%|█▌        | 15/100 [00:01<00:08, 10.11it/s]\u001b[A\n",
      " 17%|█▋        | 17/100 [00:01<00:08,  9.37it/s]\u001b[A\n",
      " 18%|█▊        | 18/100 [00:01<00:08,  9.47it/s]\u001b[A\n",
      " 19%|█▉        | 19/100 [00:02<00:09,  8.60it/s]\u001b[A\n",
      " 21%|██        | 21/100 [00:02<00:08,  9.59it/s]\u001b[A\n",
      " 22%|██▏       | 22/100 [00:02<00:08,  9.24it/s]\u001b[A\n",
      " 23%|██▎       | 23/100 [00:02<00:08,  9.38it/s]\u001b[A\n",
      " 25%|██▌       | 25/100 [00:02<00:07,  9.93it/s]\u001b[A\n",
      " 26%|██▌       | 26/100 [00:02<00:07,  9.50it/s]\u001b[A\n",
      " 27%|██▋       | 27/100 [00:02<00:07,  9.57it/s]\u001b[A\n",
      " 29%|██▉       | 29/100 [00:03<00:07,  9.38it/s]\u001b[A\n",
      " 30%|███       | 30/100 [00:03<00:08,  8.17it/s]\u001b[A\n",
      " 32%|███▏      | 32/100 [00:03<00:07,  8.75it/s]\u001b[A\n",
      " 34%|███▍      | 34/100 [00:03<00:07,  8.78it/s]\u001b[A\n",
      " 35%|███▌      | 35/100 [00:03<00:08,  7.93it/s]\u001b[A\n",
      " 37%|███▋      | 37/100 [00:03<00:06,  9.22it/s]\u001b[A\n",
      " 38%|███▊      | 38/100 [00:04<00:06,  9.36it/s]\u001b[A\n",
      " 40%|████      | 40/100 [00:04<00:05, 10.41it/s]\u001b[A\n",
      " 42%|████▏     | 42/100 [00:04<00:05, 10.12it/s]\u001b[A\n",
      " 44%|████▍     | 44/100 [00:04<00:05,  9.67it/s]\u001b[A\n",
      " 46%|████▌     | 46/100 [00:04<00:05,  9.99it/s]\u001b[A\n",
      " 48%|████▊     | 48/100 [00:05<00:05, 10.00it/s]\u001b[A\n",
      " 50%|█████     | 50/100 [00:05<00:05,  9.34it/s]\u001b[A\n",
      " 51%|█████     | 51/100 [00:05<00:05,  9.43it/s]\u001b[A\n",
      " 52%|█████▏    | 52/100 [00:05<00:05,  9.15it/s]\u001b[A\n",
      " 53%|█████▎    | 53/100 [00:05<00:05,  8.89it/s]\u001b[A\n",
      " 54%|█████▍    | 54/100 [00:05<00:05,  9.09it/s]\u001b[A\n",
      " 55%|█████▌    | 55/100 [00:05<00:04,  9.31it/s]\u001b[A\n",
      " 56%|█████▌    | 56/100 [00:05<00:04,  8.95it/s]\u001b[A\n",
      " 57%|█████▋    | 57/100 [00:06<00:05,  7.72it/s]\u001b[A\n",
      " 58%|█████▊    | 58/100 [00:06<00:05,  7.89it/s]\u001b[A\n",
      " 59%|█████▉    | 59/100 [00:06<00:05,  7.91it/s]\u001b[A\n",
      " 60%|██████    | 60/100 [00:06<00:04,  8.39it/s]\u001b[A\n",
      " 61%|██████    | 61/100 [00:06<00:04,  8.31it/s]\u001b[A\n",
      " 62%|██████▏   | 62/100 [00:06<00:04,  8.69it/s]\u001b[A\n",
      " 63%|██████▎   | 63/100 [00:06<00:04,  7.49it/s]\u001b[A\n",
      " 64%|██████▍   | 64/100 [00:07<00:04,  7.69it/s]\u001b[A\n",
      " 65%|██████▌   | 65/100 [00:07<00:04,  7.23it/s]\u001b[A\n",
      " 67%|██████▋   | 67/100 [00:07<00:03,  8.32it/s]\u001b[A\n",
      " 68%|██████▊   | 68/100 [00:07<00:04,  6.82it/s]\u001b[A\n",
      " 69%|██████▉   | 69/100 [00:07<00:04,  7.11it/s]\u001b[A\n",
      " 70%|███████   | 70/100 [00:07<00:04,  7.01it/s]\u001b[A\n",
      " 71%|███████   | 71/100 [00:08<00:04,  6.57it/s]\u001b[A\n",
      " 72%|███████▏  | 72/100 [00:08<00:04,  6.29it/s]\u001b[A\n",
      " 73%|███████▎  | 73/100 [00:08<00:03,  6.76it/s]\u001b[A\n",
      " 74%|███████▍  | 74/100 [00:08<00:03,  7.43it/s]\u001b[A\n",
      " 75%|███████▌  | 75/100 [00:08<00:03,  6.83it/s]\u001b[A\n",
      " 76%|███████▌  | 76/100 [00:08<00:03,  6.75it/s]\u001b[A\n",
      " 77%|███████▋  | 77/100 [00:08<00:03,  6.69it/s]\u001b[A\n",
      " 78%|███████▊  | 78/100 [00:09<00:03,  6.66it/s]\u001b[A\n",
      " 80%|████████  | 80/100 [00:09<00:02,  7.91it/s]\u001b[A\n",
      " 82%|████████▏ | 82/100 [00:09<00:01,  9.51it/s]\u001b[A\n",
      " 83%|████████▎ | 83/100 [00:09<00:01,  9.58it/s]\u001b[A\n",
      " 84%|████████▍ | 84/100 [00:09<00:01,  9.19it/s]\u001b[A\n",
      " 86%|████████▌ | 86/100 [00:09<00:01,  9.37it/s]\u001b[A\n",
      " 87%|████████▋ | 87/100 [00:09<00:01,  9.05it/s]\u001b[A\n",
      " 88%|████████▊ | 88/100 [00:10<00:01,  8.28it/s]\u001b[A\n",
      " 89%|████████▉ | 89/100 [00:10<00:01,  6.73it/s]\u001b[A\n",
      " 90%|█████████ | 90/100 [00:10<00:01,  7.07it/s]\u001b[A\n",
      " 91%|█████████ | 91/100 [00:10<00:01,  6.35it/s]\u001b[A\n",
      " 92%|█████████▏| 92/100 [00:10<00:01,  6.41it/s]\u001b[A\n",
      " 93%|█████████▎| 93/100 [00:10<00:01,  6.86it/s]\u001b[A\n",
      " 94%|█████████▍| 94/100 [00:11<00:00,  6.84it/s]\u001b[A\n",
      " 95%|█████████▌| 95/100 [00:11<00:00,  7.18it/s]\u001b[A\n",
      " 96%|█████████▌| 96/100 [00:11<00:00,  6.91it/s]\u001b[A\n",
      " 97%|█████████▋| 97/100 [00:11<00:00,  6.80it/s]\u001b[A\n",
      " 98%|█████████▊| 98/100 [00:11<00:00,  5.82it/s]\u001b[A\n",
      " 99%|█████████▉| 99/100 [00:11<00:00,  6.63it/s]\u001b[A\n",
      "100%|██████████| 100/100 [00:12<00:00,  6.63it/s]\u001b[A\n",
      "                                                   \n",
      " 60%|██████    | 1143/1905 [07:57<03:31,  3.61it/s]A\n",
      "                                                 \u001b[A"
     ]
    },
    {
     "name": "stdout",
     "output_type": "stream",
     "text": [
      "{'eval_loss': 0.1345946192741394, 'eval_f1': 0.9279568449839622, 'eval_roc_auc': 0.9516486013557925, 'eval_accuracy': 0.86625, 'eval_runtime': 12.137, 'eval_samples_per_second': 65.914, 'eval_steps_per_second': 8.239, 'epoch': 3.0}\n"
     ]
    },
    {
     "name": "stderr",
     "output_type": "stream",
     "text": [
      " 79%|███████▊  | 1500/1905 [10:13<02:12,  3.06it/s]"
     ]
    },
    {
     "name": "stdout",
     "output_type": "stream",
     "text": [
      "{'loss': 0.0385, 'learning_rate': 4.251968503937008e-06, 'epoch': 3.94}\n"
     ]
    },
    {
     "name": "stderr",
     "output_type": "stream",
     "text": [
      " 80%|████████  | 1524/1905 [10:23<02:41,  2.36it/s]\n",
      "  0%|          | 0/100 [00:00<?, ?it/s]\u001b[A\n",
      "  3%|▎         | 3/100 [00:00<00:07, 13.85it/s]\u001b[A\n",
      "  5%|▌         | 5/100 [00:00<00:08, 11.08it/s]\u001b[A\n",
      "  7%|▋         | 7/100 [00:00<00:09,  9.36it/s]\u001b[A\n",
      "  8%|▊         | 8/100 [00:00<00:10,  9.04it/s]\u001b[A\n",
      "  9%|▉         | 9/100 [00:00<00:09,  9.23it/s]\u001b[A\n",
      " 10%|█         | 10/100 [00:01<00:09,  9.41it/s]\u001b[A\n",
      " 11%|█         | 11/100 [00:01<00:09,  8.98it/s]\u001b[A\n",
      " 13%|█▎        | 13/100 [00:01<00:08, 10.08it/s]\u001b[A\n",
      " 14%|█▍        | 14/100 [00:01<00:08, 10.01it/s]\u001b[A\n",
      " 15%|█▌        | 15/100 [00:01<00:08,  9.98it/s]\u001b[A\n",
      " 16%|█▌        | 16/100 [00:01<00:08,  9.37it/s]\u001b[A\n",
      " 17%|█▋        | 17/100 [00:01<00:09,  9.02it/s]\u001b[A\n",
      " 18%|█▊        | 18/100 [00:01<00:08,  9.20it/s]\u001b[A\n",
      " 19%|█▉        | 19/100 [00:02<00:09,  8.22it/s]\u001b[A\n",
      " 21%|██        | 21/100 [00:02<00:08,  9.47it/s]\u001b[A\n",
      " 22%|██▏       | 22/100 [00:02<00:08,  9.11it/s]\u001b[A\n",
      " 23%|██▎       | 23/100 [00:02<00:08,  9.29it/s]\u001b[A\n",
      " 25%|██▌       | 25/100 [00:02<00:07,  9.92it/s]\u001b[A\n",
      " 26%|██▌       | 26/100 [00:02<00:07,  9.46it/s]\u001b[A\n",
      " 27%|██▋       | 27/100 [00:02<00:07,  9.58it/s]\u001b[A\n",
      " 29%|██▉       | 29/100 [00:03<00:07,  9.38it/s]\u001b[A\n",
      " 30%|███       | 30/100 [00:03<00:08,  8.16it/s]\u001b[A\n",
      " 32%|███▏      | 32/100 [00:03<00:07,  8.76it/s]\u001b[A\n",
      " 34%|███▍      | 34/100 [00:03<00:07,  8.79it/s]\u001b[A\n",
      " 35%|███▌      | 35/100 [00:03<00:08,  7.95it/s]\u001b[A\n",
      " 37%|███▋      | 37/100 [00:03<00:06,  9.25it/s]\u001b[A\n",
      " 38%|███▊      | 38/100 [00:04<00:06,  9.38it/s]\u001b[A\n",
      " 40%|████      | 40/100 [00:04<00:05, 10.41it/s]\u001b[A\n",
      " 42%|████▏     | 42/100 [00:04<00:05, 10.15it/s]\u001b[A\n",
      " 44%|████▍     | 44/100 [00:04<00:05,  9.71it/s]\u001b[A\n",
      " 46%|████▌     | 46/100 [00:04<00:05, 10.05it/s]\u001b[A\n",
      " 48%|████▊     | 48/100 [00:05<00:05, 10.02it/s]\u001b[A\n",
      " 50%|█████     | 50/100 [00:05<00:05,  9.38it/s]\u001b[A\n",
      " 51%|█████     | 51/100 [00:05<00:05,  9.48it/s]\u001b[A\n",
      " 52%|█████▏    | 52/100 [00:05<00:05,  9.22it/s]\u001b[A\n",
      " 53%|█████▎    | 53/100 [00:05<00:05,  8.96it/s]\u001b[A\n",
      " 54%|█████▍    | 54/100 [00:05<00:05,  9.12it/s]\u001b[A\n",
      " 56%|█████▌    | 56/100 [00:05<00:04,  9.10it/s]\u001b[A\n",
      " 57%|█████▋    | 57/100 [00:06<00:05,  7.98it/s]\u001b[A\n",
      " 58%|█████▊    | 58/100 [00:06<00:05,  8.05it/s]\u001b[A\n",
      " 59%|█████▉    | 59/100 [00:06<00:05,  8.06it/s]\u001b[A\n",
      " 60%|██████    | 60/100 [00:06<00:04,  8.48it/s]\u001b[A\n",
      " 61%|██████    | 61/100 [00:06<00:04,  8.37it/s]\u001b[A\n",
      " 62%|██████▏   | 62/100 [00:06<00:04,  8.71it/s]\u001b[A\n",
      " 63%|██████▎   | 63/100 [00:06<00:04,  7.53it/s]\u001b[A\n",
      " 64%|██████▍   | 64/100 [00:07<00:04,  7.71it/s]\u001b[A\n",
      " 65%|██████▌   | 65/100 [00:07<00:04,  7.28it/s]\u001b[A\n",
      " 67%|██████▋   | 67/100 [00:07<00:03,  8.36it/s]\u001b[A\n",
      " 68%|██████▊   | 68/100 [00:07<00:04,  6.87it/s]\u001b[A\n",
      " 69%|██████▉   | 69/100 [00:07<00:04,  7.14it/s]\u001b[A\n",
      " 70%|███████   | 70/100 [00:07<00:04,  7.03it/s]\u001b[A\n",
      " 71%|███████   | 71/100 [00:08<00:04,  6.59it/s]\u001b[A\n",
      " 72%|███████▏  | 72/100 [00:08<00:04,  6.29it/s]\u001b[A\n",
      " 73%|███████▎  | 73/100 [00:08<00:03,  6.76it/s]\u001b[A\n",
      " 74%|███████▍  | 74/100 [00:08<00:03,  7.41it/s]\u001b[A\n",
      " 75%|███████▌  | 75/100 [00:08<00:03,  6.82it/s]\u001b[A\n",
      " 76%|███████▌  | 76/100 [00:08<00:03,  6.74it/s]\u001b[A\n",
      " 77%|███████▋  | 77/100 [00:08<00:03,  6.70it/s]\u001b[A\n",
      " 78%|███████▊  | 78/100 [00:09<00:03,  6.69it/s]\u001b[A\n",
      " 80%|████████  | 80/100 [00:09<00:02,  7.94it/s]\u001b[A\n",
      " 82%|████████▏ | 82/100 [00:09<00:01,  9.56it/s]\u001b[A\n",
      " 83%|████████▎ | 83/100 [00:09<00:01,  9.63it/s]\u001b[A\n",
      " 84%|████████▍ | 84/100 [00:09<00:01,  9.23it/s]\u001b[A\n",
      " 86%|████████▌ | 86/100 [00:09<00:01,  9.40it/s]\u001b[A\n",
      " 87%|████████▋ | 87/100 [00:09<00:01,  9.06it/s]\u001b[A\n",
      " 88%|████████▊ | 88/100 [00:10<00:01,  8.25it/s]\u001b[A\n",
      " 89%|████████▉ | 89/100 [00:10<00:01,  6.72it/s]\u001b[A\n",
      " 90%|█████████ | 90/100 [00:10<00:01,  7.06it/s]\u001b[A\n",
      " 91%|█████████ | 91/100 [00:10<00:01,  6.33it/s]\u001b[A\n",
      " 92%|█████████▏| 92/100 [00:10<00:01,  6.39it/s]\u001b[A\n",
      " 93%|█████████▎| 93/100 [00:10<00:01,  6.84it/s]\u001b[A\n",
      " 94%|█████████▍| 94/100 [00:11<00:00,  6.83it/s]\u001b[A\n",
      " 95%|█████████▌| 95/100 [00:11<00:00,  7.16it/s]\u001b[A\n",
      " 96%|█████████▌| 96/100 [00:11<00:00,  6.93it/s]\u001b[A\n",
      " 97%|█████████▋| 97/100 [00:11<00:00,  6.78it/s]\u001b[A\n",
      " 98%|█████████▊| 98/100 [00:11<00:00,  5.79it/s]\u001b[A\n",
      " 99%|█████████▉| 99/100 [00:11<00:00,  6.61it/s]\u001b[A\n",
      "100%|██████████| 100/100 [00:12<00:00,  6.61it/s]\u001b[A\n",
      "                                                   \n",
      " 80%|████████  | 1524/1905 [10:35<02:41,  2.36it/s]A\n",
      "                                                 \u001b[A"
     ]
    },
    {
     "name": "stdout",
     "output_type": "stream",
     "text": [
      "{'eval_loss': 0.1539347618818283, 'eval_f1': 0.9332828420197249, 'eval_roc_auc': 0.9543375297253321, 'eval_accuracy': 0.86875, 'eval_runtime': 12.1395, 'eval_samples_per_second': 65.9, 'eval_steps_per_second': 8.238, 'epoch': 4.0}\n"
     ]
    },
    {
     "name": "stderr",
     "output_type": "stream",
     "text": [
      "100%|██████████| 1905/1905 [13:02<00:00,  3.72it/s]\n",
      "  0%|          | 0/100 [00:00<?, ?it/s]\u001b[A\n",
      "  3%|▎         | 3/100 [00:00<00:06, 13.91it/s]\u001b[A\n",
      "  5%|▌         | 5/100 [00:00<00:08, 11.00it/s]\u001b[A\n",
      "  7%|▋         | 7/100 [00:00<00:09,  9.37it/s]\u001b[A\n",
      "  8%|▊         | 8/100 [00:00<00:10,  9.04it/s]\u001b[A\n",
      "  9%|▉         | 9/100 [00:00<00:09,  9.24it/s]\u001b[A\n",
      " 10%|█         | 10/100 [00:01<00:09,  9.42it/s]\u001b[A\n",
      " 11%|█         | 11/100 [00:01<00:09,  9.06it/s]\u001b[A\n",
      " 13%|█▎        | 13/100 [00:01<00:08, 10.13it/s]\u001b[A\n",
      " 15%|█▌        | 15/100 [00:01<00:08, 10.11it/s]\u001b[A\n",
      " 17%|█▋        | 17/100 [00:01<00:08,  9.35it/s]\u001b[A\n",
      " 18%|█▊        | 18/100 [00:01<00:08,  9.41it/s]\u001b[A\n",
      " 19%|█▉        | 19/100 [00:02<00:09,  8.56it/s]\u001b[A\n",
      " 21%|██        | 21/100 [00:02<00:08,  9.56it/s]\u001b[A\n",
      " 22%|██▏       | 22/100 [00:02<00:08,  9.22it/s]\u001b[A\n",
      " 23%|██▎       | 23/100 [00:02<00:08,  9.39it/s]\u001b[A\n",
      " 25%|██▌       | 25/100 [00:02<00:07,  9.96it/s]\u001b[A\n",
      " 26%|██▌       | 26/100 [00:02<00:07,  9.51it/s]\u001b[A\n",
      " 28%|██▊       | 28/100 [00:02<00:07,  9.76it/s]\u001b[A\n",
      " 29%|██▉       | 29/100 [00:03<00:07,  9.35it/s]\u001b[A\n",
      " 30%|███       | 30/100 [00:03<00:08,  8.12it/s]\u001b[A\n",
      " 32%|███▏      | 32/100 [00:03<00:07,  8.75it/s]\u001b[A\n",
      " 34%|███▍      | 34/100 [00:03<00:07,  8.78it/s]\u001b[A\n",
      " 35%|███▌      | 35/100 [00:03<00:08,  7.92it/s]\u001b[A\n",
      " 37%|███▋      | 37/100 [00:03<00:06,  9.23it/s]\u001b[A\n",
      " 38%|███▊      | 38/100 [00:04<00:06,  9.35it/s]\u001b[A\n",
      " 40%|████      | 40/100 [00:04<00:05, 10.39it/s]\u001b[A\n",
      " 42%|████▏     | 42/100 [00:04<00:05, 10.14it/s]\u001b[A\n",
      " 44%|████▍     | 44/100 [00:04<00:05,  9.70it/s]\u001b[A\n",
      " 46%|████▌     | 46/100 [00:04<00:05, 10.05it/s]\u001b[A\n",
      " 48%|████▊     | 48/100 [00:05<00:05, 10.02it/s]\u001b[A\n",
      " 50%|█████     | 50/100 [00:05<00:05,  9.35it/s]\u001b[A\n",
      " 51%|█████     | 51/100 [00:05<00:05,  9.45it/s]\u001b[A\n",
      " 52%|█████▏    | 52/100 [00:05<00:05,  9.16it/s]\u001b[A\n",
      " 53%|█████▎    | 53/100 [00:05<00:05,  8.90it/s]\u001b[A\n",
      " 54%|█████▍    | 54/100 [00:05<00:05,  9.08it/s]\u001b[A\n",
      " 55%|█████▌    | 55/100 [00:05<00:04,  9.29it/s]\u001b[A\n",
      " 56%|█████▌    | 56/100 [00:05<00:04,  8.89it/s]\u001b[A\n",
      " 57%|█████▋    | 57/100 [00:06<00:05,  7.65it/s]\u001b[A\n",
      " 58%|█████▊    | 58/100 [00:06<00:05,  7.83it/s]\u001b[A\n",
      " 59%|█████▉    | 59/100 [00:06<00:05,  7.91it/s]\u001b[A\n",
      " 60%|██████    | 60/100 [00:06<00:04,  8.41it/s]\u001b[A\n",
      " 61%|██████    | 61/100 [00:06<00:04,  8.34it/s]\u001b[A\n",
      " 62%|██████▏   | 62/100 [00:06<00:04,  8.72it/s]\u001b[A\n",
      " 63%|██████▎   | 63/100 [00:06<00:04,  7.49it/s]\u001b[A\n",
      " 64%|██████▍   | 64/100 [00:07<00:04,  7.71it/s]\u001b[A\n",
      " 65%|██████▌   | 65/100 [00:07<00:04,  7.28it/s]\u001b[A\n",
      " 67%|██████▋   | 67/100 [00:07<00:03,  8.39it/s]\u001b[A\n",
      " 68%|██████▊   | 68/100 [00:07<00:04,  6.87it/s]\u001b[A\n",
      " 69%|██████▉   | 69/100 [00:07<00:04,  7.14it/s]\u001b[A\n",
      " 70%|███████   | 70/100 [00:07<00:04,  7.06it/s]\u001b[A\n",
      " 71%|███████   | 71/100 [00:08<00:04,  6.61it/s]\u001b[A\n",
      " 72%|███████▏  | 72/100 [00:08<00:04,  6.32it/s]\u001b[A\n",
      " 73%|███████▎  | 73/100 [00:08<00:03,  6.80it/s]\u001b[A\n",
      " 74%|███████▍  | 74/100 [00:08<00:03,  7.45it/s]\u001b[A\n",
      " 75%|███████▌  | 75/100 [00:08<00:03,  6.84it/s]\u001b[A\n",
      " 76%|███████▌  | 76/100 [00:08<00:03,  6.75it/s]\u001b[A\n",
      " 77%|███████▋  | 77/100 [00:08<00:03,  6.71it/s]\u001b[A\n",
      " 78%|███████▊  | 78/100 [00:09<00:03,  6.69it/s]\u001b[A\n",
      " 80%|████████  | 80/100 [00:09<00:02,  7.94it/s]\u001b[A\n",
      " 82%|████████▏ | 82/100 [00:09<00:01,  9.52it/s]\u001b[A\n",
      " 83%|████████▎ | 83/100 [00:09<00:01,  9.59it/s]\u001b[A\n",
      " 84%|████████▍ | 84/100 [00:09<00:01,  9.20it/s]\u001b[A\n",
      " 86%|████████▌ | 86/100 [00:09<00:01,  9.42it/s]\u001b[A\n",
      " 87%|████████▋ | 87/100 [00:09<00:01,  9.08it/s]\u001b[A\n",
      " 88%|████████▊ | 88/100 [00:10<00:01,  8.28it/s]\u001b[A\n",
      " 89%|████████▉ | 89/100 [00:10<00:01,  6.72it/s]\u001b[A\n",
      " 90%|█████████ | 90/100 [00:10<00:01,  7.06it/s]\u001b[A\n",
      " 91%|█████████ | 91/100 [00:10<00:01,  6.36it/s]\u001b[A\n",
      " 92%|█████████▏| 92/100 [00:10<00:01,  6.41it/s]\u001b[A\n",
      " 93%|█████████▎| 93/100 [00:10<00:01,  6.87it/s]\u001b[A\n",
      " 94%|█████████▍| 94/100 [00:11<00:00,  6.84it/s]\u001b[A\n",
      " 95%|█████████▌| 95/100 [00:11<00:00,  7.16it/s]\u001b[A\n",
      " 96%|█████████▌| 96/100 [00:11<00:00,  6.94it/s]\u001b[A\n",
      " 97%|█████████▋| 97/100 [00:11<00:00,  6.84it/s]\u001b[A\n",
      " 98%|█████████▊| 98/100 [00:11<00:00,  5.84it/s]\u001b[A\n",
      " 99%|█████████▉| 99/100 [00:11<00:00,  6.65it/s]\u001b[A\n",
      "100%|██████████| 100/100 [00:11<00:00,  6.63it/s]\u001b[A\n",
      "                                                   \n",
      "100%|██████████| 1905/1905 [13:14<00:00,  3.72it/s]A\n",
      "100%|██████████| 1905/1905 [13:14<00:00,  2.40it/s]A"
     ]
    },
    {
     "name": "stdout",
     "output_type": "stream",
     "text": [
      "{'eval_loss': 0.15995360910892487, 'eval_f1': 0.9344935829831197, 'eval_roc_auc': 0.953860251743541, 'eval_accuracy': 0.8725, 'eval_runtime': 12.1211, 'eval_samples_per_second': 66.001, 'eval_steps_per_second': 8.25, 'epoch': 5.0}\n",
      "{'train_runtime': 794.8816, 'train_samples_per_second': 19.129, 'train_steps_per_second': 2.397, 'train_loss': 0.10925025113924282, 'epoch': 5.0}\n"
     ]
    },
    {
     "name": "stderr",
     "output_type": "stream",
     "text": [
      "\n"
     ]
    },
    {
     "data": {
      "text/plain": [
       "TrainOutput(global_step=1905, training_loss=0.10925025113924282, metrics={'train_runtime': 794.8816, 'train_samples_per_second': 19.129, 'train_steps_per_second': 2.397, 'train_loss': 0.10925025113924282, 'epoch': 5.0})"
      ]
     },
     "execution_count": 29,
     "metadata": {},
     "output_type": "execute_result"
    }
   ],
   "source": [
    "#!g2.1\n",
    "trainer = Trainer(\n",
    "    model,\n",
    "    args,\n",
    "    train_dataset=tokenized_dataset[\"train\"],\n",
    "    eval_dataset=tokenized_dataset[\"test\"],\n",
    "    tokenizer=tokenizer,\n",
    "    compute_metrics=compute_metrics,\n",
    "    data_collator = data_collator\n",
    ")\n",
    "\n",
    "trainer.train()"
   ]
  },
  {
   "cell_type": "code",
   "execution_count": null,
   "id": "7b3be83f-db75-45f8-81aa-181bcc0c2e83",
   "metadata": {},
   "outputs": [],
   "source": []
  }
 ],
 "metadata": {
  "kernelspec": {
   "display_name": "DataSphere Kernel",
   "language": "python",
   "name": "python3"
  },
  "language_info": {
   "codemirror_mode": {
    "name": "ipython",
    "version": 3
   },
   "file_extension": ".py",
   "mimetype": "text/x-python",
   "name": "python",
   "nbconvert_exporter": "python",
   "pygments_lexer": "ipython3",
   "version": "3.7.7"
  },
  "notebookId": "c7f96300-cba7-4b39-a5ee-8459d39cdd53",
  "notebookPath": "Multilabel_class.ipynb"
 },
 "nbformat": 4,
 "nbformat_minor": 5
}
