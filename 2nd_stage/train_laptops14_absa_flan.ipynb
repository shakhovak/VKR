{
 "cells": [
  {
   "cell_type": "markdown",
   "metadata": {},
   "source": [
    "# FLAN-T5 laptops14 ABSA (Aspect + Polarity)"
   ]
  },
  {
   "cell_type": "code",
   "execution_count": 1,
   "metadata": {
    "execution": {
     "iopub.execute_input": "2024-03-12T18:34:13.635179Z",
     "iopub.status.busy": "2024-03-12T18:34:13.634693Z",
     "iopub.status.idle": "2024-03-12T18:34:13.652734Z",
     "shell.execute_reply": "2024-03-12T18:34:13.652092Z",
     "shell.execute_reply.started": "2024-03-12T18:34:13.635157Z"
    },
    "tags": []
   },
   "outputs": [],
   "source": [
    "#%pip install --upgrade pip"
   ]
  },
  {
   "cell_type": "code",
   "execution_count": 2,
   "metadata": {
    "execution": {
     "iopub.execute_input": "2024-03-12T18:34:13.745907Z",
     "iopub.status.busy": "2024-03-12T18:34:13.745629Z",
     "iopub.status.idle": "2024-03-12T18:34:13.755500Z",
     "shell.execute_reply": "2024-03-12T18:34:13.754929Z",
     "shell.execute_reply.started": "2024-03-12T18:34:13.745890Z"
    },
    "tags": []
   },
   "outputs": [],
   "source": [
    "#%pip install transformers"
   ]
  },
  {
   "cell_type": "code",
   "execution_count": 3,
   "metadata": {
    "execution": {
     "iopub.execute_input": "2024-03-12T18:34:13.841639Z",
     "iopub.status.busy": "2024-03-12T18:34:13.841250Z",
     "iopub.status.idle": "2024-03-12T18:34:13.851344Z",
     "shell.execute_reply": "2024-03-12T18:34:13.850780Z",
     "shell.execute_reply.started": "2024-03-12T18:34:13.841620Z"
    },
    "tags": []
   },
   "outputs": [],
   "source": [
    "#%pip install accelerate -U"
   ]
  },
  {
   "cell_type": "code",
   "execution_count": 4,
   "metadata": {
    "execution": {
     "iopub.execute_input": "2024-03-12T18:34:13.957285Z",
     "iopub.status.busy": "2024-03-12T18:34:13.956844Z",
     "iopub.status.idle": "2024-03-12T18:34:13.966749Z",
     "shell.execute_reply": "2024-03-12T18:34:13.966140Z",
     "shell.execute_reply.started": "2024-03-12T18:34:13.957255Z"
    },
    "tags": []
   },
   "outputs": [],
   "source": [
    "#%pip install datasets"
   ]
  },
  {
   "cell_type": "code",
   "execution_count": 5,
   "metadata": {
    "execution": {
     "iopub.execute_input": "2024-03-12T18:34:14.072622Z",
     "iopub.status.busy": "2024-03-12T18:34:14.072056Z",
     "iopub.status.idle": "2024-03-12T18:34:14.080962Z",
     "shell.execute_reply": "2024-03-12T18:34:14.080449Z",
     "shell.execute_reply.started": "2024-03-12T18:34:14.072603Z"
    }
   },
   "outputs": [],
   "source": [
    "#%pip install git+https://github.com/dask/s3fs"
   ]
  },
  {
   "cell_type": "code",
   "execution_count": 6,
   "metadata": {
    "execution": {
     "iopub.execute_input": "2024-03-12T18:34:14.186838Z",
     "iopub.status.busy": "2024-03-12T18:34:14.186555Z",
     "iopub.status.idle": "2024-03-12T18:34:14.194378Z",
     "shell.execute_reply": "2024-03-12T18:34:14.193677Z",
     "shell.execute_reply.started": "2024-03-12T18:34:14.186821Z"
    }
   },
   "outputs": [],
   "source": [
    "#%pip install wandb"
   ]
  },
  {
   "cell_type": "code",
   "execution_count": 7,
   "metadata": {
    "execution": {
     "iopub.execute_input": "2024-03-12T18:34:14.299553Z",
     "iopub.status.busy": "2024-03-12T18:34:14.299206Z",
     "iopub.status.idle": "2024-03-12T18:34:14.307273Z",
     "shell.execute_reply": "2024-03-12T18:34:14.306814Z",
     "shell.execute_reply.started": "2024-03-12T18:34:14.299536Z"
    }
   },
   "outputs": [],
   "source": [
    "#%pip install torch"
   ]
  },
  {
   "cell_type": "code",
   "execution_count": 8,
   "metadata": {
    "execution": {
     "iopub.execute_input": "2024-03-12T18:34:14.412764Z",
     "iopub.status.busy": "2024-03-12T18:34:14.412504Z",
     "iopub.status.idle": "2024-03-12T18:34:37.954461Z",
     "shell.execute_reply": "2024-03-12T18:34:37.953767Z",
     "shell.execute_reply.started": "2024-03-12T18:34:14.412747Z"
    },
    "tags": []
   },
   "outputs": [
    {
     "name": "stderr",
     "output_type": "stream",
     "text": [
      "/home/jupyter/.local/lib/python3.10/site-packages/transformers/utils/hub.py:124: FutureWarning: Using `TRANSFORMERS_CACHE` is deprecated and will be removed in v5 of Transformers. Use `HF_HOME` instead.\n",
      "  warnings.warn(\n",
      "2024-03-12 18:34:32.561977: W tensorflow/compiler/tf2tensorrt/utils/py_utils.cc:38] TF-TRT Warning: Could not find TensorRT\n"
     ]
    }
   ],
   "source": [
    "import pandas as pd\n",
    "import os\n",
    "import warnings\n",
    "from datasets import load_dataset\n",
    "import json\n",
    "import random\n",
    "from transformers import AutoTokenizer\n",
    "from datasets import concatenate_datasets\n",
    "from transformers import AutoModelForSeq2SeqLM\n",
    "from transformers import DataCollatorForSeq2Seq\n",
    "from huggingface_hub import HfFolder\n",
    "from transformers import Seq2SeqTrainer, Seq2SeqTrainingArguments\n",
    "import torch\n",
    "import wandb\n",
    "\n",
    "\n",
    "warnings.filterwarnings(\"ignore\")"
   ]
  },
  {
   "cell_type": "code",
   "execution_count": 9,
   "metadata": {
    "execution": {
     "iopub.execute_input": "2024-03-12T18:34:37.955721Z",
     "iopub.status.busy": "2024-03-12T18:34:37.955474Z",
     "iopub.status.idle": "2024-03-12T18:34:42.136405Z",
     "shell.execute_reply": "2024-03-12T18:34:42.135741Z",
     "shell.execute_reply.started": "2024-03-12T18:34:37.955704Z"
    },
    "tags": []
   },
   "outputs": [
    {
     "data": {
      "text/plain": [
       "DatasetDict({\n",
       "    trial: Dataset({\n",
       "        features: ['sentenceId', 'text', 'aspectTerms'],\n",
       "        num_rows: 100\n",
       "    })\n",
       "    train: Dataset({\n",
       "        features: ['sentenceId', 'text', 'aspectTerms'],\n",
       "        num_rows: 3045\n",
       "    })\n",
       "    test: Dataset({\n",
       "        features: ['sentenceId', 'text', 'aspectTerms'],\n",
       "        num_rows: 800\n",
       "    })\n",
       "})"
      ]
     },
     "execution_count": 9,
     "metadata": {},
     "output_type": "execute_result"
    }
   ],
   "source": [
    "raw_datasets = load_dataset(\"alexcadillon/SemEval2014Task4\", \"laptops\")\n",
    "raw_datasets"
   ]
  },
  {
   "cell_type": "code",
   "execution_count": 10,
   "metadata": {
    "execution": {
     "iopub.execute_input": "2024-03-12T18:34:42.137930Z",
     "iopub.status.busy": "2024-03-12T18:34:42.137575Z",
     "iopub.status.idle": "2024-03-12T18:34:42.148424Z",
     "shell.execute_reply": "2024-03-12T18:34:42.147785Z",
     "shell.execute_reply.started": "2024-03-12T18:34:42.137908Z"
    }
   },
   "outputs": [],
   "source": [
    "def preprocess_for_prompts(sample):\n",
    "    with open('prompts_absa.json') as fp:\n",
    "        template = json.load(fp)\n",
    "\n",
    "    num = random.randint(0, len(template)-1)\n",
    "    instruction =  template[str(num)]\n",
    "\n",
    "    sample[\"aspect_polarities_list\"] = \",\".join([f\"{item['term']}: {item['polarity']}\" for item in sample['aspectTerms']])\n",
    "    sample['aspect_polarities_output'] = f\"Answer: \\n{sample['aspect_polarities_list']}\"\n",
    "    sample[\"aspect_polarity_input\"] = (\n",
    "        f\"{instruction}\\n{sample['text']}\\n\"\n",
    "    )\n",
    "    return sample"
   ]
  },
  {
   "cell_type": "code",
   "execution_count": 11,
   "metadata": {
    "execution": {
     "iopub.execute_input": "2024-03-12T18:34:42.149804Z",
     "iopub.status.busy": "2024-03-12T18:34:42.149396Z",
     "iopub.status.idle": "2024-03-12T18:34:42.827295Z",
     "shell.execute_reply": "2024-03-12T18:34:42.826652Z",
     "shell.execute_reply.started": "2024-03-12T18:34:42.149780Z"
    }
   },
   "outputs": [
    {
     "name": "stderr",
     "output_type": "stream",
     "text": [
      "Parameter 'function'=<function preprocess_for_prompts at 0x7f2c95383c70> of the transform datasets.arrow_dataset.Dataset._map_single couldn't be hashed properly, a random hash was used instead. Make sure your transforms and parameters are serializable with pickle or dill for the dataset fingerprinting and caching to work. If you reuse this transform, the caching mechanism will consider it to be different from the previous calls and recompute everything. This warning is only showed once. Subsequent hashing failures won't be showed.\n"
     ]
    },
    {
     "data": {
      "application/vnd.jupyter.widget-view+json": {
       "model_id": "72ae927bd8114684984fdd515d0eecd8",
       "version_major": 2,
       "version_minor": 0
      },
      "text/plain": [
       "Map:   0%|          | 0/100 [00:00<?, ? examples/s]"
      ]
     },
     "metadata": {},
     "output_type": "display_data"
    },
    {
     "data": {
      "application/vnd.jupyter.widget-view+json": {
       "model_id": "e651b2c79f824ea0af706511dae33801",
       "version_major": 2,
       "version_minor": 0
      },
      "text/plain": [
       "Map:   0%|          | 0/3045 [00:00<?, ? examples/s]"
      ]
     },
     "metadata": {},
     "output_type": "display_data"
    },
    {
     "data": {
      "application/vnd.jupyter.widget-view+json": {
       "model_id": "3e8189a666984d03840bd3f9818772c2",
       "version_major": 2,
       "version_minor": 0
      },
      "text/plain": [
       "Map:   0%|          | 0/800 [00:00<?, ? examples/s]"
      ]
     },
     "metadata": {},
     "output_type": "display_data"
    },
    {
     "data": {
      "text/plain": [
       "{'sentenceId': '80',\n",
       " 'text': 'Great laptop that offers many great features!',\n",
       " 'aspectTerms': [{'term': 'features',\n",
       "   'polarity': 'positive',\n",
       "   'from': '36',\n",
       "   'to': '44'}],\n",
       " 'aspect_polarities_list': 'features: positive',\n",
       " 'aspect_polarities_output': 'Answer: \\nfeatures: positive',\n",
       " 'aspect_polarity_input': 'Can you tell me the aspects (explicit and implicit) and their sentiment polarity of the sentence below. Thank you!\\nGreat laptop that offers many great features!\\n'}"
      ]
     },
     "execution_count": 11,
     "metadata": {},
     "output_type": "execute_result"
    }
   ],
   "source": [
    "augmented_dataset = raw_datasets.map(preprocess_for_prompts)\n",
    "augmented_dataset['train'][10]"
   ]
  },
  {
   "cell_type": "code",
   "execution_count": 12,
   "metadata": {
    "execution": {
     "iopub.execute_input": "2024-03-12T18:34:42.828358Z",
     "iopub.status.busy": "2024-03-12T18:34:42.828091Z",
     "iopub.status.idle": "2024-03-12T18:34:43.146543Z",
     "shell.execute_reply": "2024-03-12T18:34:43.145948Z",
     "shell.execute_reply.started": "2024-03-12T18:34:42.828340Z"
    },
    "tags": []
   },
   "outputs": [],
   "source": [
    "model_id = \"google/flan-t5-base\"\n",
    "tokenizer = AutoTokenizer.from_pretrained(model_id)"
   ]
  },
  {
   "cell_type": "code",
   "execution_count": 13,
   "metadata": {
    "execution": {
     "iopub.execute_input": "2024-03-12T18:34:43.147491Z",
     "iopub.status.busy": "2024-03-12T18:34:43.147234Z",
     "iopub.status.idle": "2024-03-12T18:34:43.472843Z",
     "shell.execute_reply": "2024-03-12T18:34:43.472186Z",
     "shell.execute_reply.started": "2024-03-12T18:34:43.147474Z"
    },
    "tags": []
   },
   "outputs": [
    {
     "data": {
      "application/vnd.jupyter.widget-view+json": {
       "model_id": "4ea23574c65346d2a5dfd10fccd255b0",
       "version_major": 2,
       "version_minor": 0
      },
      "text/plain": [
       "Map:   0%|          | 0/3945 [00:00<?, ? examples/s]"
      ]
     },
     "metadata": {},
     "output_type": "display_data"
    },
    {
     "name": "stdout",
     "output_type": "stream",
     "text": [
      "Max source length: 122\n"
     ]
    },
    {
     "data": {
      "application/vnd.jupyter.widget-view+json": {
       "model_id": "dd4cf671e8f54675908f106cbc12c3c9",
       "version_major": 2,
       "version_minor": 0
      },
      "text/plain": [
       "Map:   0%|          | 0/3945 [00:00<?, ? examples/s]"
      ]
     },
     "metadata": {},
     "output_type": "display_data"
    },
    {
     "name": "stdout",
     "output_type": "stream",
     "text": [
      "Max target length: 76\n"
     ]
    }
   ],
   "source": [
    "# The maximum total input sequence length after tokenization.\n",
    "# Sequences longer than this will be truncated, sequences shorter will be padded.\n",
    "tokenized_inputs = concatenate_datasets(\n",
    "    [augmented_dataset[\"train\"], augmented_dataset[\"test\"], augmented_dataset[\"trial\"]],\n",
    ").map(\n",
    "    lambda x: tokenizer(x[\"aspect_polarity_input\"], truncation=True),\n",
    "    batched=True,\n",
    "    remove_columns=[\n",
    "        \"sentenceId\",\n",
    "        \"text\",\n",
    "        \"aspectTerms\",\n",
    "        \"aspect_polarities_list\",\n",
    "        \"aspect_polarities_output\",\n",
    "        \"aspect_polarity_input\",\n",
    "    ],\n",
    ")\n",
    "max_source_length = max([len(x) for x in tokenized_inputs[\"input_ids\"]])\n",
    "print(f\"Max source length: {max_source_length}\")\n",
    "\n",
    "# The maximum total sequence length for target text after tokenization.\n",
    "# Sequences longer than this will be truncated, sequences shorter will be padded.\"\n",
    "tokenized_targets = concatenate_datasets(\n",
    "    [augmented_dataset[\"train\"], augmented_dataset[\"test\"], augmented_dataset[\"trial\"]]\n",
    ").map(\n",
    "    lambda x: tokenizer(x[\"aspect_polarities_output\"], truncation=True),\n",
    "    batched=True,\n",
    "    remove_columns=[\n",
    "        \"sentenceId\",\n",
    "        \"text\",\n",
    "        \"aspectTerms\",\n",
    "        \"aspect_polarities_list\",\n",
    "        \"aspect_polarities_output\",\n",
    "        \"aspect_polarity_input\",\n",
    "    ],\n",
    ")\n",
    "max_target_length = max([len(x) for x in tokenized_targets[\"input_ids\"]])\n",
    "print(f\"Max target length: {max_target_length}\")"
   ]
  },
  {
   "cell_type": "code",
   "execution_count": 14,
   "metadata": {
    "execution": {
     "iopub.execute_input": "2024-03-12T18:34:43.473889Z",
     "iopub.status.busy": "2024-03-12T18:34:43.473624Z",
     "iopub.status.idle": "2024-03-12T18:34:44.182894Z",
     "shell.execute_reply": "2024-03-12T18:34:44.182226Z",
     "shell.execute_reply.started": "2024-03-12T18:34:43.473871Z"
    },
    "tags": []
   },
   "outputs": [
    {
     "data": {
      "application/vnd.jupyter.widget-view+json": {
       "model_id": "dd80f732bfcf4bfe9f3795aef0663e87",
       "version_major": 2,
       "version_minor": 0
      },
      "text/plain": [
       "Map:   0%|          | 0/100 [00:00<?, ? examples/s]"
      ]
     },
     "metadata": {},
     "output_type": "display_data"
    },
    {
     "data": {
      "application/vnd.jupyter.widget-view+json": {
       "model_id": "210c98980fe945268538c340cb6ac812",
       "version_major": 2,
       "version_minor": 0
      },
      "text/plain": [
       "Map:   0%|          | 0/3045 [00:00<?, ? examples/s]"
      ]
     },
     "metadata": {},
     "output_type": "display_data"
    },
    {
     "data": {
      "application/vnd.jupyter.widget-view+json": {
       "model_id": "7ae3fc6fb9c84e2aa8924a276e4439b8",
       "version_major": 2,
       "version_minor": 0
      },
      "text/plain": [
       "Map:   0%|          | 0/800 [00:00<?, ? examples/s]"
      ]
     },
     "metadata": {},
     "output_type": "display_data"
    },
    {
     "name": "stdout",
     "output_type": "stream",
     "text": [
      "Keys of tokenized dataset: ['input_ids', 'attention_mask', 'labels']\n"
     ]
    }
   ],
   "source": [
    "def preprocess_function(sample, padding=\"max_length\"):\n",
    "\n",
    "    model_inputs = tokenizer(\n",
    "        sample[\"aspect_polarity_input\"],\n",
    "        max_length=max_source_length,\n",
    "        padding=padding,\n",
    "        truncation=True,\n",
    "    )\n",
    "\n",
    "    # Tokenize targets with the `text_target` keyword argument\n",
    "    labels = tokenizer(\n",
    "        text_target=sample[\"aspect_polarities_output\"],\n",
    "        max_length=max_target_length,\n",
    "        padding=padding,\n",
    "        truncation=True,\n",
    "    )\n",
    "\n",
    "    # If we are padding here, replace all tokenizer.pad_token_id in the labels by -100 when we want to ignore\n",
    "    # padding in the loss.\n",
    "    if padding == \"max_length\":\n",
    "        labels[\"input_ids\"] = [\n",
    "            [(l if l != tokenizer.pad_token_id else -100) for l in label]\n",
    "            for label in labels[\"input_ids\"]\n",
    "        ]\n",
    "\n",
    "    model_inputs[\"labels\"] = labels[\"input_ids\"]\n",
    "    return model_inputs\n",
    "\n",
    "\n",
    "tokenized_dataset = augmented_dataset.map(\n",
    "    preprocess_function,\n",
    "    batched=True,\n",
    "    remove_columns=[\n",
    "        \"sentenceId\",\n",
    "        \"text\",\n",
    "        \"aspectTerms\",\n",
    "        \"aspect_polarities_list\",\n",
    "        \"aspect_polarities_output\",\n",
    "        \"aspect_polarity_input\",\n",
    "    ],\n",
    ")\n",
    "print(f\"Keys of tokenized dataset: {list(tokenized_dataset['train'].features)}\")"
   ]
  },
  {
   "cell_type": "code",
   "execution_count": 15,
   "metadata": {
    "execution": {
     "iopub.execute_input": "2024-03-12T18:34:44.185143Z",
     "iopub.status.busy": "2024-03-12T18:34:44.184846Z",
     "iopub.status.idle": "2024-03-12T18:35:48.458530Z",
     "shell.execute_reply": "2024-03-12T18:35:48.457823Z",
     "shell.execute_reply.started": "2024-03-12T18:34:44.185120Z"
    },
    "tags": []
   },
   "outputs": [],
   "source": [
    "# huggingface hub model id\n",
    "model_id = \"google/flan-t5-base\"\n",
    "\n",
    "# load model from the hub\n",
    "model = AutoModelForSeq2SeqLM.from_pretrained(model_id)"
   ]
  },
  {
   "cell_type": "code",
   "execution_count": 16,
   "metadata": {
    "execution": {
     "iopub.execute_input": "2024-03-12T18:35:48.459768Z",
     "iopub.status.busy": "2024-03-12T18:35:48.459507Z",
     "iopub.status.idle": "2024-03-12T18:35:48.470279Z",
     "shell.execute_reply": "2024-03-12T18:35:48.469653Z",
     "shell.execute_reply.started": "2024-03-12T18:35:48.459743Z"
    },
    "tags": []
   },
   "outputs": [],
   "source": [
    "# we want to ignore tokenizer pad token in the loss\n",
    "label_pad_token_id = -100\n",
    "# Data collator\n",
    "data_collator = DataCollatorForSeq2Seq(\n",
    "    tokenizer, model=model, label_pad_token_id=label_pad_token_id, pad_to_multiple_of=8\n",
    ")"
   ]
  },
  {
   "cell_type": "code",
   "execution_count": 17,
   "metadata": {
    "execution": {
     "iopub.execute_input": "2024-03-12T18:35:48.471425Z",
     "iopub.status.busy": "2024-03-12T18:35:48.470964Z",
     "iopub.status.idle": "2024-03-12T18:35:48.482097Z",
     "shell.execute_reply": "2024-03-12T18:35:48.481431Z",
     "shell.execute_reply.started": "2024-03-12T18:35:48.471406Z"
    },
    "tags": []
   },
   "outputs": [],
   "source": [
    "from huggingface_hub import HfFolder\n",
    "HfFolder.save_token(os.environ['hugging_face_login'])"
   ]
  },
  {
   "cell_type": "code",
   "execution_count": 18,
   "metadata": {
    "execution": {
     "iopub.execute_input": "2024-03-12T18:35:48.483094Z",
     "iopub.status.busy": "2024-03-12T18:35:48.482811Z",
     "iopub.status.idle": "2024-03-12T18:35:50.469566Z",
     "shell.execute_reply": "2024-03-12T18:35:50.468886Z",
     "shell.execute_reply.started": "2024-03-12T18:35:48.483070Z"
    }
   },
   "outputs": [
    {
     "name": "stderr",
     "output_type": "stream",
     "text": [
      "\u001b[34m\u001b[1mwandb\u001b[0m: Currently logged in as: \u001b[33mkatya_shakhova\u001b[0m (\u001b[33mshakhova\u001b[0m). Use \u001b[1m`wandb login --relogin`\u001b[0m to force relogin\n",
      "\u001b[34m\u001b[1mwandb\u001b[0m: \u001b[33mWARNING\u001b[0m If you're specifying your api key in code, ensure this code is not shared publicly.\n",
      "\u001b[34m\u001b[1mwandb\u001b[0m: \u001b[33mWARNING\u001b[0m Consider setting the WANDB_API_KEY environment variable, or running `wandb login` from the command line.\n",
      "\u001b[34m\u001b[1mwandb\u001b[0m: Appending key for api.wandb.ai to your netrc file: /home/jupyter/.netrc\n"
     ]
    },
    {
     "data": {
      "text/plain": [
       "True"
      ]
     },
     "execution_count": 18,
     "metadata": {},
     "output_type": "execute_result"
    }
   ],
   "source": [
    "os.environ[\"WANDB_PROJECT\"] = \"absa_research2\"\n",
    "os.environ[\"WANDB_LOG_MODEL\"] = \"true\"\n",
    "wandb.login(key=os.environ[\"wandb_login\"])"
   ]
  },
  {
   "cell_type": "code",
   "execution_count": 19,
   "metadata": {
    "execution": {
     "iopub.execute_input": "2024-03-12T18:35:50.470639Z",
     "iopub.status.busy": "2024-03-12T18:35:50.470370Z",
     "iopub.status.idle": "2024-03-12T18:39:03.040607Z",
     "shell.execute_reply": "2024-03-12T18:39:03.039887Z",
     "shell.execute_reply.started": "2024-03-12T18:35:50.470622Z"
    },
    "tags": []
   },
   "outputs": [],
   "source": [
    "# Hugging Face repository id\n",
    "repository_id = f\"{model_id.split('/')[1]}-absa-laptops\"\n",
    "\n",
    "# Define training args\n",
    "training_args = Seq2SeqTrainingArguments(\n",
    "    output_dir=repository_id,\n",
    "    per_device_train_batch_size=16,\n",
    "    per_device_eval_batch_size=16,\n",
    "    predict_with_generate=True,\n",
    "    fp16=False,  # Overflows with fp16\n",
    "    learning_rate=5e-5,\n",
    "    num_train_epochs=5,\n",
    "    warmup_ratio=0.1,\n",
    "    weight_decay=0.1,\n",
    "    optim=\"adamw_torch\",\n",
    "    # logging & evaluation strategies\n",
    "    evaluation_strategy=\"steps\",\n",
    "    eval_steps=100,\n",
    "    report_to=\"wandb\",\n",
    "    logging_steps=100,\n",
    "    save_strategy=\"no\",\n",
    "    save_total_limit=1,\n",
    "    push_to_hub=False,\n",
    "    hub_model_id=repository_id,\n",
    "    hub_token=HfFolder.get_token(),\n",
    ")\n",
    "\n",
    "# Create Trainer instance\n",
    "trainer = Seq2SeqTrainer(\n",
    "    model=model,\n",
    "    args=training_args,\n",
    "    data_collator=data_collator,\n",
    "    train_dataset=tokenized_dataset[\"train\"],\n",
    "    eval_dataset=tokenized_dataset[\"test\"],\n",
    "\n",
    ")"
   ]
  },
  {
   "cell_type": "code",
   "execution_count": 20,
   "metadata": {
    "execution": {
     "iopub.execute_input": "2024-03-12T18:39:03.041671Z",
     "iopub.status.busy": "2024-03-12T18:39:03.041351Z",
     "iopub.status.idle": "2024-03-12T18:43:14.845705Z",
     "shell.execute_reply": "2024-03-12T18:43:14.845009Z",
     "shell.execute_reply.started": "2024-03-12T18:39:03.041646Z"
    },
    "tags": []
   },
   "outputs": [
    {
     "name": "stderr",
     "output_type": "stream",
     "text": [
      "\u001b[34m\u001b[1mwandb\u001b[0m: Tracking run with wandb version 0.16.4\n",
      "\u001b[34m\u001b[1mwandb\u001b[0m: Run data is saved locally in \u001b[35m\u001b[1m/home/jupyter/work/resources/wandb/run-20240312_183903-35fasi5i\u001b[0m\n",
      "\u001b[34m\u001b[1mwandb\u001b[0m: Run \u001b[1m`wandb offline`\u001b[0m to turn off syncing.\n",
      "\u001b[34m\u001b[1mwandb\u001b[0m: Syncing run \u001b[33mbreezy-frog-4\u001b[0m\n",
      "\u001b[34m\u001b[1mwandb\u001b[0m: ⭐️ View project at \u001b[34m\u001b[4mhttps://wandb.ai/shakhova/absa_research2\u001b[0m\n",
      "\u001b[34m\u001b[1mwandb\u001b[0m: 🚀 View run at \u001b[34m\u001b[4mhttps://wandb.ai/shakhova/absa_research2/runs/35fasi5i\u001b[0m\n"
     ]
    },
    {
     "data": {
      "text/html": [
       "\n",
       "    <div>\n",
       "      \n",
       "      <progress value='955' max='955' style='width:300px; height:20px; vertical-align: middle;'></progress>\n",
       "      [955/955 04:08, Epoch 5/5]\n",
       "    </div>\n",
       "    <table border=\"1\" class=\"dataframe\">\n",
       "  <thead>\n",
       " <tr style=\"text-align: left;\">\n",
       "      <th>Step</th>\n",
       "      <th>Training Loss</th>\n",
       "      <th>Validation Loss</th>\n",
       "    </tr>\n",
       "  </thead>\n",
       "  <tbody>\n",
       "    <tr>\n",
       "      <td>100</td>\n",
       "      <td>2.482400</td>\n",
       "      <td>0.419161</td>\n",
       "    </tr>\n",
       "    <tr>\n",
       "      <td>200</td>\n",
       "      <td>0.507300</td>\n",
       "      <td>0.280843</td>\n",
       "    </tr>\n",
       "    <tr>\n",
       "      <td>300</td>\n",
       "      <td>0.383700</td>\n",
       "      <td>0.226439</td>\n",
       "    </tr>\n",
       "    <tr>\n",
       "      <td>400</td>\n",
       "      <td>0.329000</td>\n",
       "      <td>0.210451</td>\n",
       "    </tr>\n",
       "    <tr>\n",
       "      <td>500</td>\n",
       "      <td>0.291000</td>\n",
       "      <td>0.211129</td>\n",
       "    </tr>\n",
       "    <tr>\n",
       "      <td>600</td>\n",
       "      <td>0.249700</td>\n",
       "      <td>0.192658</td>\n",
       "    </tr>\n",
       "    <tr>\n",
       "      <td>700</td>\n",
       "      <td>0.236800</td>\n",
       "      <td>0.191988</td>\n",
       "    </tr>\n",
       "    <tr>\n",
       "      <td>800</td>\n",
       "      <td>0.206800</td>\n",
       "      <td>0.193867</td>\n",
       "    </tr>\n",
       "    <tr>\n",
       "      <td>900</td>\n",
       "      <td>0.230600</td>\n",
       "      <td>0.191607</td>\n",
       "    </tr>\n",
       "  </tbody>\n",
       "</table><p>"
      ],
      "text/plain": [
       "<IPython.core.display.HTML object>"
      ]
     },
     "metadata": {},
     "output_type": "display_data"
    },
    {
     "data": {
      "text/plain": [
       "TrainOutput(global_step=955, training_loss=0.526438941755844, metrics={'train_runtime': 219.3228, 'train_samples_per_second': 69.418, 'train_steps_per_second': 4.354, 'total_flos': 2606357672755200.0, 'train_loss': 0.526438941755844, 'epoch': 5.0})"
      ]
     },
     "execution_count": 20,
     "metadata": {},
     "output_type": "execute_result"
    }
   ],
   "source": [
    "trainer.train()"
   ]
  },
  {
   "cell_type": "code",
   "execution_count": 21,
   "metadata": {
    "execution": {
     "iopub.execute_input": "2024-03-12T18:43:14.846722Z",
     "iopub.status.busy": "2024-03-12T18:43:14.846471Z",
     "iopub.status.idle": "2024-03-12T18:45:16.109990Z",
     "shell.execute_reply": "2024-03-12T18:45:16.109367Z",
     "shell.execute_reply.started": "2024-03-12T18:43:14.846705Z"
    },
    "tags": []
   },
   "outputs": [
    {
     "data": {
      "application/vnd.jupyter.widget-view+json": {
       "model_id": "deb687f2b8f84729bc8a17d12db22028",
       "version_major": 2,
       "version_minor": 0
      },
      "text/plain": [
       "training_args.bin:   0%|          | 0.00/4.67k [00:00<?, ?B/s]"
      ]
     },
     "metadata": {},
     "output_type": "display_data"
    },
    {
     "data": {
      "application/vnd.jupyter.widget-view+json": {
       "model_id": "ce62a9bd6542424e8cc1af8a2bdbc556",
       "version_major": 2,
       "version_minor": 0
      },
      "text/plain": [
       "Upload 2 LFS files:   0%|          | 0/2 [00:00<?, ?it/s]"
      ]
     },
     "metadata": {},
     "output_type": "display_data"
    },
    {
     "data": {
      "application/vnd.jupyter.widget-view+json": {
       "model_id": "c8efa2b617b749cf81289d217021bc0c",
       "version_major": 2,
       "version_minor": 0
      },
      "text/plain": [
       "model.safetensors:   0%|          | 0.00/990M [00:00<?, ?B/s]"
      ]
     },
     "metadata": {},
     "output_type": "display_data"
    },
    {
     "data": {
      "text/plain": [
       "CommitInfo(commit_url='https://huggingface.co/Shakhovak/flan-t5-base-absa-laptops/commit/91c06dc35bd50ee91836718867ee762d6a3029f1', commit_message='End of training', commit_description='', oid='91c06dc35bd50ee91836718867ee762d6a3029f1', pr_url=None, pr_revision=None, pr_num=None)"
      ]
     },
     "execution_count": 21,
     "metadata": {},
     "output_type": "execute_result"
    }
   ],
   "source": [
    "# Save our tokenizer and create model card\n",
    "tokenizer.save_pretrained(repository_id)\n",
    "trainer.create_model_card()\n",
    "# Push the results to the hub\n",
    "trainer.push_to_hub()"
   ]
  },
  {
   "cell_type": "code",
   "execution_count": 22,
   "metadata": {
    "execution": {
     "iopub.execute_input": "2024-03-12T18:45:16.111170Z",
     "iopub.status.busy": "2024-03-12T18:45:16.110752Z",
     "iopub.status.idle": "2024-03-12T18:45:20.074323Z",
     "shell.execute_reply": "2024-03-12T18:45:20.073716Z",
     "shell.execute_reply.started": "2024-03-12T18:45:16.111151Z"
    },
    "tags": []
   },
   "outputs": [
    {
     "name": "stderr",
     "output_type": "stream",
     "text": [
      "\u001b[34m\u001b[1mwandb\u001b[0m:                                                                                \n",
      "\u001b[34m\u001b[1mwandb\u001b[0m: \n",
      "\u001b[34m\u001b[1mwandb\u001b[0m: Run history:\n",
      "\u001b[34m\u001b[1mwandb\u001b[0m:                      eval/loss █▄▂▂▂▁▁▁▁\n",
      "\u001b[34m\u001b[1mwandb\u001b[0m:                   eval/runtime █▂▄▄▅▁▁▁▂\n",
      "\u001b[34m\u001b[1mwandb\u001b[0m:        eval/samples_per_second ▁▇▅▅▄███▇\n",
      "\u001b[34m\u001b[1mwandb\u001b[0m:          eval/steps_per_second ▁▇▅▅▄███▇\n",
      "\u001b[34m\u001b[1mwandb\u001b[0m:                    train/epoch ▁▁▂▂▃▃▃▃▄▄▅▅▆▆▇▇███\n",
      "\u001b[34m\u001b[1mwandb\u001b[0m:              train/global_step ▁▁▂▂▃▃▃▃▄▄▅▅▆▆▇▇███\n",
      "\u001b[34m\u001b[1mwandb\u001b[0m:                train/grad_norm █▂▃▂▂▂▁▁▁\n",
      "\u001b[34m\u001b[1mwandb\u001b[0m:            train/learning_rate █▇▆▅▄▄▃▂▁\n",
      "\u001b[34m\u001b[1mwandb\u001b[0m:                     train/loss █▂▂▁▁▁▁▁▁\n",
      "\u001b[34m\u001b[1mwandb\u001b[0m:               train/total_flos ▁\n",
      "\u001b[34m\u001b[1mwandb\u001b[0m:               train/train_loss ▁\n",
      "\u001b[34m\u001b[1mwandb\u001b[0m:            train/train_runtime ▁\n",
      "\u001b[34m\u001b[1mwandb\u001b[0m: train/train_samples_per_second ▁\n",
      "\u001b[34m\u001b[1mwandb\u001b[0m:   train/train_steps_per_second ▁\n",
      "\u001b[34m\u001b[1mwandb\u001b[0m: \n",
      "\u001b[34m\u001b[1mwandb\u001b[0m: Run summary:\n",
      "\u001b[34m\u001b[1mwandb\u001b[0m:                      eval/loss 0.19161\n",
      "\u001b[34m\u001b[1mwandb\u001b[0m:                   eval/runtime 2.9844\n",
      "\u001b[34m\u001b[1mwandb\u001b[0m:        eval/samples_per_second 268.064\n",
      "\u001b[34m\u001b[1mwandb\u001b[0m:          eval/steps_per_second 16.754\n",
      "\u001b[34m\u001b[1mwandb\u001b[0m:                    train/epoch 5.0\n",
      "\u001b[34m\u001b[1mwandb\u001b[0m:              train/global_step 955\n",
      "\u001b[34m\u001b[1mwandb\u001b[0m:                train/grad_norm 2.35716\n",
      "\u001b[34m\u001b[1mwandb\u001b[0m:            train/learning_rate 0.0\n",
      "\u001b[34m\u001b[1mwandb\u001b[0m:                     train/loss 0.2306\n",
      "\u001b[34m\u001b[1mwandb\u001b[0m:               train/total_flos 2606357672755200.0\n",
      "\u001b[34m\u001b[1mwandb\u001b[0m:               train/train_loss 0.52644\n",
      "\u001b[34m\u001b[1mwandb\u001b[0m:            train/train_runtime 219.3228\n",
      "\u001b[34m\u001b[1mwandb\u001b[0m: train/train_samples_per_second 69.418\n",
      "\u001b[34m\u001b[1mwandb\u001b[0m:   train/train_steps_per_second 4.354\n",
      "\u001b[34m\u001b[1mwandb\u001b[0m: \n",
      "\u001b[34m\u001b[1mwandb\u001b[0m: 🚀 View run \u001b[33mbreezy-frog-4\u001b[0m at: \u001b[34m\u001b[4mhttps://wandb.ai/shakhova/absa_research2/runs/35fasi5i\u001b[0m\n",
      "\u001b[34m\u001b[1mwandb\u001b[0m: Synced 4 W&B file(s), 0 media file(s), 4 artifact file(s) and 0 other file(s)\n",
      "\u001b[34m\u001b[1mwandb\u001b[0m: Find logs at: \u001b[35m\u001b[1m./wandb/run-20240312_183903-35fasi5i/logs\u001b[0m\n"
     ]
    }
   ],
   "source": [
    "wandb.finish()"
   ]
  },
  {
   "cell_type": "code",
   "execution_count": null,
   "metadata": {},
   "outputs": [],
   "source": []
  }
 ],
 "metadata": {
  "kernelspec": {
   "display_name": "DataSphere Kernel",
   "language": "python",
   "name": "python3"
  },
  "language_info": {
   "codemirror_mode": {
    "name": "ipython",
    "version": 3
   },
   "file_extension": ".py",
   "mimetype": "text/x-python",
   "name": "python",
   "nbconvert_exporter": "python",
   "pygments_lexer": "ipython3",
   "version": "3.7.7"
  }
 },
 "nbformat": 4,
 "nbformat_minor": 4
}
