{
 "cells": [
  {
   "cell_type": "markdown",
   "metadata": {},
   "source": [
    "# Дообучение Llama 2 на основе промтов-инструкций\n",
    "\n",
    "Основная задача дообучения - научить модель извлекать пару (аспект - тональность) на основе подготовленных промтов. В папке есть отдельный файл с заранее подготовленными шаблонами промптами, который будет использоваться для обучения.\n",
    "\n",
    "Исползуются данные SemEval 2014 Task 4, содержащие сам аспект, его категорию и тональность. В рамках данного эксперимента я буду извлекать только аспект/аспекты и его тональность.\n",
    "\n",
    "Так как Llama 2 довольно большая модель, то обучать ее буду с помощью LoRa (из бтблиотеки peft) и в квантованном 8-ми битном варианте.\n",
    "\n",
    "## Загрузка и подготовка датасета"
   ]
  },
  {
   "cell_type": "code",
   "execution_count": 1,
   "id": "0d30bd52",
   "metadata": {
    "cellId": "uvscnswb3b4i4u4gd9ynx"
   },
   "outputs": [],
   "source": [
    "#!g2.1\n",
    "import pandas as pd\n",
    "import numpy as np\n",
    "import warnings\n",
    "warnings.filterwarnings(\"ignore\")"
   ]
  },
  {
   "cell_type": "code",
   "execution_count": 2,
   "id": "2333b167",
   "metadata": {
    "cellId": "081v5xr64sc4lspkkuj8nle"
   },
   "outputs": [
    {
     "data": {
      "application/vnd.jupyter.widget-view+json": {
       "model_id": "d5c15e85073349c188d88853320032db",
       "version_major": 2,
       "version_minor": 0
      },
      "text/plain": [
       "Downloading builder script:   0%|          | 0.00/10.0k [00:00<?, ?B/s]"
      ]
     },
     "metadata": {},
     "output_type": "display_data"
    },
    {
     "data": {
      "application/vnd.jupyter.widget-view+json": {
       "model_id": "e1624d32d821418a883f1d952d204272",
       "version_major": 2,
       "version_minor": 0
      },
      "text/plain": [
       "Downloading data files:   0%|          | 0/3 [00:00<?, ?it/s]"
      ]
     },
     "metadata": {},
     "output_type": "display_data"
    },
    {
     "data": {
      "application/vnd.jupyter.widget-view+json": {
       "model_id": "142f68e150c3491082eaeb940215ba34",
       "version_major": 2,
       "version_minor": 0
      },
      "text/plain": [
       "Downloading data:   0%|          | 0.00/35.7k [00:00<?, ?B/s]"
      ]
     },
     "metadata": {},
     "output_type": "display_data"
    },
    {
     "data": {
      "application/vnd.jupyter.widget-view+json": {
       "model_id": "0a1a80c381a4476795989e7972033fcf",
       "version_major": 2,
       "version_minor": 0
      },
      "text/plain": [
       "Downloading data:   0%|          | 0.00/1.24M [00:00<?, ?B/s]"
      ]
     },
     "metadata": {},
     "output_type": "display_data"
    },
    {
     "data": {
      "application/vnd.jupyter.widget-view+json": {
       "model_id": "07bcc729951243f99583ad7a5ced42ae",
       "version_major": 2,
       "version_minor": 0
      },
      "text/plain": [
       "Downloading data:   0%|          | 0.00/359k [00:00<?, ?B/s]"
      ]
     },
     "metadata": {},
     "output_type": "display_data"
    },
    {
     "data": {
      "application/vnd.jupyter.widget-view+json": {
       "model_id": "0a3d26e6f20e477390c5736f6ef7b329",
       "version_major": 2,
       "version_minor": 0
      },
      "text/plain": [
       "Extracting data files:   0%|          | 0/3 [00:00<?, ?it/s]"
      ]
     },
     "metadata": {},
     "output_type": "display_data"
    },
    {
     "data": {
      "application/vnd.jupyter.widget-view+json": {
       "model_id": "bedafd8ac7af4a68928102c570aa8615",
       "version_major": 2,
       "version_minor": 0
      },
      "text/plain": [
       "Generating trial split: 0 examples [00:00, ? examples/s]"
      ]
     },
     "metadata": {},
     "output_type": "display_data"
    },
    {
     "data": {
      "application/vnd.jupyter.widget-view+json": {
       "model_id": "b9059d336d564054bde9d04217fd55fa",
       "version_major": 2,
       "version_minor": 0
      },
      "text/plain": [
       "Generating train split: 0 examples [00:00, ? examples/s]"
      ]
     },
     "metadata": {},
     "output_type": "display_data"
    },
    {
     "data": {
      "application/vnd.jupyter.widget-view+json": {
       "model_id": "009ea7f20cb44361895717e2500b7083",
       "version_major": 2,
       "version_minor": 0
      },
      "text/plain": [
       "Generating test split: 0 examples [00:00, ? examples/s]"
      ]
     },
     "metadata": {},
     "output_type": "display_data"
    },
    {
     "data": {
      "text/plain": [
       "DatasetDict({\n",
       "    trial: Dataset({\n",
       "        features: ['sentenceId', 'text', 'aspectTerms', 'aspectCategories'],\n",
       "        num_rows: 100\n",
       "    })\n",
       "    train: Dataset({\n",
       "        features: ['sentenceId', 'text', 'aspectTerms', 'aspectCategories'],\n",
       "        num_rows: 3041\n",
       "    })\n",
       "    test: Dataset({\n",
       "        features: ['sentenceId', 'text', 'aspectTerms', 'aspectCategories'],\n",
       "        num_rows: 800\n",
       "    })\n",
       "})"
      ]
     },
     "execution_count": 2,
     "metadata": {},
     "output_type": "execute_result"
    }
   ],
   "source": [
    "#!g2.1\n",
    "from datasets import load_dataset\n",
    "raw_datasets = load_dataset(\"alexcadillon/SemEval2014Task4\", 'restaurants')\n",
    "raw_datasets"
   ]
  },
  {
   "cell_type": "code",
   "execution_count": 3,
   "id": "05edf7e3",
   "metadata": {
    "cellId": "3ysl1r0kcxr8xyfrau9lp2"
   },
   "outputs": [
    {
     "data": {
      "text/plain": [
       "{'sentenceId': '296',\n",
       " 'text': 'They did not have mayonnaise, forgot our toast, left out ingredients (ie cheese in an omelet), below hot temperatures and the bacon was so over cooked it crumbled on the plate when you touched it.',\n",
       " 'aspectTerms': [{'term': 'toast',\n",
       "   'polarity': 'negative',\n",
       "   'from': '41',\n",
       "   'to': '46'},\n",
       "  {'term': 'mayonnaise', 'polarity': 'negative', 'from': '18', 'to': '28'},\n",
       "  {'term': 'bacon', 'polarity': 'negative', 'from': '126', 'to': '131'},\n",
       "  {'term': 'cheese', 'polarity': 'neutral', 'from': '73', 'to': '79'},\n",
       "  {'term': 'ingredients', 'polarity': 'negative', 'from': '57', 'to': '68'},\n",
       "  {'term': 'plate', 'polarity': 'neutral', 'from': '170', 'to': '175'},\n",
       "  {'term': 'omelet', 'polarity': 'neutral', 'from': '86', 'to': '92'}],\n",
       " 'aspectCategories': [{'category': 'food', 'polarity': 'negative'}]}"
      ]
     },
     "execution_count": 3,
     "metadata": {},
     "output_type": "execute_result"
    }
   ],
   "source": [
    "#!g2.1\n",
    "sample = raw_datasets['train'][10]\n",
    "sample"
   ]
  },
  {
   "cell_type": "code",
   "execution_count": 4,
   "id": "6d5e95cd",
   "metadata": {
    "cellId": "n590w3tsmgd5n0a2ygrj3g"
   },
   "outputs": [],
   "source": [
    "#!g2.1\n",
    "template_name = \"promts_template.json\"\n",
    "import random\n",
    "import json\n",
    "with open(template_name) as fp:\n",
    "        template = json.load(fp)\n",
    "\n",
    "def create_promts(instance):\n",
    "    \n",
    "    text = instance[\"text\"]\n",
    "    output_dict = {}\n",
    "    num = random.randint(0,111)\n",
    "\n",
    "    instruction = template[str(num)].format(\n",
    "        input = f\"{text}\"\n",
    "    )\n",
    "\n",
    "    answers = []\n",
    "    for item in instance['aspectTerms']:\n",
    "        answers.append(f\"{item['term']}: {item['polarity']}\")\n",
    "    answer_string = ', '.join(answers)\n",
    "    \n",
    "    output_string = f\"{instruction} Aspects and their polarity: {answer_string}.\"\n",
    "    \n",
    "    instance[\"instruction\"] = instruction\n",
    "    instance[\"input\"] = instance[\"text\"]\n",
    "    instance[\"output\"] = output_string\n",
    "    instance[\"answer\"] = answer_string\n",
    "    \n",
    "    return instance\n"
   ]
  },
  {
   "cell_type": "code",
   "execution_count": 5,
   "id": "bb76a340",
   "metadata": {
    "cellId": "y5d93mx20lrp96fnkh69u"
   },
   "outputs": [
    {
     "data": {
      "text/plain": [
       "{'sentenceId': '296',\n",
       " 'text': 'They did not have mayonnaise, forgot our toast, left out ingredients (ie cheese in an omelet), below hot temperatures and the bacon was so over cooked it crumbled on the plate when you touched it.',\n",
       " 'aspectTerms': [{'term': 'toast',\n",
       "   'polarity': 'negative',\n",
       "   'from': '41',\n",
       "   'to': '46'},\n",
       "  {'term': 'mayonnaise', 'polarity': 'negative', 'from': '18', 'to': '28'},\n",
       "  {'term': 'bacon', 'polarity': 'negative', 'from': '126', 'to': '131'},\n",
       "  {'term': 'cheese', 'polarity': 'neutral', 'from': '73', 'to': '79'},\n",
       "  {'term': 'ingredients', 'polarity': 'negative', 'from': '57', 'to': '68'},\n",
       "  {'term': 'plate', 'polarity': 'neutral', 'from': '170', 'to': '175'},\n",
       "  {'term': 'omelet', 'polarity': 'neutral', 'from': '86', 'to': '92'}],\n",
       " 'aspectCategories': [{'category': 'food', 'polarity': 'negative'}],\n",
       " 'instruction': 'Sentence: They did not have mayonnaise, forgot our toast, left out ingredients (ie cheese in an omelet), below hot temperatures and the bacon was so over cooked it crumbled on the plate when you touched it. What are the aspects and their polarity?',\n",
       " 'input': 'They did not have mayonnaise, forgot our toast, left out ingredients (ie cheese in an omelet), below hot temperatures and the bacon was so over cooked it crumbled on the plate when you touched it.',\n",
       " 'output': 'Sentence: They did not have mayonnaise, forgot our toast, left out ingredients (ie cheese in an omelet), below hot temperatures and the bacon was so over cooked it crumbled on the plate when you touched it. What are the aspects and their polarity? Aspects and their polarity: toast: negative, mayonnaise: negative, bacon: negative, cheese: neutral, ingredients: negative, plate: neutral, omelet: neutral.',\n",
       " 'answer': 'toast: negative, mayonnaise: negative, bacon: negative, cheese: neutral, ingredients: negative, plate: neutral, omelet: neutral'}"
      ]
     },
     "execution_count": 5,
     "metadata": {},
     "output_type": "execute_result"
    }
   ],
   "source": [
    "#!g2.1\n",
    "create_promts(sample)"
   ]
  },
  {
   "cell_type": "code",
   "execution_count": 6,
   "id": "70f2fc39",
   "metadata": {
    "cellId": "sg3118deahmo82xvhiu5z"
   },
   "outputs": [
    {
     "name": "stdout",
     "output_type": "stream",
     "text": [
      "Defaulting to user installation because normal site-packages is not writeable\n",
      "Collecting dill<0.3.5\n",
      "  Downloading dill-0.3.4-py2.py3-none-any.whl (86 kB)\n",
      "\u001b[2K     \u001b[90m━━━━━━━━━━━━━━━━━━━━━━━━━━━━━━━━━━━━━━━\u001b[0m \u001b[32m86.9/86.9 kB\u001b[0m \u001b[31m785.3 kB/s\u001b[0m eta \u001b[36m0:00:00\u001b[0ma \u001b[36m0:00:01\u001b[0m\n",
      "\u001b[?25hInstalling collected packages: dill\n",
      "  Attempting uninstall: dill\n",
      "    Found existing installation: dill 0.3.7\n",
      "    Uninstalling dill-0.3.7:\n",
      "      Successfully uninstalled dill-0.3.7\n",
      "\u001b[31mERROR: pip's dependency resolver does not currently take into account all the packages that are installed. This behaviour is the source of the following dependency conflicts.\n",
      "multiprocess 0.70.15 requires dill>=0.3.7, but you have dill 0.3.4 which is incompatible.\u001b[0m\u001b[31m\n",
      "\u001b[0mSuccessfully installed dill-0.3.4\n",
      "\n",
      "\u001b[1m[\u001b[0m\u001b[34;49mnotice\u001b[0m\u001b[1;39;49m]\u001b[0m\u001b[39;49m A new release of pip is available: \u001b[0m\u001b[31;49m23.2.1\u001b[0m\u001b[39;49m -> \u001b[0m\u001b[32;49m23.3.1\u001b[0m\n",
      "\u001b[1m[\u001b[0m\u001b[34;49mnotice\u001b[0m\u001b[1;39;49m]\u001b[0m\u001b[39;49m To update, run: \u001b[0m\u001b[32;49mpython3 -m pip install --upgrade pip\u001b[0m\n"
     ]
    }
   ],
   "source": [
    "#!g2.1\n",
    "%pip install \"dill<0.3.5\""
   ]
  },
  {
   "cell_type": "code",
   "execution_count": 7,
   "id": "be478d11",
   "metadata": {
    "cellId": "3wdt2ni66al2caicti7drw"
   },
   "outputs": [
    {
     "data": {
      "application/vnd.jupyter.widget-view+json": {
       "model_id": "e368af4046994801a94b806ce267e21d",
       "version_major": 2,
       "version_minor": 0
      },
      "text/plain": [
       "Map:   0%|          | 0/100 [00:00<?, ? examples/s]"
      ]
     },
     "metadata": {},
     "output_type": "display_data"
    },
    {
     "data": {
      "application/vnd.jupyter.widget-view+json": {
       "model_id": "eb53402fdf0d41628e464e7ddeb23f33",
       "version_major": 2,
       "version_minor": 0
      },
      "text/plain": [
       "Map:   0%|          | 0/3041 [00:00<?, ? examples/s]"
      ]
     },
     "metadata": {},
     "output_type": "display_data"
    },
    {
     "data": {
      "application/vnd.jupyter.widget-view+json": {
       "model_id": "18b1e6f359bb464d9506b15b04593023",
       "version_major": 2,
       "version_minor": 0
      },
      "text/plain": [
       "Map:   0%|          | 0/800 [00:00<?, ? examples/s]"
      ]
     },
     "metadata": {},
     "output_type": "display_data"
    },
    {
     "data": {
      "text/plain": [
       "DatasetDict({\n",
       "    trial: Dataset({\n",
       "        features: ['sentenceId', 'text', 'aspectTerms', 'aspectCategories', 'instruction', 'input', 'output', 'answer'],\n",
       "        num_rows: 100\n",
       "    })\n",
       "    train: Dataset({\n",
       "        features: ['sentenceId', 'text', 'aspectTerms', 'aspectCategories', 'instruction', 'input', 'output', 'answer'],\n",
       "        num_rows: 3041\n",
       "    })\n",
       "    test: Dataset({\n",
       "        features: ['sentenceId', 'text', 'aspectTerms', 'aspectCategories', 'instruction', 'input', 'output', 'answer'],\n",
       "        num_rows: 800\n",
       "    })\n",
       "})"
      ]
     },
     "execution_count": 7,
     "metadata": {},
     "output_type": "execute_result"
    }
   ],
   "source": [
    "#!g2.1\n",
    "instruction_dataset = raw_datasets.map(create_promts)\n",
    "instruction_dataset"
   ]
  },
  {
   "cell_type": "code",
   "execution_count": 8,
   "id": "38844d3e",
   "metadata": {
    "cellId": "77e7p00v6b62yiywpfjkjs"
   },
   "outputs": [
    {
     "data": {
      "text/plain": [
       "Dataset({\n",
       "    features: ['sentenceId', 'text', 'aspectTerms', 'aspectCategories', 'instruction', 'input', 'output', 'answer'],\n",
       "    num_rows: 3941\n",
       "})"
      ]
     },
     "execution_count": 8,
     "metadata": {},
     "output_type": "execute_result"
    }
   ],
   "source": [
    "#!g2.1\n",
    "from datasets import concatenate_datasets\n",
    "concat_dataset = concatenate_datasets([instruction_dataset['train'], instruction_dataset['test'], instruction_dataset['trial']])\n",
    "concat_dataset"
   ]
  },
  {
   "cell_type": "code",
   "execution_count": 9,
   "id": "7b602cd4",
   "metadata": {
    "cellId": "jr9ww4crrfremiziufumf"
   },
   "outputs": [],
   "source": [
    "#!g2.1\n",
    "def tokenize(prompt, add_eos_token=True):\n",
    "    result = tokenizer(\n",
    "        prompt,\n",
    "        truncation=True,\n",
    "        max_length=cutoff_len,\n",
    "        padding=False,\n",
    "        return_tensors=None,\n",
    "    )\n",
    "    if (\n",
    "        result[\"input_ids\"][-1] != tokenizer.eos_token_id\n",
    "        and len(result[\"input_ids\"]) < cutoff_len\n",
    "        and add_eos_token\n",
    "    ):\n",
    "        result[\"input_ids\"].append(tokenizer.eos_token_id)\n",
    "        result[\"attention_mask\"].append(1)\n",
    "\n",
    "    result[\"labels\"] = result[\"input_ids\"].copy()\n",
    "\n",
    "    return result\n",
    "\n",
    "def generate_and_tokenize_prompt(data_point):\n",
    "    full_prompt = prompter.generate_prompt(\n",
    "        data_point[\"instruction\"],\n",
    "        data_point[\"output\"],\n",
    "    )\n",
    "    tokenized_full_prompt = tokenize(full_prompt)\n",
    "    user_prompt = prompter.generate_prompt(\n",
    "            data_point[\"instruction\"]\n",
    "        )\n",
    "    tokenized_user_prompt = tokenize(user_prompt, add_eos_token=False)\n",
    "    user_prompt_len = len(tokenized_user_prompt[\"input_ids\"])\n",
    "\n",
    "    tokenized_full_prompt[\"labels\"] = [\n",
    "        -100\n",
    "    ] * user_prompt_len + tokenized_full_prompt[\"labels\"][\n",
    "        user_prompt_len:\n",
    "    ]  # could be sped up, probably\n",
    "    return tokenized_full_prompt"
   ]
  },
  {
   "cell_type": "code",
   "execution_count": 10,
   "id": "d74edfa9",
   "metadata": {
    "cellId": "emf6l6ingvep0rz8n5tki"
   },
   "outputs": [
    {
     "data": {
      "application/vnd.jupyter.widget-view+json": {
       "model_id": "9841164ff85444d1ac25f184a6db4589",
       "version_major": 2,
       "version_minor": 0
      },
      "text/plain": [
       "tokenizer_config.json:   0%|          | 0.00/700 [00:00<?, ?B/s]"
      ]
     },
     "metadata": {},
     "output_type": "display_data"
    },
    {
     "data": {
      "application/vnd.jupyter.widget-view+json": {
       "model_id": "a6782f90bc1041d2b1b42b3abcae9024",
       "version_major": 2,
       "version_minor": 0
      },
      "text/plain": [
       "tokenizer.model:   0%|          | 0.00/500k [00:00<?, ?B/s]"
      ]
     },
     "metadata": {},
     "output_type": "display_data"
    },
    {
     "data": {
      "application/vnd.jupyter.widget-view+json": {
       "model_id": "9ce483cf6e3d4b8f91446a4a5904cc52",
       "version_major": 2,
       "version_minor": 0
      },
      "text/plain": [
       "tokenizer.json:   0%|          | 0.00/1.84M [00:00<?, ?B/s]"
      ]
     },
     "metadata": {},
     "output_type": "display_data"
    },
    {
     "data": {
      "application/vnd.jupyter.widget-view+json": {
       "model_id": "12e6586f5a554b52bd6d8b0d1329316a",
       "version_major": 2,
       "version_minor": 0
      },
      "text/plain": [
       "special_tokens_map.json:   0%|          | 0.00/411 [00:00<?, ?B/s]"
      ]
     },
     "metadata": {},
     "output_type": "display_data"
    }
   ],
   "source": [
    "#!g2.1\n",
    "from transformers import AutoTokenizer, AutoModelForCausalLM\n",
    "import numpy as np\n",
    "\n",
    "tokenizer = AutoTokenizer.from_pretrained(\"huggyllama/llama-7b\")\n",
    "tokenizer.pad_token_id = 0 "
   ]
  },
  {
   "cell_type": "code",
   "execution_count": 11,
   "id": "0afe6871",
   "metadata": {
    "cellId": "hcne7ca7iwppmay1zsskh"
   },
   "outputs": [],
   "source": [
    "#!g2.1\n",
    "from typing import Union\n",
    "\n",
    "class Prompter(object):\n",
    "    \n",
    "    def generate_prompt(\n",
    "        self,\n",
    "        instruction: str,\n",
    "        label: Union[None, str] = None,\n",
    "    ) -> str:     \n",
    "\n",
    "        res = f\"{instruction}\\nAnswer: \"\n",
    "               \n",
    "        if label:\n",
    "            res = f\"{res}{label}\"\n",
    "         \n",
    "        return res\n",
    "\n",
    "\n",
    "    def get_response(self, output: str) -> str:\n",
    "        return output.split(\"Answer:\")[1].strip()\n",
    "    \n",
    "prompter = Prompter()"
   ]
  },
  {
   "cell_type": "code",
   "execution_count": 12,
   "id": "d5ca20b5",
   "metadata": {
    "cellId": "5ppwhhg7hj4bnd7t13wuz"
   },
   "outputs": [
    {
     "data": {
      "application/vnd.jupyter.widget-view+json": {
       "model_id": "0acf6dd0c8544c2a95634c9edbf418fc",
       "version_major": 2,
       "version_minor": 0
      },
      "text/plain": [
       "Map:   0%|          | 0/3822 [00:00<?, ? examples/s]"
      ]
     },
     "metadata": {},
     "output_type": "display_data"
    },
    {
     "data": {
      "application/vnd.jupyter.widget-view+json": {
       "model_id": "4babfeb12b714083a6e40225deb22b3d",
       "version_major": 2,
       "version_minor": 0
      },
      "text/plain": [
       "Map:   0%|          | 0/119 [00:00<?, ? examples/s]"
      ]
     },
     "metadata": {},
     "output_type": "display_data"
    }
   ],
   "source": [
    "#!g2.1\n",
    "cutoff_len=512\n",
    "train_val = concat_dataset.train_test_split(test_size=0.03, shuffle=True, seed=5)\n",
    "train_data = (train_val[\"train\"].shuffle().map(generate_and_tokenize_prompt))\n",
    "val_data = (train_val[\"test\"].shuffle().map(generate_and_tokenize_prompt))"
   ]
  },
  {
   "cell_type": "markdown",
   "metadata": {},
   "source": [
    "## Загрузка модели и LoRa"
   ]
  },
  {
   "cell_type": "code",
   "execution_count": 13,
   "id": "4c333828",
   "metadata": {
    "cellId": "yosoupjixsxjzy4mzkl"
   },
   "outputs": [],
   "source": [
    "#!g2.1\n",
    "import os\n",
    "import sys\n",
    "from typing import List\n",
    "\n",
    "os.environ[\"TOKENIZERS_PARALLELISM\"] = \"false\""
   ]
  },
  {
   "cell_type": "code",
   "execution_count": 14,
   "id": "5cee5e50",
   "metadata": {
    "cellId": "55yc3wxliw7bisbzzi4h4d"
   },
   "outputs": [
    {
     "name": "stdout",
     "output_type": "stream",
     "text": [
      "Defaulting to user installation because normal site-packages is not writeable\n",
      "Requirement already satisfied: fire in /home/jupyter/.local/lib/python3.10/site-packages (0.5.0)\n",
      "Requirement already satisfied: six in /kernel/lib/python3.10/site-packages (from fire) (1.16.0)\n",
      "Requirement already satisfied: termcolor in /usr/local/lib/python3.10/dist-packages (from fire) (2.3.0)\n",
      "\n",
      "\u001b[1m[\u001b[0m\u001b[34;49mnotice\u001b[0m\u001b[1;39;49m]\u001b[0m\u001b[39;49m A new release of pip is available: \u001b[0m\u001b[31;49m23.2.1\u001b[0m\u001b[39;49m -> \u001b[0m\u001b[32;49m23.3.1\u001b[0m\n",
      "\u001b[1m[\u001b[0m\u001b[34;49mnotice\u001b[0m\u001b[1;39;49m]\u001b[0m\u001b[39;49m To update, run: \u001b[0m\u001b[32;49mpython3 -m pip install --upgrade pip\u001b[0m\n"
     ]
    }
   ],
   "source": [
    "#!g2.1\n",
    "%pip install fire"
   ]
  },
  {
   "cell_type": "code",
   "execution_count": 15,
   "id": "3bee3187",
   "metadata": {
    "cellId": "344y3wwhjepsr36ytdyyb"
   },
   "outputs": [
    {
     "name": "stdout",
     "output_type": "stream",
     "text": [
      "\u001b[33m  WARNING: The script normalizer is installed in '/home/jupyter/.local/bin' which is not on PATH.\n",
      "  Consider adding this directory to PATH or, if you prefer to suppress this warning, use --no-warn-script-location.\u001b[0m\u001b[33m\n",
      "\u001b[0m\u001b[31mERROR: pip's dependency resolver does not currently take into account all the packages that are installed. This behaviour is the source of the following dependency conflicts.\n",
      "gcsfs 2023.6.0 requires fsspec==2023.6.0, but you have fsspec 2023.10.0 which is incompatible.\u001b[0m\u001b[31m\n",
      "\u001b[0m\n",
      "\u001b[1m[\u001b[0m\u001b[34;49mnotice\u001b[0m\u001b[1;39;49m]\u001b[0m\u001b[39;49m A new release of pip is available: \u001b[0m\u001b[31;49m23.2.1\u001b[0m\u001b[39;49m -> \u001b[0m\u001b[32;49m23.3.1\u001b[0m\n",
      "\u001b[1m[\u001b[0m\u001b[34;49mnotice\u001b[0m\u001b[1;39;49m]\u001b[0m\u001b[39;49m To update, run: \u001b[0m\u001b[32;49mpython3 -m pip install --upgrade pip\u001b[0m\n"
     ]
    }
   ],
   "source": [
    "#!g2.1\n",
    "%pip install -q bitsandbytes accelerate loralib"
   ]
  },
  {
   "cell_type": "code",
   "execution_count": 16,
   "id": "4d5a7696",
   "metadata": {
    "cellId": "nmuuoha2xbteqeksnv3f"
   },
   "outputs": [
    {
     "name": "stdout",
     "output_type": "stream",
     "text": [
      "\u001b[33m  WARNING: The script normalizer is installed in '/home/jupyter/.local/bin' which is not on PATH.\n",
      "  Consider adding this directory to PATH or, if you prefer to suppress this warning, use --no-warn-script-location.\u001b[0m\u001b[33m\n",
      "\u001b[0m\u001b[31mERROR: pip's dependency resolver does not currently take into account all the packages that are installed. This behaviour is the source of the following dependency conflicts.\n",
      "gcsfs 2023.6.0 requires fsspec==2023.6.0, but you have fsspec 2023.10.0 which is incompatible.\u001b[0m\u001b[31m\n",
      "\u001b[0m\n",
      "\u001b[1m[\u001b[0m\u001b[34;49mnotice\u001b[0m\u001b[1;39;49m]\u001b[0m\u001b[39;49m A new release of pip is available: \u001b[0m\u001b[31;49m23.2.1\u001b[0m\u001b[39;49m -> \u001b[0m\u001b[32;49m23.3.1\u001b[0m\n",
      "\u001b[1m[\u001b[0m\u001b[34;49mnotice\u001b[0m\u001b[1;39;49m]\u001b[0m\u001b[39;49m To update, run: \u001b[0m\u001b[32;49mpython3 -m pip install --upgrade pip\u001b[0m\n"
     ]
    }
   ],
   "source": [
    "#!g2.1\n",
    "%pip install -q git+https://github.com/huggingface/peft.git"
   ]
  },
  {
   "cell_type": "code",
   "execution_count": 17,
   "id": "36223414",
   "metadata": {
    "cellId": "itbk68zpx2afwv31n30spg"
   },
   "outputs": [
    {
     "name": "stdout",
     "output_type": "stream",
     "text": [
      "Defaulting to user installation because normal site-packages is not writeable\n",
      "Requirement already satisfied: sentencepiece in /home/jupyter/.local/lib/python3.10/site-packages (0.1.99)\n",
      "\n",
      "\u001b[1m[\u001b[0m\u001b[34;49mnotice\u001b[0m\u001b[1;39;49m]\u001b[0m\u001b[39;49m A new release of pip is available: \u001b[0m\u001b[31;49m23.2.1\u001b[0m\u001b[39;49m -> \u001b[0m\u001b[32;49m23.3.1\u001b[0m\n",
      "\u001b[1m[\u001b[0m\u001b[34;49mnotice\u001b[0m\u001b[1;39;49m]\u001b[0m\u001b[39;49m To update, run: \u001b[0m\u001b[32;49mpython3 -m pip install --upgrade pip\u001b[0m\n"
     ]
    }
   ],
   "source": [
    "#!g2.1\n",
    "%pip install sentencepiece"
   ]
  },
  {
   "cell_type": "code",
   "execution_count": 18,
   "id": "9f7df570",
   "metadata": {
    "cellId": "igpxfzjmq4jt45qw7c2cc"
   },
   "outputs": [
    {
     "data": {
      "application/vnd.jupyter.widget-view+json": {
       "model_id": "dc0a09fd0216405797bc3ac59b4c2f32",
       "version_major": 2,
       "version_minor": 0
      },
      "text/plain": [
       "config.json:   0%|          | 0.00/428 [00:00<?, ?B/s]"
      ]
     },
     "metadata": {},
     "output_type": "display_data"
    },
    {
     "data": {
      "application/vnd.jupyter.widget-view+json": {
       "model_id": "c638c196808f44ac8fea546ef3c8e188",
       "version_major": 2,
       "version_minor": 0
      },
      "text/plain": [
       "pytorch_model.bin.index.json:   0%|          | 0.00/25.5k [00:00<?, ?B/s]"
      ]
     },
     "metadata": {},
     "output_type": "display_data"
    },
    {
     "data": {
      "application/vnd.jupyter.widget-view+json": {
       "model_id": "b80a359095f54586af5863b59c2eeb09",
       "version_major": 2,
       "version_minor": 0
      },
      "text/plain": [
       "Downloading shards:   0%|          | 0/33 [00:00<?, ?it/s]"
      ]
     },
     "metadata": {},
     "output_type": "display_data"
    },
    {
     "data": {
      "application/vnd.jupyter.widget-view+json": {
       "model_id": "ba9d71f171b74aefb9471150312ca5d0",
       "version_major": 2,
       "version_minor": 0
      },
      "text/plain": [
       "pytorch_model-00001-of-00033.bin:   0%|          | 0.00/405M [00:00<?, ?B/s]"
      ]
     },
     "metadata": {},
     "output_type": "display_data"
    },
    {
     "data": {
      "application/vnd.jupyter.widget-view+json": {
       "model_id": "6b02a40d22c04a90b612c4548ec780b3",
       "version_major": 2,
       "version_minor": 0
      },
      "text/plain": [
       "pytorch_model-00002-of-00033.bin:   0%|          | 0.00/405M [00:00<?, ?B/s]"
      ]
     },
     "metadata": {},
     "output_type": "display_data"
    },
    {
     "data": {
      "application/vnd.jupyter.widget-view+json": {
       "model_id": "2f46e9005b494351a820cdbd81d2e79a",
       "version_major": 2,
       "version_minor": 0
      },
      "text/plain": [
       "pytorch_model-00003-of-00033.bin:   0%|          | 0.00/405M [00:00<?, ?B/s]"
      ]
     },
     "metadata": {},
     "output_type": "display_data"
    },
    {
     "data": {
      "application/vnd.jupyter.widget-view+json": {
       "model_id": "d164563d0cf241e1b6c4a1f06b26b969",
       "version_major": 2,
       "version_minor": 0
      },
      "text/plain": [
       "pytorch_model-00004-of-00033.bin:   0%|          | 0.00/405M [00:00<?, ?B/s]"
      ]
     },
     "metadata": {},
     "output_type": "display_data"
    },
    {
     "data": {
      "application/vnd.jupyter.widget-view+json": {
       "model_id": "8a339d0de52b4e4dbf4626ab6ed8d7d0",
       "version_major": 2,
       "version_minor": 0
      },
      "text/plain": [
       "pytorch_model-00005-of-00033.bin:   0%|          | 0.00/405M [00:00<?, ?B/s]"
      ]
     },
     "metadata": {},
     "output_type": "display_data"
    },
    {
     "data": {
      "application/vnd.jupyter.widget-view+json": {
       "model_id": "a68d82a868ad480ebb7a53c8eab85bec",
       "version_major": 2,
       "version_minor": 0
      },
      "text/plain": [
       "pytorch_model-00006-of-00033.bin:   0%|          | 0.00/405M [00:00<?, ?B/s]"
      ]
     },
     "metadata": {},
     "output_type": "display_data"
    },
    {
     "data": {
      "application/vnd.jupyter.widget-view+json": {
       "model_id": "cc1d54355d214f88874cddec8bbc98c5",
       "version_major": 2,
       "version_minor": 0
      },
      "text/plain": [
       "pytorch_model-00007-of-00033.bin:   0%|          | 0.00/405M [00:00<?, ?B/s]"
      ]
     },
     "metadata": {},
     "output_type": "display_data"
    },
    {
     "data": {
      "application/vnd.jupyter.widget-view+json": {
       "model_id": "6e89e898273c4f1a87a1a55a0f6a7d8a",
       "version_major": 2,
       "version_minor": 0
      },
      "text/plain": [
       "pytorch_model-00008-of-00033.bin:   0%|          | 0.00/405M [00:00<?, ?B/s]"
      ]
     },
     "metadata": {},
     "output_type": "display_data"
    },
    {
     "data": {
      "application/vnd.jupyter.widget-view+json": {
       "model_id": "1d8a787691524aa1b0340ba981b3d270",
       "version_major": 2,
       "version_minor": 0
      },
      "text/plain": [
       "pytorch_model-00009-of-00033.bin:   0%|          | 0.00/405M [00:00<?, ?B/s]"
      ]
     },
     "metadata": {},
     "output_type": "display_data"
    },
    {
     "data": {
      "application/vnd.jupyter.widget-view+json": {
       "model_id": "5a4af9a35bb8440fbca7e35ee69f91ad",
       "version_major": 2,
       "version_minor": 0
      },
      "text/plain": [
       "pytorch_model-00010-of-00033.bin:   0%|          | 0.00/405M [00:00<?, ?B/s]"
      ]
     },
     "metadata": {},
     "output_type": "display_data"
    },
    {
     "data": {
      "application/vnd.jupyter.widget-view+json": {
       "model_id": "488712e14cae486eb11a0be614b8ff10",
       "version_major": 2,
       "version_minor": 0
      },
      "text/plain": [
       "pytorch_model-00011-of-00033.bin:   0%|          | 0.00/405M [00:00<?, ?B/s]"
      ]
     },
     "metadata": {},
     "output_type": "display_data"
    },
    {
     "data": {
      "application/vnd.jupyter.widget-view+json": {
       "model_id": "510056f0e2f5489d9397d978e05b5acc",
       "version_major": 2,
       "version_minor": 0
      },
      "text/plain": [
       "pytorch_model-00012-of-00033.bin:   0%|          | 0.00/405M [00:00<?, ?B/s]"
      ]
     },
     "metadata": {},
     "output_type": "display_data"
    },
    {
     "data": {
      "application/vnd.jupyter.widget-view+json": {
       "model_id": "0f327d7712b443949e8f69bbe9041c0c",
       "version_major": 2,
       "version_minor": 0
      },
      "text/plain": [
       "pytorch_model-00013-of-00033.bin:   0%|          | 0.00/405M [00:00<?, ?B/s]"
      ]
     },
     "metadata": {},
     "output_type": "display_data"
    },
    {
     "data": {
      "application/vnd.jupyter.widget-view+json": {
       "model_id": "46651f418bc849c791af3ab84fb22ca4",
       "version_major": 2,
       "version_minor": 0
      },
      "text/plain": [
       "pytorch_model-00014-of-00033.bin:   0%|          | 0.00/405M [00:00<?, ?B/s]"
      ]
     },
     "metadata": {},
     "output_type": "display_data"
    },
    {
     "data": {
      "application/vnd.jupyter.widget-view+json": {
       "model_id": "d0901ec9031e424a9ba65a5f3a65aaf3",
       "version_major": 2,
       "version_minor": 0
      },
      "text/plain": [
       "pytorch_model-00015-of-00033.bin:   0%|          | 0.00/405M [00:00<?, ?B/s]"
      ]
     },
     "metadata": {},
     "output_type": "display_data"
    },
    {
     "data": {
      "application/vnd.jupyter.widget-view+json": {
       "model_id": "0b324e0198e849c7aa691a4ad2da6997",
       "version_major": 2,
       "version_minor": 0
      },
      "text/plain": [
       "pytorch_model-00016-of-00033.bin:   0%|          | 0.00/405M [00:00<?, ?B/s]"
      ]
     },
     "metadata": {},
     "output_type": "display_data"
    },
    {
     "data": {
      "application/vnd.jupyter.widget-view+json": {
       "model_id": "d8fe801a083e493dbda5f2b4c2114715",
       "version_major": 2,
       "version_minor": 0
      },
      "text/plain": [
       "pytorch_model-00017-of-00033.bin:   0%|          | 0.00/405M [00:00<?, ?B/s]"
      ]
     },
     "metadata": {},
     "output_type": "display_data"
    },
    {
     "data": {
      "application/vnd.jupyter.widget-view+json": {
       "model_id": "f90334b381ee468c940510fe389f3748",
       "version_major": 2,
       "version_minor": 0
      },
      "text/plain": [
       "pytorch_model-00018-of-00033.bin:   0%|          | 0.00/405M [00:00<?, ?B/s]"
      ]
     },
     "metadata": {},
     "output_type": "display_data"
    },
    {
     "data": {
      "application/vnd.jupyter.widget-view+json": {
       "model_id": "09b70623b1df498d864d4698de2324d1",
       "version_major": 2,
       "version_minor": 0
      },
      "text/plain": [
       "pytorch_model-00019-of-00033.bin:   0%|          | 0.00/405M [00:00<?, ?B/s]"
      ]
     },
     "metadata": {},
     "output_type": "display_data"
    },
    {
     "data": {
      "application/vnd.jupyter.widget-view+json": {
       "model_id": "c7df8c58b54443889013c5cf677e4327",
       "version_major": 2,
       "version_minor": 0
      },
      "text/plain": [
       "pytorch_model-00020-of-00033.bin:   0%|          | 0.00/405M [00:00<?, ?B/s]"
      ]
     },
     "metadata": {},
     "output_type": "display_data"
    },
    {
     "data": {
      "application/vnd.jupyter.widget-view+json": {
       "model_id": "b8ce15f1720644678e244b86a6f83277",
       "version_major": 2,
       "version_minor": 0
      },
      "text/plain": [
       "pytorch_model-00021-of-00033.bin:   0%|          | 0.00/405M [00:00<?, ?B/s]"
      ]
     },
     "metadata": {},
     "output_type": "display_data"
    },
    {
     "data": {
      "application/vnd.jupyter.widget-view+json": {
       "model_id": "927f8852f70843a282bda1cf86f131f9",
       "version_major": 2,
       "version_minor": 0
      },
      "text/plain": [
       "pytorch_model-00022-of-00033.bin:   0%|          | 0.00/405M [00:00<?, ?B/s]"
      ]
     },
     "metadata": {},
     "output_type": "display_data"
    },
    {
     "data": {
      "application/vnd.jupyter.widget-view+json": {
       "model_id": "bcc43e6951b549bca239b7a1f40a319e",
       "version_major": 2,
       "version_minor": 0
      },
      "text/plain": [
       "pytorch_model-00023-of-00033.bin:   0%|          | 0.00/405M [00:00<?, ?B/s]"
      ]
     },
     "metadata": {},
     "output_type": "display_data"
    },
    {
     "data": {
      "application/vnd.jupyter.widget-view+json": {
       "model_id": "b3b2a734fd854ae090f36664c27687b9",
       "version_major": 2,
       "version_minor": 0
      },
      "text/plain": [
       "pytorch_model-00024-of-00033.bin:   0%|          | 0.00/405M [00:00<?, ?B/s]"
      ]
     },
     "metadata": {},
     "output_type": "display_data"
    },
    {
     "data": {
      "application/vnd.jupyter.widget-view+json": {
       "model_id": "0cf7b3e00e0745bc8a690a45e3a2400b",
       "version_major": 2,
       "version_minor": 0
      },
      "text/plain": [
       "pytorch_model-00025-of-00033.bin:   0%|          | 0.00/405M [00:00<?, ?B/s]"
      ]
     },
     "metadata": {},
     "output_type": "display_data"
    },
    {
     "data": {
      "application/vnd.jupyter.widget-view+json": {
       "model_id": "49c655bda32e4a34950522cb4f084241",
       "version_major": 2,
       "version_minor": 0
      },
      "text/plain": [
       "pytorch_model-00026-of-00033.bin:   0%|          | 0.00/405M [00:00<?, ?B/s]"
      ]
     },
     "metadata": {},
     "output_type": "display_data"
    },
    {
     "data": {
      "application/vnd.jupyter.widget-view+json": {
       "model_id": "1d1dd21298f04f409c0371d651c7f721",
       "version_major": 2,
       "version_minor": 0
      },
      "text/plain": [
       "pytorch_model-00027-of-00033.bin:   0%|          | 0.00/405M [00:00<?, ?B/s]"
      ]
     },
     "metadata": {},
     "output_type": "display_data"
    },
    {
     "data": {
      "application/vnd.jupyter.widget-view+json": {
       "model_id": "7c343d7ae27642c289dc98c1f85d2762",
       "version_major": 2,
       "version_minor": 0
      },
      "text/plain": [
       "pytorch_model-00028-of-00033.bin:   0%|          | 0.00/405M [00:00<?, ?B/s]"
      ]
     },
     "metadata": {},
     "output_type": "display_data"
    },
    {
     "data": {
      "application/vnd.jupyter.widget-view+json": {
       "model_id": "656d34b7328345e0b2224fa7de271bcb",
       "version_major": 2,
       "version_minor": 0
      },
      "text/plain": [
       "pytorch_model-00029-of-00033.bin:   0%|          | 0.00/405M [00:00<?, ?B/s]"
      ]
     },
     "metadata": {},
     "output_type": "display_data"
    },
    {
     "data": {
      "application/vnd.jupyter.widget-view+json": {
       "model_id": "1758e9801afa4be2b399ecb15ce3810b",
       "version_major": 2,
       "version_minor": 0
      },
      "text/plain": [
       "pytorch_model-00030-of-00033.bin:   0%|          | 0.00/405M [00:00<?, ?B/s]"
      ]
     },
     "metadata": {},
     "output_type": "display_data"
    },
    {
     "data": {
      "application/vnd.jupyter.widget-view+json": {
       "model_id": "be91a9e686fb490cad59af2a377e52f0",
       "version_major": 2,
       "version_minor": 0
      },
      "text/plain": [
       "pytorch_model-00031-of-00033.bin:   0%|          | 0.00/405M [00:00<?, ?B/s]"
      ]
     },
     "metadata": {},
     "output_type": "display_data"
    },
    {
     "data": {
      "application/vnd.jupyter.widget-view+json": {
       "model_id": "4f59dd25ce6c4dee994e4cdd0165e435",
       "version_major": 2,
       "version_minor": 0
      },
      "text/plain": [
       "pytorch_model-00032-of-00033.bin:   0%|          | 0.00/405M [00:00<?, ?B/s]"
      ]
     },
     "metadata": {},
     "output_type": "display_data"
    },
    {
     "data": {
      "application/vnd.jupyter.widget-view+json": {
       "model_id": "6ac1739360834c7d892d0b89a77b2eb0",
       "version_major": 2,
       "version_minor": 0
      },
      "text/plain": [
       "pytorch_model-00033-of-00033.bin:   0%|          | 0.00/524M [00:00<?, ?B/s]"
      ]
     },
     "metadata": {},
     "output_type": "display_data"
    },
    {
     "data": {
      "application/vnd.jupyter.widget-view+json": {
       "model_id": "31235fa9d5324e69bb821b4bfd0916df",
       "version_major": 2,
       "version_minor": 0
      },
      "text/plain": [
       "Loading checkpoint shards:   0%|          | 0/33 [00:00<?, ?it/s]"
      ]
     },
     "metadata": {},
     "output_type": "display_data"
    },
    {
     "data": {
      "application/vnd.jupyter.widget-view+json": {
       "model_id": "2e299cf24c634ccb949ddd4fbb388454",
       "version_major": 2,
       "version_minor": 0
      },
      "text/plain": [
       "generation_config.json:   0%|          | 0.00/124 [00:00<?, ?B/s]"
      ]
     },
     "metadata": {},
     "output_type": "display_data"
    }
   ],
   "source": [
    "#!g2.1\n",
    "import torch\n",
    "model = AutoModelForCausalLM.from_pretrained(\"baffo32/decapoda-research-llama-7B-hf\", load_in_8bit=True,torch_dtype=torch.float16)"
   ]
  },
  {
   "cell_type": "code",
   "execution_count": 19,
   "id": "3fe7f842",
   "metadata": {
    "cellId": "abxkofndjvrrul4p8ac5mh"
   },
   "outputs": [],
   "source": [
    "#!g2.1\n",
    "from peft import (\n",
    "    LoraConfig,\n",
    "    get_peft_model,\n",
    "    get_peft_model_state_dict,\n",
    "    prepare_model_for_int8_training,\n",
    "    set_peft_model_state_dict,\n",
    ")"
   ]
  },
  {
   "cell_type": "code",
   "execution_count": 20,
   "id": "1c8165fc",
   "metadata": {
    "cellId": "r28xt3k4j4xfij9xooun"
   },
   "outputs": [],
   "source": [
    "#!g2.1\n",
    "model = prepare_model_for_int8_training(model)"
   ]
  },
  {
   "cell_type": "code",
   "execution_count": 21,
   "id": "5ffc4759",
   "metadata": {
    "cellId": "7n6lw3piinyo9e22snxmg"
   },
   "outputs": [],
   "source": [
    "#!g2.1\n",
    "lora_r=64\n",
    "lora_alpha= 64\n",
    "lora_dropout= 0.05\n",
    "lora_target_modules = [\"q_proj\", \"v_proj\", \"k_proj\", \"o_proj\",]"
   ]
  },
  {
   "cell_type": "code",
   "execution_count": 22,
   "id": "dc38d276",
   "metadata": {
    "cellId": "ne7svdmta8wyfo3brvu2p"
   },
   "outputs": [
    {
     "name": "stdout",
     "output_type": "stream",
     "text": [
      "trainable params: 67,108,864 || all params: 6,805,524,480 || trainable%: 0.986093932910223\n"
     ]
    }
   ],
   "source": [
    "#!g2.1\n",
    "config = LoraConfig(\n",
    "        r=lora_r,\n",
    "        lora_alpha=lora_alpha,\n",
    "        target_modules=lora_target_modules,\n",
    "        lora_dropout=lora_dropout,\n",
    "        bias=\"none\",\n",
    "        task_type=\"CAUSAL_LM\",\n",
    "    )\n",
    "\n",
    "model = get_peft_model(model, config)\n",
    "model.print_trainable_parameters()"
   ]
  },
  {
   "cell_type": "code",
   "execution_count": 23,
   "id": "0a79cfa9",
   "metadata": {
    "cellId": "pdu8yd3ze3qfdg0qq1ct2f"
   },
   "outputs": [],
   "source": [
    "#!g2.1\n",
    "import warnings\n",
    "warnings.filterwarnings(\"ignore\")"
   ]
  },
  {
   "cell_type": "code",
   "execution_count": 24,
   "id": "d4019b57",
   "metadata": {
    "cellId": "u5ddppn307igammcopuw4"
   },
   "outputs": [],
   "source": [
    "#!g2.1\n",
    "import fire\n",
    "import transformers"
   ]
  },
  {
   "cell_type": "code",
   "execution_count": 25,
   "id": "70c10ac1",
   "metadata": {
    "cellId": "yvoz723n6kzsah1lcvfhr"
   },
   "outputs": [
    {
     "name": "stderr",
     "output_type": "stream",
     "text": [
      "2023-11-24 19:47:44.220134: W tensorflow/compiler/tf2tensorrt/utils/py_utils.cc:38] TF-TRT Warning: Could not find TensorRT\n",
      "You're using a LlamaTokenizerFast tokenizer. Please note that with a fast tokenizer, using the `__call__` method is faster than using a method to encode the text followed by a call to the `pad` method to get a padded encoding.\n"
     ]
    },
    {
     "data": {
      "text/html": [
       "\n",
       "    <div>\n",
       "      \n",
       "      <progress value='300' max='300' style='width:300px; height:20px; vertical-align: middle;'></progress>\n",
       "      [300/300 30:57, Epoch 2/3]\n",
       "    </div>\n",
       "    <table border=\"1\" class=\"dataframe\">\n",
       "  <thead>\n",
       " <tr style=\"text-align: left;\">\n",
       "      <th>Step</th>\n",
       "      <th>Training Loss</th>\n",
       "      <th>Validation Loss</th>\n",
       "    </tr>\n",
       "  </thead>\n",
       "  <tbody>\n",
       "    <tr>\n",
       "      <td>40</td>\n",
       "      <td>0.132700</td>\n",
       "      <td>0.030083</td>\n",
       "    </tr>\n",
       "    <tr>\n",
       "      <td>80</td>\n",
       "      <td>0.038400</td>\n",
       "      <td>0.025419</td>\n",
       "    </tr>\n",
       "    <tr>\n",
       "      <td>120</td>\n",
       "      <td>0.033300</td>\n",
       "      <td>0.025349</td>\n",
       "    </tr>\n",
       "    <tr>\n",
       "      <td>160</td>\n",
       "      <td>0.022400</td>\n",
       "      <td>0.024690</td>\n",
       "    </tr>\n",
       "    <tr>\n",
       "      <td>200</td>\n",
       "      <td>0.020900</td>\n",
       "      <td>0.022796</td>\n",
       "    </tr>\n",
       "    <tr>\n",
       "      <td>240</td>\n",
       "      <td>0.020200</td>\n",
       "      <td>0.022269</td>\n",
       "    </tr>\n",
       "    <tr>\n",
       "      <td>280</td>\n",
       "      <td>0.013000</td>\n",
       "      <td>0.025286</td>\n",
       "    </tr>\n",
       "  </tbody>\n",
       "</table><p>"
      ],
      "text/plain": [
       "<IPython.core.display.HTML object>"
      ]
     },
     "metadata": {},
     "output_type": "display_data"
    },
    {
     "data": {
      "text/plain": [
       "TrainOutput(global_step=300, training_loss=0.038281059314807256, metrics={'train_runtime': 1865.8526, 'train_samples_per_second': 5.145, 'train_steps_per_second': 0.161, 'total_flos': 5.164360276180992e+16, 'train_loss': 0.038281059314807256, 'epoch': 2.51})"
      ]
     },
     "execution_count": 25,
     "metadata": {},
     "output_type": "execute_result"
    }
   ],
   "source": [
    "#!g2.1\n",
    "trainer = transformers.Trainer(\n",
    "    model=model, \n",
    "    train_dataset=train_data,\n",
    "    eval_dataset=val_data,\n",
    "    #compute_metrics = compute_metrics,\n",
    "    args=transformers.TrainingArguments(\n",
    "        per_device_train_batch_size=8, \n",
    "        gradient_accumulation_steps=4,\n",
    "        warmup_steps=2, \n",
    "        num_train_epochs=1,\n",
    "        max_steps=300, \n",
    "        learning_rate=3e-4, \n",
    "        fp16=True,\n",
    "        logging_steps=40, \n",
    "        save_strategy=\"no\",\n",
    "        optim=\"adamw_torch\",\n",
    "        evaluation_strategy=\"steps\",\n",
    "        eval_steps=40,\n",
    "        output_dir='Llama2_instr_ABSA',\n",
    "        #report_to=\"wandb\",\n",
    "        #push_to_hub = True\n",
    "        \n",
    "    ),\n",
    "    data_collator=transformers.DataCollatorForSeq2Seq(\n",
    "            tokenizer, pad_to_multiple_of=8, return_tensors=\"pt\", padding=True\n",
    "        ),\n",
    ")\n",
    "model.config.use_cache = False  # silence the warnings. Please re-enable for inference!\n",
    "\n",
    "\n",
    "trainer.train()"
   ]
  },
  {
   "cell_type": "markdown",
   "metadata": {},
   "source": [
    "## Оценка качества\n",
    "\n",
    "Для оценки буду сопоставлять сгенерированный текст и исходный ответ, в качестве метрики возьму exact match на уровне единицы корпуса текстов. В данном датасете - это отдельное предложение"
   ]
  },
  {
   "cell_type": "code",
   "execution_count": 26,
   "id": "9e4e017a",
   "metadata": {
    "cellId": "bgi54qjqz0cjfrlrvkn49"
   },
   "outputs": [
    {
     "name": "stdout",
     "output_type": "stream",
     "text": [
      "Defaulting to user installation because normal site-packages is not writeable\n",
      "Requirement already satisfied: evaluate in /home/jupyter/.local/lib/python3.10/site-packages (0.4.1)\n",
      "Requirement already satisfied: datasets>=2.0.0 in /home/jupyter/.local/lib/python3.10/site-packages (from evaluate) (2.15.0)\n",
      "Requirement already satisfied: numpy>=1.17 in /usr/local/lib/python3.10/dist-packages (from evaluate) (1.22.4)\n",
      "Requirement already satisfied: dill in /home/jupyter/.local/lib/python3.10/site-packages (from evaluate) (0.3.4)\n",
      "Requirement already satisfied: pandas in /usr/local/lib/python3.10/dist-packages (from evaluate) (1.5.3)\n",
      "Requirement already satisfied: requests>=2.19.0 in /usr/local/lib/python3.10/dist-packages (from evaluate) (2.27.1)\n",
      "Requirement already satisfied: tqdm>=4.62.1 in /home/jupyter/.local/lib/python3.10/site-packages (from evaluate) (4.66.1)\n",
      "Requirement already satisfied: xxhash in /kernel/fallback/lib/python3.10/site-packages (from evaluate) (2.0.0)\n",
      "Requirement already satisfied: multiprocess in /home/jupyter/.local/lib/python3.10/site-packages (from evaluate) (0.70.15)\n",
      "Requirement already satisfied: fsspec[http]>=2021.05.0 in /home/jupyter/.local/lib/python3.10/site-packages (from evaluate) (2023.10.0)\n",
      "Requirement already satisfied: huggingface-hub>=0.7.0 in /home/jupyter/.local/lib/python3.10/site-packages (from evaluate) (0.19.4)\n",
      "Requirement already satisfied: packaging in /kernel/lib/python3.10/site-packages (from evaluate) (23.2)\n",
      "Requirement already satisfied: responses<0.19 in /home/jupyter/.local/lib/python3.10/site-packages (from evaluate) (0.18.0)\n",
      "Requirement already satisfied: pyarrow>=8.0.0 in /usr/local/lib/python3.10/dist-packages (from datasets>=2.0.0->evaluate) (9.0.0)\n",
      "Requirement already satisfied: pyarrow-hotfix in /home/jupyter/.local/lib/python3.10/site-packages (from datasets>=2.0.0->evaluate) (0.6)\n",
      "Requirement already satisfied: aiohttp in /usr/local/lib/python3.10/dist-packages (from datasets>=2.0.0->evaluate) (3.8.5)\n",
      "Requirement already satisfied: pyyaml>=5.1 in /usr/local/lib/python3.10/dist-packages (from datasets>=2.0.0->evaluate) (6.0.1)\n",
      "Requirement already satisfied: filelock in /usr/local/lib/python3.10/dist-packages (from huggingface-hub>=0.7.0->evaluate) (3.12.2)\n",
      "Requirement already satisfied: typing-extensions>=3.7.4.3 in /kernel/lib/python3.10/site-packages (from huggingface-hub>=0.7.0->evaluate) (4.8.0)\n",
      "Collecting urllib3<1.27,>=1.21.1 (from requests>=2.19.0->evaluate)\n",
      "  Obtaining dependency information for urllib3<1.27,>=1.21.1 from https://files.pythonhosted.org/packages/b0/53/aa91e163dcfd1e5b82d8a890ecf13314e3e149c05270cc644581f77f17fd/urllib3-1.26.18-py2.py3-none-any.whl.metadata\n",
      "  Using cached urllib3-1.26.18-py2.py3-none-any.whl.metadata (48 kB)\n",
      "Requirement already satisfied: certifi>=2017.4.17 in /kernel/lib/python3.10/site-packages (from requests>=2.19.0->evaluate) (2023.7.22)\n",
      "Collecting charset-normalizer~=2.0.0 (from requests>=2.19.0->evaluate)\n",
      "  Using cached charset_normalizer-2.0.12-py3-none-any.whl (39 kB)\n",
      "Requirement already satisfied: idna<4,>=2.5 in /kernel/lib/python3.10/site-packages (from requests>=2.19.0->evaluate) (3.4)\n",
      "Collecting dill (from evaluate)\n",
      "  Obtaining dependency information for dill from https://files.pythonhosted.org/packages/f5/3a/74a29b11cf2cdfcd6ba89c0cecd70b37cd1ba7b77978ce611eb7a146a832/dill-0.3.7-py3-none-any.whl.metadata\n",
      "  Downloading dill-0.3.7-py3-none-any.whl.metadata (9.9 kB)\n",
      "Requirement already satisfied: python-dateutil>=2.8.1 in /kernel/lib/python3.10/site-packages (from pandas->evaluate) (2.8.2)\n",
      "Requirement already satisfied: pytz>=2020.1 in /usr/local/lib/python3.10/dist-packages (from pandas->evaluate) (2022.7.1)\n",
      "Requirement already satisfied: attrs>=17.3.0 in /kernel/lib/python3.10/site-packages (from aiohttp->datasets>=2.0.0->evaluate) (23.1.0)\n",
      "Requirement already satisfied: multidict<7.0,>=4.5 in /usr/local/lib/python3.10/dist-packages (from aiohttp->datasets>=2.0.0->evaluate) (6.0.4)\n",
      "Requirement already satisfied: async-timeout<5.0,>=4.0.0a3 in /usr/local/lib/python3.10/dist-packages (from aiohttp->datasets>=2.0.0->evaluate) (4.0.2)\n",
      "Requirement already satisfied: yarl<2.0,>=1.0 in /usr/local/lib/python3.10/dist-packages (from aiohttp->datasets>=2.0.0->evaluate) (1.9.2)\n",
      "Requirement already satisfied: frozenlist>=1.1.1 in /usr/local/lib/python3.10/dist-packages (from aiohttp->datasets>=2.0.0->evaluate) (1.4.0)\n",
      "Requirement already satisfied: aiosignal>=1.1.2 in /usr/local/lib/python3.10/dist-packages (from aiohttp->datasets>=2.0.0->evaluate) (1.3.1)\n",
      "Requirement already satisfied: six>=1.5 in /kernel/lib/python3.10/site-packages (from python-dateutil>=2.8.1->pandas->evaluate) (1.16.0)\n",
      "Downloading dill-0.3.7-py3-none-any.whl (115 kB)\n",
      "\u001b[2K   \u001b[90m━━━━━━━━━━━━━━━━━━━━━━━━━━━━━━━━━━━━━━━\u001b[0m \u001b[32m115.3/115.3 kB\u001b[0m \u001b[31m996.5 kB/s\u001b[0m eta \u001b[36m0:00:00\u001b[0m0:01\u001b[0m:00:01\u001b[0m\n",
      "\u001b[?25hUsing cached urllib3-1.26.18-py2.py3-none-any.whl (143 kB)\n",
      "Installing collected packages: urllib3, dill, charset-normalizer\n",
      "  Attempting uninstall: dill\n",
      "    Found existing installation: dill 0.3.4\n",
      "    Uninstalling dill-0.3.4:\n",
      "      Successfully uninstalled dill-0.3.4\n",
      "\u001b[33m  WARNING: The script normalizer is installed in '/home/jupyter/.local/bin' which is not on PATH.\n",
      "  Consider adding this directory to PATH or, if you prefer to suppress this warning, use --no-warn-script-location.\u001b[0m\u001b[33m\n",
      "\u001b[0m\u001b[31mERROR: pip's dependency resolver does not currently take into account all the packages that are installed. This behaviour is the source of the following dependency conflicts.\n",
      "gcsfs 2023.6.0 requires fsspec==2023.6.0, but you have fsspec 2023.10.0 which is incompatible.\u001b[0m\u001b[31m\n",
      "\u001b[0mSuccessfully installed charset-normalizer-2.0.12 dill-0.3.7 urllib3-1.26.18\n",
      "\n",
      "\u001b[1m[\u001b[0m\u001b[34;49mnotice\u001b[0m\u001b[1;39;49m]\u001b[0m\u001b[39;49m A new release of pip is available: \u001b[0m\u001b[31;49m23.2.1\u001b[0m\u001b[39;49m -> \u001b[0m\u001b[32;49m23.3.1\u001b[0m\n",
      "\u001b[1m[\u001b[0m\u001b[34;49mnotice\u001b[0m\u001b[1;39;49m]\u001b[0m\u001b[39;49m To update, run: \u001b[0m\u001b[32;49mpython3 -m pip install --upgrade pip\u001b[0m\n"
     ]
    }
   ],
   "source": [
    "#!g2.1\n",
    "%pip install evaluate"
   ]
  },
  {
   "cell_type": "code",
   "execution_count": 27,
   "id": "6dbb4bf6",
   "metadata": {
    "cellId": "9fphxbz2ktzryoonrs5gq"
   },
   "outputs": [
    {
     "data": {
      "application/vnd.jupyter.widget-view+json": {
       "model_id": "35c1df47c4904a4ea86108d7bd16e138",
       "version_major": 2,
       "version_minor": 0
      },
      "text/plain": [
       "Downloading builder script:   0%|          | 0.00/5.67k [00:00<?, ?B/s]"
      ]
     },
     "metadata": {},
     "output_type": "display_data"
    }
   ],
   "source": [
    "#!g2.1\n",
    "import evaluate\n",
    "metric = evaluate.load(\"exact_match\")"
   ]
  },
  {
   "cell_type": "code",
   "execution_count": 28,
   "id": "317e88ac",
   "metadata": {
    "cellId": "hi08weuhno5q12iq82acva"
   },
   "outputs": [
    {
     "data": {
      "text/plain": [
       "device(type='cuda')"
      ]
     },
     "execution_count": 28,
     "metadata": {},
     "output_type": "execute_result"
    }
   ],
   "source": [
    "#!g2.1\n",
    "import torch\n",
    "device = torch.device ('cuda' if torch.cuda.is_available() else 'cpu')\n",
    "device"
   ]
  },
  {
   "cell_type": "code",
   "execution_count": 29,
   "id": "0c2c038b",
   "metadata": {
    "cellId": "i44s3h3uuqbby68lupgg8"
   },
   "outputs": [],
   "source": [
    "#!g2.1\n",
    "from transformers import GenerationConfig"
   ]
  },
  {
   "cell_type": "code",
   "execution_count": 30,
   "id": "e3b3cf4e",
   "metadata": {
    "cellId": "09bhgmrxfszjd7e0z36z1r"
   },
   "outputs": [],
   "source": [
    "#!g2.1\n",
    "model.eval()\n",
    "\n",
    "def evaluat(\n",
    "    text,\n",
    "    temperature=0.1,\n",
    "    top_p=0.75,\n",
    "    top_k=40,\n",
    "    num_beams=2,\n",
    "    max_new_tokens=512,\n",
    "    #stream_output=True,\n",
    "    **kwargs,\n",
    "):\n",
    "    prompt = prompter.generate_prompt(text)\n",
    "    inputs = tokenizer(prompt, return_tensors=\"pt\")\n",
    "    input_ids = inputs[\"input_ids\"].to(device)\n",
    "    generation_config = GenerationConfig(\n",
    "        temperature=temperature,\n",
    "        top_p=top_p,\n",
    "        top_k=top_k,\n",
    "        num_beams=num_beams,\n",
    "        **kwargs,\n",
    "    )\n",
    "\n",
    "    generate_params = {\n",
    "        \"input_ids\": input_ids,\n",
    "        \"generation_config\": generation_config,\n",
    "        \"return_dict_in_generate\": True,\n",
    "        \"output_scores\": True,\n",
    "        \"max_new_tokens\": max_new_tokens,\n",
    "    }\n",
    "\n",
    "    # Without streaming\n",
    "    with torch.no_grad():\n",
    "        generation_output = model.generate(\n",
    "            input_ids=input_ids,\n",
    "            generation_config=generation_config,\n",
    "            return_dict_in_generate=True,\n",
    "            output_scores=True,\n",
    "            max_new_tokens=max_new_tokens,\n",
    "        )\n",
    "    s = generation_output.sequences[0]\n",
    "    output = tokenizer.decode(s, skip_special_tokens=True).strip()\n",
    "    \n",
    "    return prompter.get_response(output)"
   ]
  },
  {
   "cell_type": "code",
   "execution_count": 31,
   "id": "9bb165cc",
   "metadata": {
    "cellId": "6t650e4nth3zipigm6x7g"
   },
   "outputs": [
    {
     "data": {
      "application/vnd.jupyter.widget-view+json": {
       "model_id": "04ec5deb76dc4134b12d9d4c567f99d7",
       "version_major": 2,
       "version_minor": 0
      },
      "text/plain": [
       "  0%|          | 0/119 [00:00<?, ?it/s]"
      ]
     },
     "metadata": {},
     "output_type": "display_data"
    }
   ],
   "source": [
    "#!g2.1\n",
    "from tqdm import tqdm_notebook\n",
    "answers = []\n",
    "for i in tqdm_notebook(val_data):\n",
    "    answers.append(evaluat(i['instruction']))"
   ]
  },
  {
   "cell_type": "code",
   "execution_count": 32,
   "id": "67599a0d",
   "metadata": {
    "cellId": "m3h5ns1odrpbnlb9zk81gf"
   },
   "outputs": [],
   "source": [
    "#!g2.1\n",
    "import re\n",
    "answers_upd = []\n",
    "for i in answers:\n",
    "    if 'Aspects and their polarity:' in i:\n",
    "        correction = i.split('Aspects and their polarity:')[1].strip()\n",
    "        correction = re.sub('[^A-Za-z:, ]+', '', correction).strip()\n",
    "        answers_upd.append(correction)\n",
    "    else:\n",
    "        correction = re.sub('[^a-zA-Z:, ]+', '', correction)\n",
    "        correction = i.strip()\n",
    "        answers_upd.append(correction)\n"
   ]
  },
  {
   "cell_type": "markdown",
   "metadata": {},
   "source": [
    "Посмотрим, в каких случаях была сгенерирована с ошибкой."
   ]
  },
  {
   "cell_type": "code",
   "execution_count": 49,
   "id": "d40ed0b0",
   "metadata": {
    "cellId": "3iowgyr2qz6ilzo7hzzstj"
   },
   "outputs": [
    {
     "data": {
      "text/plain": [
       "'Total % of correct answers: 0.7647058823529411'"
      ]
     },
     "metadata": {},
     "output_type": "display_data"
    },
    {
     "data": {
      "text/plain": [
       "'======================='"
      ]
     },
     "metadata": {},
     "output_type": "display_data"
    },
    {
     "data": {
      "text/plain": [
       "('style: positive', '', {'exact_match': 0.0})"
      ]
     },
     "metadata": {},
     "output_type": "display_data"
    },
    {
     "data": {
      "text/plain": [
       "'==========================='"
      ]
     },
     "metadata": {},
     "output_type": "display_data"
    },
    {
     "data": {
      "text/plain": [
       "('food: positive, server: positive, sommelier: neutral, fromager: neutral, wine: neutral, cheese: neutral',\n",
       " 'food suggestions: positive, server: positive, sommelier: positive, fromager: positive, wine: neutral, cheese: neutral',\n",
       " {'exact_match': 0.0})"
      ]
     },
     "metadata": {},
     "output_type": "display_data"
    },
    {
     "data": {
      "text/plain": [
       "'==========================='"
      ]
     },
     "metadata": {},
     "output_type": "display_data"
    },
    {
     "data": {
      "text/plain": [
       "('pasta: positive, portions: positive, sauce: neutral',\n",
       " 'pasta: positive, sauce: neutral, portions: positive',\n",
       " {'exact_match': 0.0})"
      ]
     },
     "metadata": {},
     "output_type": "display_data"
    },
    {
     "data": {
      "text/plain": [
       "'==========================='"
      ]
     },
     "metadata": {},
     "output_type": "display_data"
    },
    {
     "data": {
      "text/plain": [
       "('food: positive, wine: positive, dining experience: positive',\n",
       " 'food: positive, wine: positive, dining: positive',\n",
       " {'exact_match': 0.0})"
      ]
     },
     "metadata": {},
     "output_type": "display_data"
    },
    {
     "data": {
      "text/plain": [
       "'==========================='"
      ]
     },
     "metadata": {},
     "output_type": "display_data"
    },
    {
     "data": {
      "text/plain": [
       "('vegetarian dishes: negative, nonveg selections: positive',\n",
       " 'vegetarian dishes: negative, non-veg selections: positive',\n",
       " {'exact_match': 0.0})"
      ]
     },
     "metadata": {},
     "output_type": "display_data"
    },
    {
     "data": {
      "text/plain": [
       "'==========================='"
      ]
     },
     "metadata": {},
     "output_type": "display_data"
    },
    {
     "data": {
      "text/plain": [
       "('', 'people: positive', {'exact_match': 0.0})"
      ]
     },
     "metadata": {},
     "output_type": "display_data"
    },
    {
     "data": {
      "text/plain": [
       "'==========================='"
      ]
     },
     "metadata": {},
     "output_type": "display_data"
    },
    {
     "data": {
      "text/plain": [
       "('prix fixe meal: neutral', 'prix fixe meal: negative', {'exact_match': 0.0})"
      ]
     },
     "metadata": {},
     "output_type": "display_data"
    },
    {
     "data": {
      "text/plain": [
       "'==========================='"
      ]
     },
     "metadata": {},
     "output_type": "display_data"
    },
    {
     "data": {
      "text/plain": [
       "('wine selection: positive, gigondas: positive, house champagne: positive, price: positive',\n",
       " 'wine selection: positive, gigondas: positive, house champagne: positive, price: neutral',\n",
       " {'exact_match': 0.0})"
      ]
     },
     "metadata": {},
     "output_type": "display_data"
    },
    {
     "data": {
      "text/plain": [
       "'==========================='"
      ]
     },
     "metadata": {},
     "output_type": "display_data"
    },
    {
     "data": {
      "text/plain": [
       "('brisket: positive, ribs: positive, wings: positive, cajun shrimp: positive',\n",
       " 'brisket: positive, ribs: positive, wings: positive, cajun shrimp: neutral',\n",
       " {'exact_match': 0.0})"
      ]
     },
     "metadata": {},
     "output_type": "display_data"
    },
    {
     "data": {
      "text/plain": [
       "'==========================='"
      ]
     },
     "metadata": {},
     "output_type": "display_data"
    },
    {
     "data": {
      "text/plain": [
       "('decor: positive, food: positive, wine list: positive, food: positive',\n",
       " 'decor: positive, food: positive, wine list: positive, food: neutral',\n",
       " {'exact_match': 0.0})"
      ]
     },
     "metadata": {},
     "output_type": "display_data"
    },
    {
     "data": {
      "text/plain": [
       "'==========================='"
      ]
     },
     "metadata": {},
     "output_type": "display_data"
    },
    {
     "data": {
      "text/plain": [
       "('atmosphere: negative, prices: positive',\n",
       " 'atmosphere: neutral, prices: positive',\n",
       " {'exact_match': 0.0})"
      ]
     },
     "metadata": {},
     "output_type": "display_data"
    },
    {
     "data": {
      "text/plain": [
       "'==========================='"
      ]
     },
     "metadata": {},
     "output_type": "display_data"
    },
    {
     "data": {
      "text/plain": [
       "('24 hour bagel place: negative atmosphere: negative',\n",
       " 'atmosphere: negative, bagel: neutral',\n",
       " {'exact_match': 0.0})"
      ]
     },
     "metadata": {},
     "output_type": "display_data"
    },
    {
     "data": {
      "text/plain": [
       "'==========================='"
      ]
     },
     "metadata": {},
     "output_type": "display_data"
    },
    {
     "data": {
      "text/plain": [
       "('service: negative, reservations: positive',\n",
       " 'reservations: positive, service: negative',\n",
       " {'exact_match': 0.0})"
      ]
     },
     "metadata": {},
     "output_type": "display_data"
    },
    {
     "data": {
      "text/plain": [
       "'==========================='"
      ]
     },
     "metadata": {},
     "output_type": "display_data"
    },
    {
     "data": {
      "text/plain": [
       "('menu: positive', 'menu: neutral', {'exact_match': 0.0})"
      ]
     },
     "metadata": {},
     "output_type": "display_data"
    },
    {
     "data": {
      "text/plain": [
       "'==========================='"
      ]
     },
     "metadata": {},
     "output_type": "display_data"
    },
    {
     "data": {
      "text/plain": [
       "('display: negative, quality of the food: negative',\n",
       " 'display and quality of the food: negative',\n",
       " {'exact_match': 0.0})"
      ]
     },
     "metadata": {},
     "output_type": "display_data"
    },
    {
     "data": {
      "text/plain": [
       "'==========================='"
      ]
     },
     "metadata": {},
     "output_type": "display_data"
    },
    {
     "data": {
      "text/plain": [
       "('glasses of water: negative',\n",
       " 'glasses of water: neutral',\n",
       " {'exact_match': 0.0})"
      ]
     },
     "metadata": {},
     "output_type": "display_data"
    },
    {
     "data": {
      "text/plain": [
       "'==========================='"
      ]
     },
     "metadata": {},
     "output_type": "display_data"
    },
    {
     "data": {
      "text/plain": [
       "('kababs: positive',\n",
       " 'kababs: positive, dal bukhara: positive',\n",
       " {'exact_match': 0.0})"
      ]
     },
     "metadata": {},
     "output_type": "display_data"
    },
    {
     "data": {
      "text/plain": [
       "'==========================='"
      ]
     },
     "metadata": {},
     "output_type": "display_data"
    },
    {
     "data": {
      "text/plain": [
       "('spicy scallop roll: positive, sesame chicken: positive',\n",
       " 'scallop roll: positive, sesame chicken: positive',\n",
       " {'exact_match': 0.0})"
      ]
     },
     "metadata": {},
     "output_type": "display_data"
    },
    {
     "data": {
      "text/plain": [
       "'==========================='"
      ]
     },
     "metadata": {},
     "output_type": "display_data"
    },
    {
     "data": {
      "text/plain": [
       "('reservations: negative, tips: negative, stuff: negative',\n",
       " 'reservations: positive, tips: positive, stuff: positive',\n",
       " {'exact_match': 0.0})"
      ]
     },
     "metadata": {},
     "output_type": "display_data"
    },
    {
     "data": {
      "text/plain": [
       "'==========================='"
      ]
     },
     "metadata": {},
     "output_type": "display_data"
    },
    {
     "data": {
      "text/plain": [
       "('rice dishes: positive, varieties of congee rice porridge: positive',\n",
       " 'rice dishes: positive, congee rice porridge: positive',\n",
       " {'exact_match': 0.0})"
      ]
     },
     "metadata": {},
     "output_type": "display_data"
    },
    {
     "data": {
      "text/plain": [
       "'==========================='"
      ]
     },
     "metadata": {},
     "output_type": "display_data"
    },
    {
     "data": {
      "text/plain": [
       "('food: positive', 'food: positive, food: positive', {'exact_match': 0.0})"
      ]
     },
     "metadata": {},
     "output_type": "display_data"
    },
    {
     "data": {
      "text/plain": [
       "'==========================='"
      ]
     },
     "metadata": {},
     "output_type": "display_data"
    },
    {
     "data": {
      "text/plain": [
       "('staff: negative, place: positive', 'staff: negative', {'exact_match': 0.0})"
      ]
     },
     "metadata": {},
     "output_type": "display_data"
    },
    {
     "data": {
      "text/plain": [
       "'==========================='"
      ]
     },
     "metadata": {},
     "output_type": "display_data"
    },
    {
     "data": {
      "text/plain": [
       "('dim sum servings: negative',\n",
       " 'dim sum servings: neutral',\n",
       " {'exact_match': 0.0})"
      ]
     },
     "metadata": {},
     "output_type": "display_data"
    },
    {
     "data": {
      "text/plain": [
       "'==========================='"
      ]
     },
     "metadata": {},
     "output_type": "display_data"
    },
    {
     "data": {
      "text/plain": [
       "('food: positive, atmosphere: neutral',\n",
       " 'food: neutral, atmosphere: neutral',\n",
       " {'exact_match': 0.0})"
      ]
     },
     "metadata": {},
     "output_type": "display_data"
    },
    {
     "data": {
      "text/plain": [
       "'==========================='"
      ]
     },
     "metadata": {},
     "output_type": "display_data"
    },
    {
     "data": {
      "text/plain": [
       "('casual drink: positive, landscaping: positive',\n",
       " 'casual drink: positive, outdoors: positive, place: positive',\n",
       " {'exact_match': 0.0})"
      ]
     },
     "metadata": {},
     "output_type": "display_data"
    },
    {
     "data": {
      "text/plain": [
       "'==========================='"
      ]
     },
     "metadata": {},
     "output_type": "display_data"
    },
    {
     "data": {
      "text/plain": [
       "('table: negative, corridor: negative, kitchen: neutral',\n",
       " 'table: negative',\n",
       " {'exact_match': 0.0})"
      ]
     },
     "metadata": {},
     "output_type": "display_data"
    },
    {
     "data": {
      "text/plain": [
       "'==========================='"
      ]
     },
     "metadata": {},
     "output_type": "display_data"
    },
    {
     "data": {
      "text/plain": [
       "('vegetarian selection: positive', '', {'exact_match': 0.0})"
      ]
     },
     "metadata": {},
     "output_type": "display_data"
    },
    {
     "data": {
      "text/plain": [
       "'==========================='"
      ]
     },
     "metadata": {},
     "output_type": "display_data"
    },
    {
     "data": {
      "text/plain": [
       "('pizza: neutral', 'pizza: negative', {'exact_match': 0.0})"
      ]
     },
     "metadata": {},
     "output_type": "display_data"
    },
    {
     "data": {
      "text/plain": [
       "'==========================='"
      ]
     },
     "metadata": {},
     "output_type": "display_data"
    }
   ],
   "source": [
    "#!g2.1\n",
    "texts_together = []\n",
    "count = 0\n",
    "for prediction, label in zip(answers_upd, val_data['answer']):\n",
    "        prediction = prediction.replace('Aspects and their polarity?', '').replace('.', '').strip().lower()\n",
    "        label = label.lower().replace('(', '').replace(')', '')\n",
    "        if metric.compute(predictions=[prediction], references=[label])['exact_match'] == 1.0:\n",
    "            count += 1\n",
    "        texts_together.append((prediction,label,metric.compute(predictions=[prediction], references=[label]) ))\n",
    "display(f'Total % of correct answers: {count/len(texts_together)}')\n",
    "display('=======================')\n",
    "for i in texts_together:\n",
    "    if i[2]['exact_match'] == 0:\n",
    "        display(i)\n",
    "        display('===========================')"
   ]
  },
  {
   "cell_type": "code",
   "execution_count": 50,
   "id": "c0024ac5",
   "metadata": {
    "cellId": "rr8lpjai5480m8v0cugn5o"
   },
   "outputs": [
    {
     "name": "stdout",
     "output_type": "stream",
     "text": [
      "91\n",
      "119\n"
     ]
    }
   ],
   "source": [
    "#!g2.1\n",
    "print(count)\n",
    "print(len(texts_together))"
   ]
  },
  {
   "attachments": {
    "39173a85-01a1-403b-8f1d-fe3cff685f5c.png": {
     "image/png": "[encoded data removed]"
    },
    "4a21eb40-bdbf-4e8c-8be8-5f2a1709a7e0.png": {
     "image/png": "[encoded data removed]"
    },
    "4aa7ced1-62f2-40bf-aad6-f81955345871.png": {
     "image/png": "[encoded data removed]"
    },
    "4e1d3565-444d-4999-aed5-8844e467d76c.png": {
     "image/png": "[encoded data removed]"
    },
    "a0b474aa-d75b-49bd-a95b-2855e379bb89.png": {
     "image/png": "[encoded data removed]"
    },
    "b4200e2c-e426-4e89-934d-598d86171a68.png": {
     "image/png": "[encoded data removed]"
    },
    "f9c3649b-8f72-4d0e-8f84-081185564364.png": {
     "image/png": "[encoded data removed]"
    }
   },
   "cell_type": "markdown",
   "id": "18ddfaa7",
   "metadata": {
    "cellId": "ascov5l59rth39ah8h8qop",
    "execution_id": "4f3ab1f9-3b40-45c2-9750-8348f7f07f61"
   },
   "source": [
    "Добавить к расчету:\n",
    "\n",
    "![image.png](attachment:4a21eb40-bdbf-4e8c-8be8-5f2a1709a7e0.png)\n",
    "\n",
    "![image.png](attachment:4e1d3565-444d-4999-aed5-8844e467d76c.png)\n",
    "\n",
    "![image.png](attachment:b4200e2c-e426-4e89-934d-598d86171a68.png)\n",
    "\n",
    "![image.png](attachment:39173a85-01a1-403b-8f1d-fe3cff685f5c.png)\n",
    "\n",
    "![image.png](attachment:f9c3649b-8f72-4d0e-8f84-081185564364.png)\n",
    "\n",
    "![image.png](attachment:a0b474aa-d75b-49bd-a95b-2855e379bb89.png)\n",
    "\n",
    "![image.png](attachment:4aa7ced1-62f2-40bf-aad6-f81955345871.png)\n"
   ]
  },
  {
   "cell_type": "markdown",
   "metadata": {},
   "source": [
    "# Финальные выводы\n",
    "\n",
    "Это самая большая модель, которую я использовала в экспериментах. Она показала лучший результат и самую близкую к benchmark метрику. Подход с помощью промтов является также достаточной универсальным в отношении домена корпуса текстов, так как сами промты имеею общий характер.\n",
    "\n",
    "Данную методику буду использовать в качестве основной в дальнейших экспериментах."
   ]
  }
 ],
 "metadata": {
  "language_info": {
   "codemirror_mode": {
    "name": "ipython",
    "version": 3
   },
   "file_extension": ".py",
   "mimetype": "text/x-python",
   "name": "python",
   "nbconvert_exporter": "python",
   "pygments_lexer": "ipython3",
   "version": "3.7.7"
  },
  "notebookId": "0d32fc4e-d05d-4c47-976b-8e696ba62496",
  "notebookPath": "Llama_instruction_tune.ipynb"
 },
 "nbformat": 4,
 "nbformat_minor": 5
}
