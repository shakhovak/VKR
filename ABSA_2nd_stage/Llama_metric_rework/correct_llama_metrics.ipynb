{
 "cells": [
  {
   "cell_type": "markdown",
   "metadata": {},
   "source": [
    "# Перерасчет метрики для Llama2\n",
    "В изначальном подсчете при генерации нескольких пар из одного предложения был добавлен пробел перед запятой. Пробел попадал в ответ и при сравнении возращал неправильные данные. В этом ноутбуке на основе артефактов, сохранненных в wandb, пересчитываются метрики качества для задачи E2E-ABSA для Llama 2 для датасета с ресторанами и компьютерами. Данные потом прогружаютяс в wandb в отдельный run."
   ]
  },
  {
   "cell_type": "code",
   "execution_count": 4,
   "metadata": {},
   "outputs": [],
   "source": [
    "import wandb\n",
    "def calc(answer, label):\n",
    "    \"\"\"ф-ция для расчета метрики на основе полученных списков ответов и изначальной разметки\"\"\"\n",
    "    total_aspect_pred = 0\n",
    "    total_aspects_lab = 0\n",
    "    TP_aspect = 0\n",
    "    FN_aspect = 0\n",
    "    FP_aspect = 0\n",
    "    TP_sent = 0\n",
    "    FN_sent = 0\n",
    "    FP_sent = 0\n",
    "\n",
    "    wandb.define_metric(\"F1_A\", summary=\"mean\")\n",
    "    wandb.define_metric(\"F1_S\", summary=\"mean\")\n",
    "    wandb.define_metric(\"F1_macro_ABSA\", summary=\"mean\")\n",
    "    wandb.define_metric(\"F1_micro_ABSA\", summary=\"mean\")\n",
    "\n",
    "    for pred, lb in zip(answer, label):\n",
    "        y_pred = pred.split(\",\")\n",
    "        y_pred = [i.strip() for i in y_pred]\n",
    "        y_true = lb.split(\",\")\n",
    "        y_true = [i.strip() for i in y_true]\n",
    "        aspects_true_lst = [item.split(\":\")[0] for item in y_true]\n",
    "\n",
    "        total_aspects_lab += len(aspects_true_lst)\n",
    "        aspects_pred_lst = [item.split(\":\")[0] for item in y_pred]\n",
    "        total_aspect_pred += len(aspects_pred_lst)\n",
    "\n",
    "        for aspect in aspects_true_lst:\n",
    "            if aspect in aspects_pred_lst:\n",
    "                TP_aspect += 1\n",
    "            else:\n",
    "                FN_aspect += 1\n",
    "                \n",
    "        for aspect in aspects_pred_lst:\n",
    "            if aspect not in aspects_true_lst:\n",
    "                FP_aspect += 1\n",
    "                FP_sent += 1\n",
    "\n",
    "        for item in y_true:\n",
    "            if item in y_pred:\n",
    "                TP_sent += 1\n",
    "            else:\n",
    "                FN_sent += 1\n",
    "\n",
    "    F1_aspect = 2 * TP_aspect / (2 * TP_aspect + FN_aspect + FP_aspect)\n",
    "    F1_sent = 2 * TP_sent / (2 * TP_sent + FN_sent + FP_sent)\n",
    "    F1_macro = (F1_aspect + F1_sent) / 2\n",
    "    F1_micro = (\n",
    "        2\n",
    "        * (TP_aspect + TP_sent)\n",
    "        / ((2 * (TP_aspect + TP_sent)) + (FN_aspect + FN_sent + FP_aspect + FP_sent))\n",
    "    )\n",
    "\n",
    "    log_dict = {\n",
    "        \"F1_A\": F1_aspect,\n",
    "        \"F1_S\": F1_sent,\n",
    "        \"F1_macro_ABSA\": F1_macro,\n",
    "        \"F1_micro_ABSA\": F1_micro,\n",
    "    }\n",
    "    wandb.log(log_dict)\n",
    "    wandb.finish()\n",
    "    print(f'TP_sent={TP_sent}, FN_sent={FN_sent}, FP_sent={FP_sent},Total_Aspects={total_aspects_lab}, Exact_match={round(TP_sent/total_aspects_lab*100)}')\n",
    "    "
   ]
  },
  {
   "cell_type": "code",
   "execution_count": 5,
   "metadata": {},
   "outputs": [
    {
     "data": {
      "text/html": [
       "wandb version 0.16.6 is available!  To upgrade, please run:\n",
       " $ pip install wandb --upgrade"
      ],
      "text/plain": [
       "<IPython.core.display.HTML object>"
      ]
     },
     "metadata": {},
     "output_type": "display_data"
    },
    {
     "data": {
      "text/html": [
       "Tracking run with wandb version 0.16.4"
      ],
      "text/plain": [
       "<IPython.core.display.HTML object>"
      ]
     },
     "metadata": {},
     "output_type": "display_data"
    },
    {
     "data": {
      "text/html": [
       "Run data is saved locally in <code>c:\\Users\\Kate\\Desktop\\absa_for_tests\\wandb\\run-20240424_115644-so5lih0g</code>"
      ],
      "text/plain": [
       "<IPython.core.display.HTML object>"
      ]
     },
     "metadata": {},
     "output_type": "display_data"
    },
    {
     "data": {
      "text/html": [
       "Syncing run <strong><a href='https://wandb.ai/shakhova/absa_fin/runs/so5lih0g' target=\"_blank\">absaR-llama7v2</a></strong> to <a href='https://wandb.ai/shakhova/absa_fin' target=\"_blank\">Weights & Biases</a> (<a href='https://wandb.me/run' target=\"_blank\">docs</a>)<br/>"
      ],
      "text/plain": [
       "<IPython.core.display.HTML object>"
      ]
     },
     "metadata": {},
     "output_type": "display_data"
    },
    {
     "data": {
      "text/html": [
       " View project at <a href='https://wandb.ai/shakhova/absa_fin' target=\"_blank\">https://wandb.ai/shakhova/absa_fin</a>"
      ],
      "text/plain": [
       "<IPython.core.display.HTML object>"
      ]
     },
     "metadata": {},
     "output_type": "display_data"
    },
    {
     "data": {
      "text/html": [
       " View run at <a href='https://wandb.ai/shakhova/absa_fin/runs/so5lih0g' target=\"_blank\">https://wandb.ai/shakhova/absa_fin/runs/so5lih0g</a>"
      ],
      "text/plain": [
       "<IPython.core.display.HTML object>"
      ]
     },
     "metadata": {},
     "output_type": "display_data"
    },
    {
     "name": "stderr",
     "output_type": "stream",
     "text": [
      "\u001b[34m\u001b[1mwandb\u001b[0m:   1 of 1 files downloaded.  \n"
     ]
    }
   ],
   "source": [
    "import json\n",
    "\n",
    "run = wandb.init(project=\"absa_fin\", name=\"absaR-llama7v2\", tags=[\"y1srk895\"])\n",
    "artifact = run.use_artifact('shakhova/absa_fin/run-y1srk895-absaRllama7_preds:v0', type='run_table')\n",
    "artifact_dir = artifact.download()"
   ]
  },
  {
   "cell_type": "code",
   "execution_count": 6,
   "metadata": {},
   "outputs": [
    {
     "data": {
      "text/html": [
       "<style>\n",
       "    table.wandb td:nth-child(1) { padding: 0 10px; text-align: left ; width: auto;} td:nth-child(2) {text-align: left ; width: 100%}\n",
       "    .wandb-row { display: flex; flex-direction: row; flex-wrap: wrap; justify-content: flex-start; width: 100% }\n",
       "    .wandb-col { display: flex; flex-direction: column; flex-basis: 100%; flex: 1; padding: 10px; }\n",
       "    </style>\n",
       "<div class=\"wandb-row\"><div class=\"wandb-col\"><h3>Run history:</h3><br/><table class=\"wandb\"><tr><td>F1_A</td><td>▁</td></tr><tr><td>F1_S</td><td>▁</td></tr><tr><td>F1_macro_ABSA</td><td>▁</td></tr><tr><td>F1_micro_ABSA</td><td>▁</td></tr></table><br/></div></div>"
      ],
      "text/plain": [
       "<IPython.core.display.HTML object>"
      ]
     },
     "metadata": {},
     "output_type": "display_data"
    },
    {
     "data": {
      "text/html": [
       " View run <strong style=\"color:#cdcd00\">absaR-llama7v2</strong> at: <a href='https://wandb.ai/shakhova/absa_fin/runs/so5lih0g' target=\"_blank\">https://wandb.ai/shakhova/absa_fin/runs/so5lih0g</a><br/>Synced 5 W&B file(s), 0 media file(s), 0 artifact file(s) and 0 other file(s)"
      ],
      "text/plain": [
       "<IPython.core.display.HTML object>"
      ]
     },
     "metadata": {},
     "output_type": "display_data"
    },
    {
     "data": {
      "text/html": [
       "Find logs at: <code>.\\wandb\\run-20240424_115644-so5lih0g\\logs</code>"
      ],
      "text/plain": [
       "<IPython.core.display.HTML object>"
      ]
     },
     "metadata": {},
     "output_type": "display_data"
    },
    {
     "name": "stdout",
     "output_type": "stream",
     "text": [
      "TP_sent=259, FN_sent=55, FP_sent=28,Total_Aspects=314, Exact_match=82\n"
     ]
    }
   ],
   "source": [
    "with open(\n",
    "    \"artifacts/run-y1srk895-absaRllama7_preds-v0/absaR-llama7_preds.table.json\"\n",
    ") as fp:\n",
    "    template = json.load(fp)\n",
    "y_true = []\n",
    "y_pred = []\n",
    "\n",
    "for line in template[\"data\"]:\n",
    "    y_pred.append(line[0])\n",
    "    y_true.append(line[1])\n",
    "\n",
    "calc(y_pred, y_true)"
   ]
  },
  {
   "cell_type": "code",
   "execution_count": 7,
   "metadata": {},
   "outputs": [
    {
     "data": {
      "text/html": [
       "wandb version 0.16.6 is available!  To upgrade, please run:\n",
       " $ pip install wandb --upgrade"
      ],
      "text/plain": [
       "<IPython.core.display.HTML object>"
      ]
     },
     "metadata": {},
     "output_type": "display_data"
    },
    {
     "data": {
      "text/html": [
       "Tracking run with wandb version 0.16.4"
      ],
      "text/plain": [
       "<IPython.core.display.HTML object>"
      ]
     },
     "metadata": {},
     "output_type": "display_data"
    },
    {
     "data": {
      "text/html": [
       "Run data is saved locally in <code>c:\\Users\\Kate\\Desktop\\absa_for_tests\\wandb\\run-20240424_115907-4ovhwoan</code>"
      ],
      "text/plain": [
       "<IPython.core.display.HTML object>"
      ]
     },
     "metadata": {},
     "output_type": "display_data"
    },
    {
     "data": {
      "text/html": [
       "Syncing run <strong><a href='https://wandb.ai/shakhova/absa_fin/runs/4ovhwoan' target=\"_blank\">absaR-llama7v2</a></strong> to <a href='https://wandb.ai/shakhova/absa_fin' target=\"_blank\">Weights & Biases</a> (<a href='https://wandb.me/run' target=\"_blank\">docs</a>)<br/>"
      ],
      "text/plain": [
       "<IPython.core.display.HTML object>"
      ]
     },
     "metadata": {},
     "output_type": "display_data"
    },
    {
     "data": {
      "text/html": [
       " View project at <a href='https://wandb.ai/shakhova/absa_fin' target=\"_blank\">https://wandb.ai/shakhova/absa_fin</a>"
      ],
      "text/plain": [
       "<IPython.core.display.HTML object>"
      ]
     },
     "metadata": {},
     "output_type": "display_data"
    },
    {
     "data": {
      "text/html": [
       " View run at <a href='https://wandb.ai/shakhova/absa_fin/runs/4ovhwoan' target=\"_blank\">https://wandb.ai/shakhova/absa_fin/runs/4ovhwoan</a>"
      ],
      "text/plain": [
       "<IPython.core.display.HTML object>"
      ]
     },
     "metadata": {},
     "output_type": "display_data"
    },
    {
     "name": "stderr",
     "output_type": "stream",
     "text": [
      "\u001b[34m\u001b[1mwandb\u001b[0m:   1 of 1 files downloaded.  \n"
     ]
    }
   ],
   "source": [
    "run = wandb.init(project=\"absa_fin\", name=\"absaR-llama7v2\", tags=[\"lxlzlbzz\"])\n",
    "artifact = run.use_artifact(\n",
    "    \"shakhova/absa_fin/run-lxlzlbzz-absaRllama7_preds:v0\", type=\"run_table\"\n",
    ")\n",
    "artifact_dir = artifact.download()"
   ]
  },
  {
   "cell_type": "code",
   "execution_count": 8,
   "metadata": {},
   "outputs": [
    {
     "data": {
      "text/html": [
       "<style>\n",
       "    table.wandb td:nth-child(1) { padding: 0 10px; text-align: left ; width: auto;} td:nth-child(2) {text-align: left ; width: 100%}\n",
       "    .wandb-row { display: flex; flex-direction: row; flex-wrap: wrap; justify-content: flex-start; width: 100% }\n",
       "    .wandb-col { display: flex; flex-direction: column; flex-basis: 100%; flex: 1; padding: 10px; }\n",
       "    </style>\n",
       "<div class=\"wandb-row\"><div class=\"wandb-col\"><h3>Run history:</h3><br/><table class=\"wandb\"><tr><td>F1_A</td><td>▁</td></tr><tr><td>F1_S</td><td>▁</td></tr><tr><td>F1_macro_ABSA</td><td>▁</td></tr><tr><td>F1_micro_ABSA</td><td>▁</td></tr></table><br/></div></div>"
      ],
      "text/plain": [
       "<IPython.core.display.HTML object>"
      ]
     },
     "metadata": {},
     "output_type": "display_data"
    },
    {
     "data": {
      "text/html": [
       " View run <strong style=\"color:#cdcd00\">absaR-llama7v2</strong> at: <a href='https://wandb.ai/shakhova/absa_fin/runs/4ovhwoan' target=\"_blank\">https://wandb.ai/shakhova/absa_fin/runs/4ovhwoan</a><br/>Synced 5 W&B file(s), 0 media file(s), 0 artifact file(s) and 0 other file(s)"
      ],
      "text/plain": [
       "<IPython.core.display.HTML object>"
      ]
     },
     "metadata": {},
     "output_type": "display_data"
    },
    {
     "data": {
      "text/html": [
       "Find logs at: <code>.\\wandb\\run-20240424_115907-4ovhwoan\\logs</code>"
      ],
      "text/plain": [
       "<IPython.core.display.HTML object>"
      ]
     },
     "metadata": {},
     "output_type": "display_data"
    },
    {
     "name": "stdout",
     "output_type": "stream",
     "text": [
      "TP_sent=250, FN_sent=93, FP_sent=65,Total_Aspects=343, Exact_match=73\n"
     ]
    }
   ],
   "source": [
    "with open(\n",
    "    \"artifacts/run-lxlzlbzz-absaRllama7_preds-v0/absaR-llama7_preds.table.json\"\n",
    ") as fp:\n",
    "    template = json.load(fp)\n",
    "y_true = []\n",
    "y_pred = []\n",
    "\n",
    "for line in template[\"data\"]:\n",
    "    y_pred.append(line[0])\n",
    "    y_true.append(line[1])\n",
    "\n",
    "calc(y_pred, y_true)"
   ]
  },
  {
   "cell_type": "code",
   "execution_count": 9,
   "metadata": {},
   "outputs": [
    {
     "data": {
      "text/html": [
       "wandb version 0.16.6 is available!  To upgrade, please run:\n",
       " $ pip install wandb --upgrade"
      ],
      "text/plain": [
       "<IPython.core.display.HTML object>"
      ]
     },
     "metadata": {},
     "output_type": "display_data"
    },
    {
     "data": {
      "text/html": [
       "Tracking run with wandb version 0.16.4"
      ],
      "text/plain": [
       "<IPython.core.display.HTML object>"
      ]
     },
     "metadata": {},
     "output_type": "display_data"
    },
    {
     "data": {
      "text/html": [
       "Run data is saved locally in <code>c:\\Users\\Kate\\Desktop\\absa_for_tests\\wandb\\run-20240424_120253-up11u6sl</code>"
      ],
      "text/plain": [
       "<IPython.core.display.HTML object>"
      ]
     },
     "metadata": {},
     "output_type": "display_data"
    },
    {
     "data": {
      "text/html": [
       "Syncing run <strong><a href='https://wandb.ai/shakhova/absa_fin/runs/up11u6sl' target=\"_blank\">absaR-llama7v2</a></strong> to <a href='https://wandb.ai/shakhova/absa_fin' target=\"_blank\">Weights & Biases</a> (<a href='https://wandb.me/run' target=\"_blank\">docs</a>)<br/>"
      ],
      "text/plain": [
       "<IPython.core.display.HTML object>"
      ]
     },
     "metadata": {},
     "output_type": "display_data"
    },
    {
     "data": {
      "text/html": [
       " View project at <a href='https://wandb.ai/shakhova/absa_fin' target=\"_blank\">https://wandb.ai/shakhova/absa_fin</a>"
      ],
      "text/plain": [
       "<IPython.core.display.HTML object>"
      ]
     },
     "metadata": {},
     "output_type": "display_data"
    },
    {
     "data": {
      "text/html": [
       " View run at <a href='https://wandb.ai/shakhova/absa_fin/runs/up11u6sl' target=\"_blank\">https://wandb.ai/shakhova/absa_fin/runs/up11u6sl</a>"
      ],
      "text/plain": [
       "<IPython.core.display.HTML object>"
      ]
     },
     "metadata": {},
     "output_type": "display_data"
    },
    {
     "name": "stderr",
     "output_type": "stream",
     "text": [
      "\u001b[34m\u001b[1mwandb\u001b[0m:   1 of 1 files downloaded.  \n"
     ]
    }
   ],
   "source": [
    "run = wandb.init(project=\"absa_fin\", name=\"absaR-llama7v2\", tags=[\"ir1b6jlf\"])\n",
    "artifact = run.use_artifact(\n",
    "    \"shakhova/absa_fin/run-ir1b6jlf-absaRllama7_preds:v0\", type=\"run_table\"\n",
    ")\n",
    "artifact_dir = artifact.download()"
   ]
  },
  {
   "cell_type": "code",
   "execution_count": 10,
   "metadata": {},
   "outputs": [
    {
     "data": {
      "text/html": [
       "<style>\n",
       "    table.wandb td:nth-child(1) { padding: 0 10px; text-align: left ; width: auto;} td:nth-child(2) {text-align: left ; width: 100%}\n",
       "    .wandb-row { display: flex; flex-direction: row; flex-wrap: wrap; justify-content: flex-start; width: 100% }\n",
       "    .wandb-col { display: flex; flex-direction: column; flex-basis: 100%; flex: 1; padding: 10px; }\n",
       "    </style>\n",
       "<div class=\"wandb-row\"><div class=\"wandb-col\"><h3>Run history:</h3><br/><table class=\"wandb\"><tr><td>F1_A</td><td>▁</td></tr><tr><td>F1_S</td><td>▁</td></tr><tr><td>F1_macro_ABSA</td><td>▁</td></tr><tr><td>F1_micro_ABSA</td><td>▁</td></tr></table><br/></div></div>"
      ],
      "text/plain": [
       "<IPython.core.display.HTML object>"
      ]
     },
     "metadata": {},
     "output_type": "display_data"
    },
    {
     "data": {
      "text/html": [
       " View run <strong style=\"color:#cdcd00\">absaR-llama7v2</strong> at: <a href='https://wandb.ai/shakhova/absa_fin/runs/up11u6sl' target=\"_blank\">https://wandb.ai/shakhova/absa_fin/runs/up11u6sl</a><br/>Synced 5 W&B file(s), 0 media file(s), 0 artifact file(s) and 0 other file(s)"
      ],
      "text/plain": [
       "<IPython.core.display.HTML object>"
      ]
     },
     "metadata": {},
     "output_type": "display_data"
    },
    {
     "data": {
      "text/html": [
       "Find logs at: <code>.\\wandb\\run-20240424_120253-up11u6sl\\logs</code>"
      ],
      "text/plain": [
       "<IPython.core.display.HTML object>"
      ]
     },
     "metadata": {},
     "output_type": "display_data"
    },
    {
     "name": "stdout",
     "output_type": "stream",
     "text": [
      "TP_sent=256, FN_sent=58, FP_sent=32,Total_Aspects=314, Exact_match=82\n"
     ]
    }
   ],
   "source": [
    "with open(\n",
    "    \"artifacts/run-ir1b6jlf-absaRllama7_preds-v0/absaR-llama7_preds.table.json\"\n",
    ") as fp:\n",
    "    template = json.load(fp)\n",
    "y_true = []\n",
    "y_pred = []\n",
    "\n",
    "for line in template[\"data\"]:\n",
    "    y_pred.append(line[0])\n",
    "    y_true.append(line[1])\n",
    "\n",
    "calc(y_pred, y_true)"
   ]
  },
  {
   "cell_type": "code",
   "execution_count": 11,
   "metadata": {},
   "outputs": [
    {
     "data": {
      "text/html": [
       "wandb version 0.16.6 is available!  To upgrade, please run:\n",
       " $ pip install wandb --upgrade"
      ],
      "text/plain": [
       "<IPython.core.display.HTML object>"
      ]
     },
     "metadata": {},
     "output_type": "display_data"
    },
    {
     "data": {
      "text/html": [
       "Tracking run with wandb version 0.16.4"
      ],
      "text/plain": [
       "<IPython.core.display.HTML object>"
      ]
     },
     "metadata": {},
     "output_type": "display_data"
    },
    {
     "data": {
      "text/html": [
       "Run data is saved locally in <code>c:\\Users\\Kate\\Desktop\\absa_for_tests\\wandb\\run-20240424_120551-4gfi4koc</code>"
      ],
      "text/plain": [
       "<IPython.core.display.HTML object>"
      ]
     },
     "metadata": {},
     "output_type": "display_data"
    },
    {
     "data": {
      "text/html": [
       "Syncing run <strong><a href='https://wandb.ai/shakhova/absa_fin/runs/4gfi4koc' target=\"_blank\">absaR-llama7v2</a></strong> to <a href='https://wandb.ai/shakhova/absa_fin' target=\"_blank\">Weights & Biases</a> (<a href='https://wandb.me/run' target=\"_blank\">docs</a>)<br/>"
      ],
      "text/plain": [
       "<IPython.core.display.HTML object>"
      ]
     },
     "metadata": {},
     "output_type": "display_data"
    },
    {
     "data": {
      "text/html": [
       " View project at <a href='https://wandb.ai/shakhova/absa_fin' target=\"_blank\">https://wandb.ai/shakhova/absa_fin</a>"
      ],
      "text/plain": [
       "<IPython.core.display.HTML object>"
      ]
     },
     "metadata": {},
     "output_type": "display_data"
    },
    {
     "data": {
      "text/html": [
       " View run at <a href='https://wandb.ai/shakhova/absa_fin/runs/4gfi4koc' target=\"_blank\">https://wandb.ai/shakhova/absa_fin/runs/4gfi4koc</a>"
      ],
      "text/plain": [
       "<IPython.core.display.HTML object>"
      ]
     },
     "metadata": {},
     "output_type": "display_data"
    },
    {
     "name": "stderr",
     "output_type": "stream",
     "text": [
      "\u001b[34m\u001b[1mwandb\u001b[0m:   1 of 1 files downloaded.  \n"
     ]
    }
   ],
   "source": [
    "run = wandb.init(project=\"absa_fin\", name=\"absaR-llama7v2\", tags=[\"ixp0dw6x\"])\n",
    "artifact = run.use_artifact(\n",
    "    \"shakhova/absa_fin/run-ixp0dw6x-absaLllama7_preds:v0\", type=\"run_table\"\n",
    ")\n",
    "artifact_dir = artifact.download()"
   ]
  },
  {
   "cell_type": "code",
   "execution_count": 12,
   "metadata": {},
   "outputs": [
    {
     "data": {
      "text/html": [
       "<style>\n",
       "    table.wandb td:nth-child(1) { padding: 0 10px; text-align: left ; width: auto;} td:nth-child(2) {text-align: left ; width: 100%}\n",
       "    .wandb-row { display: flex; flex-direction: row; flex-wrap: wrap; justify-content: flex-start; width: 100% }\n",
       "    .wandb-col { display: flex; flex-direction: column; flex-basis: 100%; flex: 1; padding: 10px; }\n",
       "    </style>\n",
       "<div class=\"wandb-row\"><div class=\"wandb-col\"><h3>Run history:</h3><br/><table class=\"wandb\"><tr><td>F1_A</td><td>▁</td></tr><tr><td>F1_S</td><td>▁</td></tr><tr><td>F1_macro_ABSA</td><td>▁</td></tr><tr><td>F1_micro_ABSA</td><td>▁</td></tr></table><br/></div></div>"
      ],
      "text/plain": [
       "<IPython.core.display.HTML object>"
      ]
     },
     "metadata": {},
     "output_type": "display_data"
    },
    {
     "data": {
      "text/html": [
       " View run <strong style=\"color:#cdcd00\">absaR-llama7v2</strong> at: <a href='https://wandb.ai/shakhova/absa_fin/runs/4gfi4koc' target=\"_blank\">https://wandb.ai/shakhova/absa_fin/runs/4gfi4koc</a><br/>Synced 5 W&B file(s), 0 media file(s), 0 artifact file(s) and 0 other file(s)"
      ],
      "text/plain": [
       "<IPython.core.display.HTML object>"
      ]
     },
     "metadata": {},
     "output_type": "display_data"
    },
    {
     "data": {
      "text/html": [
       "Find logs at: <code>.\\wandb\\run-20240424_120551-4gfi4koc\\logs</code>"
      ],
      "text/plain": [
       "<IPython.core.display.HTML object>"
      ]
     },
     "metadata": {},
     "output_type": "display_data"
    },
    {
     "name": "stdout",
     "output_type": "stream",
     "text": [
      "TP_sent=231, FN_sent=71, FP_sent=48,Total_Aspects=302, Exact_match=76\n"
     ]
    }
   ],
   "source": [
    "with open(\n",
    "    \"artifacts/run-ixp0dw6x-absaLllama7_preds-v0/absaL-llama7_preds.table.json\"\n",
    ") as fp:\n",
    "    template = json.load(fp)\n",
    "y_true = []\n",
    "y_pred = []\n",
    "\n",
    "for line in template[\"data\"]:\n",
    "    y_pred.append(line[0])\n",
    "    y_true.append(line[1])\n",
    "\n",
    "calc(y_pred, y_true)"
   ]
  },
  {
   "cell_type": "code",
   "execution_count": 13,
   "metadata": {},
   "outputs": [
    {
     "data": {
      "text/html": [
       "wandb version 0.16.6 is available!  To upgrade, please run:\n",
       " $ pip install wandb --upgrade"
      ],
      "text/plain": [
       "<IPython.core.display.HTML object>"
      ]
     },
     "metadata": {},
     "output_type": "display_data"
    },
    {
     "data": {
      "text/html": [
       "Tracking run with wandb version 0.16.4"
      ],
      "text/plain": [
       "<IPython.core.display.HTML object>"
      ]
     },
     "metadata": {},
     "output_type": "display_data"
    },
    {
     "data": {
      "text/html": [
       "Run data is saved locally in <code>c:\\Users\\Kate\\Desktop\\absa_for_tests\\wandb\\run-20240424_121009-89m92pnw</code>"
      ],
      "text/plain": [
       "<IPython.core.display.HTML object>"
      ]
     },
     "metadata": {},
     "output_type": "display_data"
    },
    {
     "data": {
      "text/html": [
       "Syncing run <strong><a href='https://wandb.ai/shakhova/absa_fin/runs/89m92pnw' target=\"_blank\">absaR-llama7v2</a></strong> to <a href='https://wandb.ai/shakhova/absa_fin' target=\"_blank\">Weights & Biases</a> (<a href='https://wandb.me/run' target=\"_blank\">docs</a>)<br/>"
      ],
      "text/plain": [
       "<IPython.core.display.HTML object>"
      ]
     },
     "metadata": {},
     "output_type": "display_data"
    },
    {
     "data": {
      "text/html": [
       " View project at <a href='https://wandb.ai/shakhova/absa_fin' target=\"_blank\">https://wandb.ai/shakhova/absa_fin</a>"
      ],
      "text/plain": [
       "<IPython.core.display.HTML object>"
      ]
     },
     "metadata": {},
     "output_type": "display_data"
    },
    {
     "data": {
      "text/html": [
       " View run at <a href='https://wandb.ai/shakhova/absa_fin/runs/89m92pnw' target=\"_blank\">https://wandb.ai/shakhova/absa_fin/runs/89m92pnw</a>"
      ],
      "text/plain": [
       "<IPython.core.display.HTML object>"
      ]
     },
     "metadata": {},
     "output_type": "display_data"
    },
    {
     "name": "stderr",
     "output_type": "stream",
     "text": [
      "\u001b[34m\u001b[1mwandb\u001b[0m:   1 of 1 files downloaded.  \n"
     ]
    }
   ],
   "source": [
    "run = wandb.init(project=\"absa_fin\", name=\"absaR-llama7v2\", tags=[\"kikj1txw\"])\n",
    "artifact = run.use_artifact(\n",
    "    \"shakhova/absa_fin/run-kikj1txw-absaLllama7_preds:v0\", type=\"run_table\"\n",
    ")\n",
    "artifact_dir = artifact.download()"
   ]
  },
  {
   "cell_type": "code",
   "execution_count": 14,
   "metadata": {},
   "outputs": [
    {
     "data": {
      "text/html": [
       "<style>\n",
       "    table.wandb td:nth-child(1) { padding: 0 10px; text-align: left ; width: auto;} td:nth-child(2) {text-align: left ; width: 100%}\n",
       "    .wandb-row { display: flex; flex-direction: row; flex-wrap: wrap; justify-content: flex-start; width: 100% }\n",
       "    .wandb-col { display: flex; flex-direction: column; flex-basis: 100%; flex: 1; padding: 10px; }\n",
       "    </style>\n",
       "<div class=\"wandb-row\"><div class=\"wandb-col\"><h3>Run history:</h3><br/><table class=\"wandb\"><tr><td>F1_A</td><td>▁</td></tr><tr><td>F1_S</td><td>▁</td></tr><tr><td>F1_macro_ABSA</td><td>▁</td></tr><tr><td>F1_micro_ABSA</td><td>▁</td></tr></table><br/></div></div>"
      ],
      "text/plain": [
       "<IPython.core.display.HTML object>"
      ]
     },
     "metadata": {},
     "output_type": "display_data"
    },
    {
     "data": {
      "text/html": [
       " View run <strong style=\"color:#cdcd00\">absaR-llama7v2</strong> at: <a href='https://wandb.ai/shakhova/absa_fin/runs/89m92pnw' target=\"_blank\">https://wandb.ai/shakhova/absa_fin/runs/89m92pnw</a><br/>Synced 5 W&B file(s), 0 media file(s), 0 artifact file(s) and 0 other file(s)"
      ],
      "text/plain": [
       "<IPython.core.display.HTML object>"
      ]
     },
     "metadata": {},
     "output_type": "display_data"
    },
    {
     "data": {
      "text/html": [
       "Find logs at: <code>.\\wandb\\run-20240424_121009-89m92pnw\\logs</code>"
      ],
      "text/plain": [
       "<IPython.core.display.HTML object>"
      ]
     },
     "metadata": {},
     "output_type": "display_data"
    },
    {
     "name": "stdout",
     "output_type": "stream",
     "text": [
      "TP_sent=266, FN_sent=66, FP_sent=49,Total_Aspects=332, Exact_match=80\n"
     ]
    }
   ],
   "source": [
    "with open(\n",
    "    \"artifacts/run-kikj1txw-absaLllama7_preds-v0/absaL-llama7_preds.table.json\"\n",
    ") as fp:\n",
    "    template = json.load(fp)\n",
    "y_true = []\n",
    "y_pred = []\n",
    "\n",
    "for line in template[\"data\"]:\n",
    "    y_pred.append(line[0])\n",
    "    y_true.append(line[1])\n",
    "\n",
    "calc(y_pred, y_true)"
   ]
  },
  {
   "cell_type": "code",
   "execution_count": 15,
   "metadata": {},
   "outputs": [
    {
     "data": {
      "text/html": [
       "wandb version 0.16.6 is available!  To upgrade, please run:\n",
       " $ pip install wandb --upgrade"
      ],
      "text/plain": [
       "<IPython.core.display.HTML object>"
      ]
     },
     "metadata": {},
     "output_type": "display_data"
    },
    {
     "data": {
      "text/html": [
       "Tracking run with wandb version 0.16.4"
      ],
      "text/plain": [
       "<IPython.core.display.HTML object>"
      ]
     },
     "metadata": {},
     "output_type": "display_data"
    },
    {
     "data": {
      "text/html": [
       "Run data is saved locally in <code>c:\\Users\\Kate\\Desktop\\absa_for_tests\\wandb\\run-20240424_122501-ci1awm65</code>"
      ],
      "text/plain": [
       "<IPython.core.display.HTML object>"
      ]
     },
     "metadata": {},
     "output_type": "display_data"
    },
    {
     "data": {
      "text/html": [
       "Syncing run <strong><a href='https://wandb.ai/shakhova/absa_fin/runs/ci1awm65' target=\"_blank\">MTabsaR-llama7v2</a></strong> to <a href='https://wandb.ai/shakhova/absa_fin' target=\"_blank\">Weights & Biases</a> (<a href='https://wandb.me/run' target=\"_blank\">docs</a>)<br/>"
      ],
      "text/plain": [
       "<IPython.core.display.HTML object>"
      ]
     },
     "metadata": {},
     "output_type": "display_data"
    },
    {
     "data": {
      "text/html": [
       " View project at <a href='https://wandb.ai/shakhova/absa_fin' target=\"_blank\">https://wandb.ai/shakhova/absa_fin</a>"
      ],
      "text/plain": [
       "<IPython.core.display.HTML object>"
      ]
     },
     "metadata": {},
     "output_type": "display_data"
    },
    {
     "data": {
      "text/html": [
       " View run at <a href='https://wandb.ai/shakhova/absa_fin/runs/ci1awm65' target=\"_blank\">https://wandb.ai/shakhova/absa_fin/runs/ci1awm65</a>"
      ],
      "text/plain": [
       "<IPython.core.display.HTML object>"
      ]
     },
     "metadata": {},
     "output_type": "display_data"
    },
    {
     "name": "stderr",
     "output_type": "stream",
     "text": [
      "\u001b[34m\u001b[1mwandb\u001b[0m:   1 of 1 files downloaded.  \n"
     ]
    }
   ],
   "source": [
    "run = wandb.init(project=\"absa_fin\", name=\"MTabsaR-llama7v2\", tags=[\"feihuaev\"])\n",
    "artifact = run.use_artifact(\n",
    "    \"shakhova/absa_fin/run-feihuaev-MTabsaRllama7_preds:v0\", type=\"run_table\"\n",
    ")\n",
    "artifact_dir = artifact.download()"
   ]
  },
  {
   "cell_type": "code",
   "execution_count": 16,
   "metadata": {},
   "outputs": [
    {
     "data": {
      "text/html": [
       "<style>\n",
       "    table.wandb td:nth-child(1) { padding: 0 10px; text-align: left ; width: auto;} td:nth-child(2) {text-align: left ; width: 100%}\n",
       "    .wandb-row { display: flex; flex-direction: row; flex-wrap: wrap; justify-content: flex-start; width: 100% }\n",
       "    .wandb-col { display: flex; flex-direction: column; flex-basis: 100%; flex: 1; padding: 10px; }\n",
       "    </style>\n",
       "<div class=\"wandb-row\"><div class=\"wandb-col\"><h3>Run history:</h3><br/><table class=\"wandb\"><tr><td>F1_A</td><td>▁</td></tr><tr><td>F1_S</td><td>▁</td></tr><tr><td>F1_macro_ABSA</td><td>▁</td></tr><tr><td>F1_micro_ABSA</td><td>▁</td></tr></table><br/></div></div>"
      ],
      "text/plain": [
       "<IPython.core.display.HTML object>"
      ]
     },
     "metadata": {},
     "output_type": "display_data"
    },
    {
     "data": {
      "text/html": [
       " View run <strong style=\"color:#cdcd00\">MTabsaR-llama7v2</strong> at: <a href='https://wandb.ai/shakhova/absa_fin/runs/ci1awm65' target=\"_blank\">https://wandb.ai/shakhova/absa_fin/runs/ci1awm65</a><br/>Synced 5 W&B file(s), 0 media file(s), 0 artifact file(s) and 0 other file(s)"
      ],
      "text/plain": [
       "<IPython.core.display.HTML object>"
      ]
     },
     "metadata": {},
     "output_type": "display_data"
    },
    {
     "data": {
      "text/html": [
       "Find logs at: <code>.\\wandb\\run-20240424_122501-ci1awm65\\logs</code>"
      ],
      "text/plain": [
       "<IPython.core.display.HTML object>"
      ]
     },
     "metadata": {},
     "output_type": "display_data"
    },
    {
     "name": "stdout",
     "output_type": "stream",
     "text": [
      "TP_sent=248, FN_sent=53, FP_sent=37,Total_Aspects=301, Exact_match=82\n"
     ]
    }
   ],
   "source": [
    "with open(\n",
    "    \"artifacts/run-feihuaev-MTabsaRllama7_preds-v0/MTabsaR-llama7_preds.table.json\"\n",
    ") as fp:\n",
    "    template = json.load(fp)\n",
    "y_true = []\n",
    "y_pred = []\n",
    "\n",
    "for line in template[\"data\"]:\n",
    "    y_pred.append(line[0])\n",
    "    y_true.append(line[1])\n",
    "\n",
    "calc(y_pred, y_true)"
   ]
  },
  {
   "cell_type": "code",
   "execution_count": 17,
   "metadata": {},
   "outputs": [
    {
     "data": {
      "text/html": [
       "wandb version 0.16.6 is available!  To upgrade, please run:\n",
       " $ pip install wandb --upgrade"
      ],
      "text/plain": [
       "<IPython.core.display.HTML object>"
      ]
     },
     "metadata": {},
     "output_type": "display_data"
    },
    {
     "data": {
      "text/html": [
       "Tracking run with wandb version 0.16.4"
      ],
      "text/plain": [
       "<IPython.core.display.HTML object>"
      ]
     },
     "metadata": {},
     "output_type": "display_data"
    },
    {
     "data": {
      "text/html": [
       "Run data is saved locally in <code>c:\\Users\\Kate\\Desktop\\absa_for_tests\\wandb\\run-20240424_122728-b3vurawh</code>"
      ],
      "text/plain": [
       "<IPython.core.display.HTML object>"
      ]
     },
     "metadata": {},
     "output_type": "display_data"
    },
    {
     "data": {
      "text/html": [
       "Syncing run <strong><a href='https://wandb.ai/shakhova/absa_fin/runs/b3vurawh' target=\"_blank\">MTabsaR-llama7v2</a></strong> to <a href='https://wandb.ai/shakhova/absa_fin' target=\"_blank\">Weights & Biases</a> (<a href='https://wandb.me/run' target=\"_blank\">docs</a>)<br/>"
      ],
      "text/plain": [
       "<IPython.core.display.HTML object>"
      ]
     },
     "metadata": {},
     "output_type": "display_data"
    },
    {
     "data": {
      "text/html": [
       " View project at <a href='https://wandb.ai/shakhova/absa_fin' target=\"_blank\">https://wandb.ai/shakhova/absa_fin</a>"
      ],
      "text/plain": [
       "<IPython.core.display.HTML object>"
      ]
     },
     "metadata": {},
     "output_type": "display_data"
    },
    {
     "data": {
      "text/html": [
       " View run at <a href='https://wandb.ai/shakhova/absa_fin/runs/b3vurawh' target=\"_blank\">https://wandb.ai/shakhova/absa_fin/runs/b3vurawh</a>"
      ],
      "text/plain": [
       "<IPython.core.display.HTML object>"
      ]
     },
     "metadata": {},
     "output_type": "display_data"
    },
    {
     "name": "stderr",
     "output_type": "stream",
     "text": [
      "\u001b[34m\u001b[1mwandb\u001b[0m:   1 of 1 files downloaded.  \n"
     ]
    }
   ],
   "source": [
    "run = wandb.init(project=\"absa_fin\", name=\"MTabsaR-llama7v2\", tags=[\"dyng9he8\"])\n",
    "artifact = run.use_artifact(\n",
    "    \"shakhova/absa_fin/run-dyng9he8-MTabsaRllama7_preds:v0\", type=\"run_table\"\n",
    ")\n",
    "artifact_dir = artifact.download()"
   ]
  },
  {
   "cell_type": "code",
   "execution_count": 18,
   "metadata": {},
   "outputs": [
    {
     "data": {
      "text/html": [
       "<style>\n",
       "    table.wandb td:nth-child(1) { padding: 0 10px; text-align: left ; width: auto;} td:nth-child(2) {text-align: left ; width: 100%}\n",
       "    .wandb-row { display: flex; flex-direction: row; flex-wrap: wrap; justify-content: flex-start; width: 100% }\n",
       "    .wandb-col { display: flex; flex-direction: column; flex-basis: 100%; flex: 1; padding: 10px; }\n",
       "    </style>\n",
       "<div class=\"wandb-row\"><div class=\"wandb-col\"><h3>Run history:</h3><br/><table class=\"wandb\"><tr><td>F1_A</td><td>▁</td></tr><tr><td>F1_S</td><td>▁</td></tr><tr><td>F1_macro_ABSA</td><td>▁</td></tr><tr><td>F1_micro_ABSA</td><td>▁</td></tr></table><br/></div></div>"
      ],
      "text/plain": [
       "<IPython.core.display.HTML object>"
      ]
     },
     "metadata": {},
     "output_type": "display_data"
    },
    {
     "data": {
      "text/html": [
       " View run <strong style=\"color:#cdcd00\">MTabsaR-llama7v2</strong> at: <a href='https://wandb.ai/shakhova/absa_fin/runs/b3vurawh' target=\"_blank\">https://wandb.ai/shakhova/absa_fin/runs/b3vurawh</a><br/>Synced 5 W&B file(s), 0 media file(s), 0 artifact file(s) and 0 other file(s)"
      ],
      "text/plain": [
       "<IPython.core.display.HTML object>"
      ]
     },
     "metadata": {},
     "output_type": "display_data"
    },
    {
     "data": {
      "text/html": [
       "Find logs at: <code>.\\wandb\\run-20240424_122728-b3vurawh\\logs</code>"
      ],
      "text/plain": [
       "<IPython.core.display.HTML object>"
      ]
     },
     "metadata": {},
     "output_type": "display_data"
    },
    {
     "name": "stdout",
     "output_type": "stream",
     "text": [
      "TP_sent=239, FN_sent=54, FP_sent=28,Total_Aspects=293, Exact_match=82\n"
     ]
    }
   ],
   "source": [
    "with open(\n",
    "    \"artifacts/run-dyng9he8-MTabsaRllama7_preds-v0/MTabsaR-llama7_preds.table.json\"\n",
    ") as fp:\n",
    "    template = json.load(fp)\n",
    "y_true = []\n",
    "y_pred = []\n",
    "\n",
    "for line in template[\"data\"]:\n",
    "    y_pred.append(line[0])\n",
    "    y_true.append(line[1])\n",
    "\n",
    "calc(y_pred, y_true)"
   ]
  },
  {
   "cell_type": "code",
   "execution_count": 19,
   "metadata": {},
   "outputs": [
    {
     "data": {
      "text/html": [
       "wandb version 0.16.6 is available!  To upgrade, please run:\n",
       " $ pip install wandb --upgrade"
      ],
      "text/plain": [
       "<IPython.core.display.HTML object>"
      ]
     },
     "metadata": {},
     "output_type": "display_data"
    },
    {
     "data": {
      "text/html": [
       "Tracking run with wandb version 0.16.4"
      ],
      "text/plain": [
       "<IPython.core.display.HTML object>"
      ]
     },
     "metadata": {},
     "output_type": "display_data"
    },
    {
     "data": {
      "text/html": [
       "Run data is saved locally in <code>c:\\Users\\Kate\\Desktop\\absa_for_tests\\wandb\\run-20240424_122929-nt43xjay</code>"
      ],
      "text/plain": [
       "<IPython.core.display.HTML object>"
      ]
     },
     "metadata": {},
     "output_type": "display_data"
    },
    {
     "data": {
      "text/html": [
       "Syncing run <strong><a href='https://wandb.ai/shakhova/absa_fin/runs/nt43xjay' target=\"_blank\">MTabsaR-llama7v2</a></strong> to <a href='https://wandb.ai/shakhova/absa_fin' target=\"_blank\">Weights & Biases</a> (<a href='https://wandb.me/run' target=\"_blank\">docs</a>)<br/>"
      ],
      "text/plain": [
       "<IPython.core.display.HTML object>"
      ]
     },
     "metadata": {},
     "output_type": "display_data"
    },
    {
     "data": {
      "text/html": [
       " View project at <a href='https://wandb.ai/shakhova/absa_fin' target=\"_blank\">https://wandb.ai/shakhova/absa_fin</a>"
      ],
      "text/plain": [
       "<IPython.core.display.HTML object>"
      ]
     },
     "metadata": {},
     "output_type": "display_data"
    },
    {
     "data": {
      "text/html": [
       " View run at <a href='https://wandb.ai/shakhova/absa_fin/runs/nt43xjay' target=\"_blank\">https://wandb.ai/shakhova/absa_fin/runs/nt43xjay</a>"
      ],
      "text/plain": [
       "<IPython.core.display.HTML object>"
      ]
     },
     "metadata": {},
     "output_type": "display_data"
    },
    {
     "name": "stderr",
     "output_type": "stream",
     "text": [
      "\u001b[34m\u001b[1mwandb\u001b[0m:   1 of 1 files downloaded.  \n"
     ]
    }
   ],
   "source": [
    "run = wandb.init(project=\"absa_fin\", name=\"MTabsaR-llama7v2\", tags=[\"yzta4uva\"])\n",
    "artifact = run.use_artifact(\n",
    "    \"shakhova/absa_fin/run-yzta4uva-MTabsaRllama7_preds:v0\", type=\"run_table\"\n",
    ")\n",
    "artifact_dir = artifact.download()"
   ]
  },
  {
   "cell_type": "code",
   "execution_count": 20,
   "metadata": {},
   "outputs": [
    {
     "data": {
      "text/html": [
       "<style>\n",
       "    table.wandb td:nth-child(1) { padding: 0 10px; text-align: left ; width: auto;} td:nth-child(2) {text-align: left ; width: 100%}\n",
       "    .wandb-row { display: flex; flex-direction: row; flex-wrap: wrap; justify-content: flex-start; width: 100% }\n",
       "    .wandb-col { display: flex; flex-direction: column; flex-basis: 100%; flex: 1; padding: 10px; }\n",
       "    </style>\n",
       "<div class=\"wandb-row\"><div class=\"wandb-col\"><h3>Run history:</h3><br/><table class=\"wandb\"><tr><td>F1_A</td><td>▁</td></tr><tr><td>F1_S</td><td>▁</td></tr><tr><td>F1_macro_ABSA</td><td>▁</td></tr><tr><td>F1_micro_ABSA</td><td>▁</td></tr></table><br/></div></div>"
      ],
      "text/plain": [
       "<IPython.core.display.HTML object>"
      ]
     },
     "metadata": {},
     "output_type": "display_data"
    },
    {
     "data": {
      "text/html": [
       " View run <strong style=\"color:#cdcd00\">MTabsaR-llama7v2</strong> at: <a href='https://wandb.ai/shakhova/absa_fin/runs/nt43xjay' target=\"_blank\">https://wandb.ai/shakhova/absa_fin/runs/nt43xjay</a><br/>Synced 5 W&B file(s), 0 media file(s), 0 artifact file(s) and 0 other file(s)"
      ],
      "text/plain": [
       "<IPython.core.display.HTML object>"
      ]
     },
     "metadata": {},
     "output_type": "display_data"
    },
    {
     "data": {
      "text/html": [
       "Find logs at: <code>.\\wandb\\run-20240424_122929-nt43xjay\\logs</code>"
      ],
      "text/plain": [
       "<IPython.core.display.HTML object>"
      ]
     },
     "metadata": {},
     "output_type": "display_data"
    },
    {
     "name": "stdout",
     "output_type": "stream",
     "text": [
      "TP_sent=260, FN_sent=53, FP_sent=46,Total_Aspects=313, Exact_match=83\n"
     ]
    }
   ],
   "source": [
    "with open(\n",
    "    \"artifacts/run-yzta4uva-MTabsaRllama7_preds-v0/MTabsaR-llama7_preds.table.json\"\n",
    ") as fp:\n",
    "    template = json.load(fp)\n",
    "y_true = []\n",
    "y_pred = []\n",
    "\n",
    "for line in template[\"data\"]:\n",
    "    y_pred.append(line[0])\n",
    "    y_true.append(line[1])\n",
    "\n",
    "calc(y_pred, y_true)"
   ]
  },
  {
   "cell_type": "code",
   "execution_count": 21,
   "metadata": {},
   "outputs": [
    {
     "data": {
      "text/html": [
       "wandb version 0.16.6 is available!  To upgrade, please run:\n",
       " $ pip install wandb --upgrade"
      ],
      "text/plain": [
       "<IPython.core.display.HTML object>"
      ]
     },
     "metadata": {},
     "output_type": "display_data"
    },
    {
     "data": {
      "text/html": [
       "Tracking run with wandb version 0.16.4"
      ],
      "text/plain": [
       "<IPython.core.display.HTML object>"
      ]
     },
     "metadata": {},
     "output_type": "display_data"
    },
    {
     "data": {
      "text/html": [
       "Run data is saved locally in <code>c:\\Users\\Kate\\Desktop\\absa_for_tests\\wandb\\run-20240424_123222-xyk3szcg</code>"
      ],
      "text/plain": [
       "<IPython.core.display.HTML object>"
      ]
     },
     "metadata": {},
     "output_type": "display_data"
    },
    {
     "data": {
      "text/html": [
       "Syncing run <strong><a href='https://wandb.ai/shakhova/absa_fin/runs/xyk3szcg' target=\"_blank\">MTabsaR-llama7v2</a></strong> to <a href='https://wandb.ai/shakhova/absa_fin' target=\"_blank\">Weights & Biases</a> (<a href='https://wandb.me/run' target=\"_blank\">docs</a>)<br/>"
      ],
      "text/plain": [
       "<IPython.core.display.HTML object>"
      ]
     },
     "metadata": {},
     "output_type": "display_data"
    },
    {
     "data": {
      "text/html": [
       " View project at <a href='https://wandb.ai/shakhova/absa_fin' target=\"_blank\">https://wandb.ai/shakhova/absa_fin</a>"
      ],
      "text/plain": [
       "<IPython.core.display.HTML object>"
      ]
     },
     "metadata": {},
     "output_type": "display_data"
    },
    {
     "data": {
      "text/html": [
       " View run at <a href='https://wandb.ai/shakhova/absa_fin/runs/xyk3szcg' target=\"_blank\">https://wandb.ai/shakhova/absa_fin/runs/xyk3szcg</a>"
      ],
      "text/plain": [
       "<IPython.core.display.HTML object>"
      ]
     },
     "metadata": {},
     "output_type": "display_data"
    },
    {
     "name": "stderr",
     "output_type": "stream",
     "text": [
      "\u001b[34m\u001b[1mwandb\u001b[0m:   1 of 1 files downloaded.  \n"
     ]
    }
   ],
   "source": [
    "run = wandb.init(project=\"absa_fin\", name=\"MTabsaR-llama7v2\", tags=[\"wya5rjd6\"])\n",
    "artifact = run.use_artifact(\n",
    "    \"shakhova/absa_fin/run-wya5rjd6-MTabsaRllama7_preds:v0\", type=\"run_table\"\n",
    ")\n",
    "artifact_dir = artifact.download()"
   ]
  },
  {
   "cell_type": "code",
   "execution_count": 22,
   "metadata": {},
   "outputs": [
    {
     "data": {
      "text/html": [
       "<style>\n",
       "    table.wandb td:nth-child(1) { padding: 0 10px; text-align: left ; width: auto;} td:nth-child(2) {text-align: left ; width: 100%}\n",
       "    .wandb-row { display: flex; flex-direction: row; flex-wrap: wrap; justify-content: flex-start; width: 100% }\n",
       "    .wandb-col { display: flex; flex-direction: column; flex-basis: 100%; flex: 1; padding: 10px; }\n",
       "    </style>\n",
       "<div class=\"wandb-row\"><div class=\"wandb-col\"><h3>Run history:</h3><br/><table class=\"wandb\"><tr><td>F1_A</td><td>▁</td></tr><tr><td>F1_S</td><td>▁</td></tr><tr><td>F1_macro_ABSA</td><td>▁</td></tr><tr><td>F1_micro_ABSA</td><td>▁</td></tr></table><br/></div></div>"
      ],
      "text/plain": [
       "<IPython.core.display.HTML object>"
      ]
     },
     "metadata": {},
     "output_type": "display_data"
    },
    {
     "data": {
      "text/html": [
       " View run <strong style=\"color:#cdcd00\">MTabsaR-llama7v2</strong> at: <a href='https://wandb.ai/shakhova/absa_fin/runs/xyk3szcg' target=\"_blank\">https://wandb.ai/shakhova/absa_fin/runs/xyk3szcg</a><br/>Synced 5 W&B file(s), 0 media file(s), 0 artifact file(s) and 0 other file(s)"
      ],
      "text/plain": [
       "<IPython.core.display.HTML object>"
      ]
     },
     "metadata": {},
     "output_type": "display_data"
    },
    {
     "data": {
      "text/html": [
       "Find logs at: <code>.\\wandb\\run-20240424_123222-xyk3szcg\\logs</code>"
      ],
      "text/plain": [
       "<IPython.core.display.HTML object>"
      ]
     },
     "metadata": {},
     "output_type": "display_data"
    },
    {
     "name": "stdout",
     "output_type": "stream",
     "text": [
      "TP_sent=247, FN_sent=60, FP_sent=40,Total_Aspects=307, Exact_match=80\n"
     ]
    }
   ],
   "source": [
    "with open(\n",
    "    \"artifacts/run-wya5rjd6-MTabsaRllama7_preds-v0/MTabsaR-llama7_preds.table.json\"\n",
    ") as fp:\n",
    "    template = json.load(fp)\n",
    "y_true = []\n",
    "y_pred = []\n",
    "\n",
    "for line in template[\"data\"]:\n",
    "    y_pred.append(line[0])\n",
    "    y_true.append(line[1])\n",
    "\n",
    "calc(y_pred, y_true)"
   ]
  },
  {
   "cell_type": "code",
   "execution_count": 23,
   "metadata": {},
   "outputs": [
    {
     "data": {
      "text/html": [
       "wandb version 0.16.6 is available!  To upgrade, please run:\n",
       " $ pip install wandb --upgrade"
      ],
      "text/plain": [
       "<IPython.core.display.HTML object>"
      ]
     },
     "metadata": {},
     "output_type": "display_data"
    },
    {
     "data": {
      "text/html": [
       "Tracking run with wandb version 0.16.4"
      ],
      "text/plain": [
       "<IPython.core.display.HTML object>"
      ]
     },
     "metadata": {},
     "output_type": "display_data"
    },
    {
     "data": {
      "text/html": [
       "Run data is saved locally in <code>c:\\Users\\Kate\\Desktop\\absa_for_tests\\wandb\\run-20240424_123446-e2pv9lfi</code>"
      ],
      "text/plain": [
       "<IPython.core.display.HTML object>"
      ]
     },
     "metadata": {},
     "output_type": "display_data"
    },
    {
     "data": {
      "text/html": [
       "Syncing run <strong><a href='https://wandb.ai/shakhova/absa_fin/runs/e2pv9lfi' target=\"_blank\">MTabsaR-llama7v2</a></strong> to <a href='https://wandb.ai/shakhova/absa_fin' target=\"_blank\">Weights & Biases</a> (<a href='https://wandb.me/run' target=\"_blank\">docs</a>)<br/>"
      ],
      "text/plain": [
       "<IPython.core.display.HTML object>"
      ]
     },
     "metadata": {},
     "output_type": "display_data"
    },
    {
     "data": {
      "text/html": [
       " View project at <a href='https://wandb.ai/shakhova/absa_fin' target=\"_blank\">https://wandb.ai/shakhova/absa_fin</a>"
      ],
      "text/plain": [
       "<IPython.core.display.HTML object>"
      ]
     },
     "metadata": {},
     "output_type": "display_data"
    },
    {
     "data": {
      "text/html": [
       " View run at <a href='https://wandb.ai/shakhova/absa_fin/runs/e2pv9lfi' target=\"_blank\">https://wandb.ai/shakhova/absa_fin/runs/e2pv9lfi</a>"
      ],
      "text/plain": [
       "<IPython.core.display.HTML object>"
      ]
     },
     "metadata": {},
     "output_type": "display_data"
    },
    {
     "name": "stderr",
     "output_type": "stream",
     "text": [
      "\u001b[34m\u001b[1mwandb\u001b[0m:   1 of 1 files downloaded.  \n"
     ]
    }
   ],
   "source": [
    "run = wandb.init(project=\"absa_fin\", name=\"MTabsaR-llama7v2\", tags=[\"sp9traj2\"])\n",
    "artifact = run.use_artifact(\n",
    "    \"shakhova/absa_fin/run-sp9traj2-MTabsaRllama7_preds:v0\", type=\"run_table\"\n",
    ")\n",
    "artifact_dir = artifact.download()"
   ]
  },
  {
   "cell_type": "code",
   "execution_count": 24,
   "metadata": {},
   "outputs": [
    {
     "data": {
      "text/html": [
       "<style>\n",
       "    table.wandb td:nth-child(1) { padding: 0 10px; text-align: left ; width: auto;} td:nth-child(2) {text-align: left ; width: 100%}\n",
       "    .wandb-row { display: flex; flex-direction: row; flex-wrap: wrap; justify-content: flex-start; width: 100% }\n",
       "    .wandb-col { display: flex; flex-direction: column; flex-basis: 100%; flex: 1; padding: 10px; }\n",
       "    </style>\n",
       "<div class=\"wandb-row\"><div class=\"wandb-col\"><h3>Run history:</h3><br/><table class=\"wandb\"><tr><td>F1_A</td><td>▁</td></tr><tr><td>F1_S</td><td>▁</td></tr><tr><td>F1_macro_ABSA</td><td>▁</td></tr><tr><td>F1_micro_ABSA</td><td>▁</td></tr></table><br/></div></div>"
      ],
      "text/plain": [
       "<IPython.core.display.HTML object>"
      ]
     },
     "metadata": {},
     "output_type": "display_data"
    },
    {
     "data": {
      "text/html": [
       " View run <strong style=\"color:#cdcd00\">MTabsaR-llama7v2</strong> at: <a href='https://wandb.ai/shakhova/absa_fin/runs/e2pv9lfi' target=\"_blank\">https://wandb.ai/shakhova/absa_fin/runs/e2pv9lfi</a><br/>Synced 5 W&B file(s), 0 media file(s), 0 artifact file(s) and 0 other file(s)"
      ],
      "text/plain": [
       "<IPython.core.display.HTML object>"
      ]
     },
     "metadata": {},
     "output_type": "display_data"
    },
    {
     "data": {
      "text/html": [
       "Find logs at: <code>.\\wandb\\run-20240424_123446-e2pv9lfi\\logs</code>"
      ],
      "text/plain": [
       "<IPython.core.display.HTML object>"
      ]
     },
     "metadata": {},
     "output_type": "display_data"
    },
    {
     "name": "stdout",
     "output_type": "stream",
     "text": [
      "TP_sent=247, FN_sent=72, FP_sent=40,Total_Aspects=319, Exact_match=77\n"
     ]
    }
   ],
   "source": [
    "with open(\n",
    "    \"artifacts/run-sp9traj2-MTabsaRllama7_preds-v0/MTabsaR-llama7_preds.table.json\"\n",
    ") as fp:\n",
    "    template = json.load(fp)\n",
    "y_true = []\n",
    "y_pred = []\n",
    "\n",
    "for line in template[\"data\"]:\n",
    "    y_pred.append(line[0])\n",
    "    y_true.append(line[1])\n",
    "\n",
    "calc(y_pred, y_true)"
   ]
  },
  {
   "cell_type": "markdown",
   "metadata": {},
   "source": [
    "# Laptops"
   ]
  },
  {
   "cell_type": "code",
   "execution_count": 25,
   "metadata": {},
   "outputs": [
    {
     "data": {
      "text/html": [
       "wandb version 0.16.6 is available!  To upgrade, please run:\n",
       " $ pip install wandb --upgrade"
      ],
      "text/plain": [
       "<IPython.core.display.HTML object>"
      ]
     },
     "metadata": {},
     "output_type": "display_data"
    },
    {
     "data": {
      "text/html": [
       "Tracking run with wandb version 0.16.4"
      ],
      "text/plain": [
       "<IPython.core.display.HTML object>"
      ]
     },
     "metadata": {},
     "output_type": "display_data"
    },
    {
     "data": {
      "text/html": [
       "Run data is saved locally in <code>c:\\Users\\Kate\\Desktop\\absa_for_tests\\wandb\\run-20240424_123853-0f3c3u8m</code>"
      ],
      "text/plain": [
       "<IPython.core.display.HTML object>"
      ]
     },
     "metadata": {},
     "output_type": "display_data"
    },
    {
     "data": {
      "text/html": [
       "Syncing run <strong><a href='https://wandb.ai/shakhova/absa_fin/runs/0f3c3u8m' target=\"_blank\">absaL-llama7v2</a></strong> to <a href='https://wandb.ai/shakhova/absa_fin' target=\"_blank\">Weights & Biases</a> (<a href='https://wandb.me/run' target=\"_blank\">docs</a>)<br/>"
      ],
      "text/plain": [
       "<IPython.core.display.HTML object>"
      ]
     },
     "metadata": {},
     "output_type": "display_data"
    },
    {
     "data": {
      "text/html": [
       " View project at <a href='https://wandb.ai/shakhova/absa_fin' target=\"_blank\">https://wandb.ai/shakhova/absa_fin</a>"
      ],
      "text/plain": [
       "<IPython.core.display.HTML object>"
      ]
     },
     "metadata": {},
     "output_type": "display_data"
    },
    {
     "data": {
      "text/html": [
       " View run at <a href='https://wandb.ai/shakhova/absa_fin/runs/0f3c3u8m' target=\"_blank\">https://wandb.ai/shakhova/absa_fin/runs/0f3c3u8m</a>"
      ],
      "text/plain": [
       "<IPython.core.display.HTML object>"
      ]
     },
     "metadata": {},
     "output_type": "display_data"
    },
    {
     "name": "stderr",
     "output_type": "stream",
     "text": [
      "\u001b[34m\u001b[1mwandb\u001b[0m:   1 of 1 files downloaded.  \n"
     ]
    }
   ],
   "source": [
    "run = wandb.init(project=\"absa_fin\", name=\"absaL-llama7v2\", tags=[\"gpxqe7v1\"])\n",
    "artifact = run.use_artifact(\n",
    "    \"shakhova/absa_fin/run-gpxqe7v1-absaLllama7_preds:v0\", type=\"run_table\"\n",
    ")\n",
    "artifact_dir = artifact.download()"
   ]
  },
  {
   "cell_type": "code",
   "execution_count": 26,
   "metadata": {},
   "outputs": [
    {
     "data": {
      "text/html": [
       "<style>\n",
       "    table.wandb td:nth-child(1) { padding: 0 10px; text-align: left ; width: auto;} td:nth-child(2) {text-align: left ; width: 100%}\n",
       "    .wandb-row { display: flex; flex-direction: row; flex-wrap: wrap; justify-content: flex-start; width: 100% }\n",
       "    .wandb-col { display: flex; flex-direction: column; flex-basis: 100%; flex: 1; padding: 10px; }\n",
       "    </style>\n",
       "<div class=\"wandb-row\"><div class=\"wandb-col\"><h3>Run history:</h3><br/><table class=\"wandb\"><tr><td>F1_A</td><td>▁</td></tr><tr><td>F1_S</td><td>▁</td></tr><tr><td>F1_macro_ABSA</td><td>▁</td></tr><tr><td>F1_micro_ABSA</td><td>▁</td></tr></table><br/></div></div>"
      ],
      "text/plain": [
       "<IPython.core.display.HTML object>"
      ]
     },
     "metadata": {},
     "output_type": "display_data"
    },
    {
     "data": {
      "text/html": [
       " View run <strong style=\"color:#cdcd00\">absaL-llama7v2</strong> at: <a href='https://wandb.ai/shakhova/absa_fin/runs/0f3c3u8m' target=\"_blank\">https://wandb.ai/shakhova/absa_fin/runs/0f3c3u8m</a><br/>Synced 5 W&B file(s), 0 media file(s), 0 artifact file(s) and 0 other file(s)"
      ],
      "text/plain": [
       "<IPython.core.display.HTML object>"
      ]
     },
     "metadata": {},
     "output_type": "display_data"
    },
    {
     "data": {
      "text/html": [
       "Find logs at: <code>.\\wandb\\run-20240424_123853-0f3c3u8m\\logs</code>"
      ],
      "text/plain": [
       "<IPython.core.display.HTML object>"
      ]
     },
     "metadata": {},
     "output_type": "display_data"
    },
    {
     "name": "stdout",
     "output_type": "stream",
     "text": [
      "TP_sent=229, FN_sent=44, FP_sent=29,Total_Aspects=273, Exact_match=84\n"
     ]
    }
   ],
   "source": [
    "with open(\n",
    "    \"artifacts/run-gpxqe7v1-absaLllama7_preds-v0/absaL-llama7_preds.table.json\"\n",
    ") as fp:\n",
    "    template = json.load(fp)\n",
    "y_true = []\n",
    "y_pred = []\n",
    "\n",
    "for line in template[\"data\"]:\n",
    "    y_pred.append(line[0])\n",
    "    y_true.append(line[1])\n",
    "\n",
    "calc(y_pred, y_true)"
   ]
  },
  {
   "cell_type": "code",
   "execution_count": 27,
   "metadata": {},
   "outputs": [
    {
     "data": {
      "text/html": [
       "wandb version 0.16.6 is available!  To upgrade, please run:\n",
       " $ pip install wandb --upgrade"
      ],
      "text/plain": [
       "<IPython.core.display.HTML object>"
      ]
     },
     "metadata": {},
     "output_type": "display_data"
    },
    {
     "data": {
      "text/html": [
       "Tracking run with wandb version 0.16.4"
      ],
      "text/plain": [
       "<IPython.core.display.HTML object>"
      ]
     },
     "metadata": {},
     "output_type": "display_data"
    },
    {
     "data": {
      "text/html": [
       "Run data is saved locally in <code>c:\\Users\\Kate\\Desktop\\absa_for_tests\\wandb\\run-20240424_124106-2yd09rlw</code>"
      ],
      "text/plain": [
       "<IPython.core.display.HTML object>"
      ]
     },
     "metadata": {},
     "output_type": "display_data"
    },
    {
     "data": {
      "text/html": [
       "Syncing run <strong><a href='https://wandb.ai/shakhova/absa_fin/runs/2yd09rlw' target=\"_blank\">absaL-llama7v2</a></strong> to <a href='https://wandb.ai/shakhova/absa_fin' target=\"_blank\">Weights & Biases</a> (<a href='https://wandb.me/run' target=\"_blank\">docs</a>)<br/>"
      ],
      "text/plain": [
       "<IPython.core.display.HTML object>"
      ]
     },
     "metadata": {},
     "output_type": "display_data"
    },
    {
     "data": {
      "text/html": [
       " View project at <a href='https://wandb.ai/shakhova/absa_fin' target=\"_blank\">https://wandb.ai/shakhova/absa_fin</a>"
      ],
      "text/plain": [
       "<IPython.core.display.HTML object>"
      ]
     },
     "metadata": {},
     "output_type": "display_data"
    },
    {
     "data": {
      "text/html": [
       " View run at <a href='https://wandb.ai/shakhova/absa_fin/runs/2yd09rlw' target=\"_blank\">https://wandb.ai/shakhova/absa_fin/runs/2yd09rlw</a>"
      ],
      "text/plain": [
       "<IPython.core.display.HTML object>"
      ]
     },
     "metadata": {},
     "output_type": "display_data"
    },
    {
     "name": "stderr",
     "output_type": "stream",
     "text": [
      "\u001b[34m\u001b[1mwandb\u001b[0m:   1 of 1 files downloaded.  \n"
     ]
    }
   ],
   "source": [
    "run = wandb.init(project=\"absa_fin\", name=\"absaL-llama7v2\", tags=[\"zovf8s0i\"])\n",
    "artifact = run.use_artifact(\n",
    "    \"shakhova/absa_fin/run-zovf8s0i-absaLllama7_preds:v0\", type=\"run_table\"\n",
    ")\n",
    "artifact_dir = artifact.download()"
   ]
  },
  {
   "cell_type": "code",
   "execution_count": 28,
   "metadata": {},
   "outputs": [
    {
     "data": {
      "text/html": [
       "<style>\n",
       "    table.wandb td:nth-child(1) { padding: 0 10px; text-align: left ; width: auto;} td:nth-child(2) {text-align: left ; width: 100%}\n",
       "    .wandb-row { display: flex; flex-direction: row; flex-wrap: wrap; justify-content: flex-start; width: 100% }\n",
       "    .wandb-col { display: flex; flex-direction: column; flex-basis: 100%; flex: 1; padding: 10px; }\n",
       "    </style>\n",
       "<div class=\"wandb-row\"><div class=\"wandb-col\"><h3>Run history:</h3><br/><table class=\"wandb\"><tr><td>F1_A</td><td>▁</td></tr><tr><td>F1_S</td><td>▁</td></tr><tr><td>F1_macro_ABSA</td><td>▁</td></tr><tr><td>F1_micro_ABSA</td><td>▁</td></tr></table><br/></div></div>"
      ],
      "text/plain": [
       "<IPython.core.display.HTML object>"
      ]
     },
     "metadata": {},
     "output_type": "display_data"
    },
    {
     "data": {
      "text/html": [
       " View run <strong style=\"color:#cdcd00\">absaL-llama7v2</strong> at: <a href='https://wandb.ai/shakhova/absa_fin/runs/2yd09rlw' target=\"_blank\">https://wandb.ai/shakhova/absa_fin/runs/2yd09rlw</a><br/>Synced 5 W&B file(s), 0 media file(s), 0 artifact file(s) and 0 other file(s)"
      ],
      "text/plain": [
       "<IPython.core.display.HTML object>"
      ]
     },
     "metadata": {},
     "output_type": "display_data"
    },
    {
     "data": {
      "text/html": [
       "Find logs at: <code>.\\wandb\\run-20240424_124106-2yd09rlw\\logs</code>"
      ],
      "text/plain": [
       "<IPython.core.display.HTML object>"
      ]
     },
     "metadata": {},
     "output_type": "display_data"
    },
    {
     "name": "stdout",
     "output_type": "stream",
     "text": [
      "TP_sent=197, FN_sent=54, FP_sent=22,Total_Aspects=251, Exact_match=78\n"
     ]
    }
   ],
   "source": [
    "with open(\n",
    "    \"artifacts/run-zovf8s0i-absaLllama7_preds-v0/absaL-llama7_preds.table.json\"\n",
    ") as fp:\n",
    "    template = json.load(fp)\n",
    "y_true = []\n",
    "y_pred = []\n",
    "\n",
    "for line in template[\"data\"]:\n",
    "    y_pred.append(line[0])\n",
    "    y_true.append(line[1])\n",
    "\n",
    "calc(y_pred, y_true)"
   ]
  },
  {
   "cell_type": "code",
   "execution_count": 29,
   "metadata": {},
   "outputs": [
    {
     "data": {
      "text/html": [
       "wandb version 0.16.6 is available!  To upgrade, please run:\n",
       " $ pip install wandb --upgrade"
      ],
      "text/plain": [
       "<IPython.core.display.HTML object>"
      ]
     },
     "metadata": {},
     "output_type": "display_data"
    },
    {
     "data": {
      "text/html": [
       "Tracking run with wandb version 0.16.4"
      ],
      "text/plain": [
       "<IPython.core.display.HTML object>"
      ]
     },
     "metadata": {},
     "output_type": "display_data"
    },
    {
     "data": {
      "text/html": [
       "Run data is saved locally in <code>c:\\Users\\Kate\\Desktop\\absa_for_tests\\wandb\\run-20240424_124254-xg31p34r</code>"
      ],
      "text/plain": [
       "<IPython.core.display.HTML object>"
      ]
     },
     "metadata": {},
     "output_type": "display_data"
    },
    {
     "data": {
      "text/html": [
       "Syncing run <strong><a href='https://wandb.ai/shakhova/absa_fin/runs/xg31p34r' target=\"_blank\">absaL-llama7v2</a></strong> to <a href='https://wandb.ai/shakhova/absa_fin' target=\"_blank\">Weights & Biases</a> (<a href='https://wandb.me/run' target=\"_blank\">docs</a>)<br/>"
      ],
      "text/plain": [
       "<IPython.core.display.HTML object>"
      ]
     },
     "metadata": {},
     "output_type": "display_data"
    },
    {
     "data": {
      "text/html": [
       " View project at <a href='https://wandb.ai/shakhova/absa_fin' target=\"_blank\">https://wandb.ai/shakhova/absa_fin</a>"
      ],
      "text/plain": [
       "<IPython.core.display.HTML object>"
      ]
     },
     "metadata": {},
     "output_type": "display_data"
    },
    {
     "data": {
      "text/html": [
       " View run at <a href='https://wandb.ai/shakhova/absa_fin/runs/xg31p34r' target=\"_blank\">https://wandb.ai/shakhova/absa_fin/runs/xg31p34r</a>"
      ],
      "text/plain": [
       "<IPython.core.display.HTML object>"
      ]
     },
     "metadata": {},
     "output_type": "display_data"
    },
    {
     "name": "stderr",
     "output_type": "stream",
     "text": [
      "\u001b[34m\u001b[1mwandb\u001b[0m:   1 of 1 files downloaded.  \n"
     ]
    }
   ],
   "source": [
    "run = wandb.init(project=\"absa_fin\", name=\"absaL-llama7v2\", tags=[\"xwvohfg2\"])\n",
    "artifact = run.use_artifact(\n",
    "    \"shakhova/absa_fin/run-xwvohfg2-absaLllama7_preds:v0\", type=\"run_table\"\n",
    ")\n",
    "artifact_dir = artifact.download()"
   ]
  },
  {
   "cell_type": "code",
   "execution_count": 30,
   "metadata": {},
   "outputs": [
    {
     "data": {
      "text/html": [
       "<style>\n",
       "    table.wandb td:nth-child(1) { padding: 0 10px; text-align: left ; width: auto;} td:nth-child(2) {text-align: left ; width: 100%}\n",
       "    .wandb-row { display: flex; flex-direction: row; flex-wrap: wrap; justify-content: flex-start; width: 100% }\n",
       "    .wandb-col { display: flex; flex-direction: column; flex-basis: 100%; flex: 1; padding: 10px; }\n",
       "    </style>\n",
       "<div class=\"wandb-row\"><div class=\"wandb-col\"><h3>Run history:</h3><br/><table class=\"wandb\"><tr><td>F1_A</td><td>▁</td></tr><tr><td>F1_S</td><td>▁</td></tr><tr><td>F1_macro_ABSA</td><td>▁</td></tr><tr><td>F1_micro_ABSA</td><td>▁</td></tr></table><br/></div></div>"
      ],
      "text/plain": [
       "<IPython.core.display.HTML object>"
      ]
     },
     "metadata": {},
     "output_type": "display_data"
    },
    {
     "data": {
      "text/html": [
       " View run <strong style=\"color:#cdcd00\">absaL-llama7v2</strong> at: <a href='https://wandb.ai/shakhova/absa_fin/runs/xg31p34r' target=\"_blank\">https://wandb.ai/shakhova/absa_fin/runs/xg31p34r</a><br/>Synced 5 W&B file(s), 0 media file(s), 0 artifact file(s) and 0 other file(s)"
      ],
      "text/plain": [
       "<IPython.core.display.HTML object>"
      ]
     },
     "metadata": {},
     "output_type": "display_data"
    },
    {
     "data": {
      "text/html": [
       "Find logs at: <code>.\\wandb\\run-20240424_124254-xg31p34r\\logs</code>"
      ],
      "text/plain": [
       "<IPython.core.display.HTML object>"
      ]
     },
     "metadata": {},
     "output_type": "display_data"
    },
    {
     "name": "stdout",
     "output_type": "stream",
     "text": [
      "TP_sent=205, FN_sent=54, FP_sent=30,Total_Aspects=259, Exact_match=79\n"
     ]
    }
   ],
   "source": [
    "with open(\n",
    "    \"artifacts/run-xwvohfg2-absaLllama7_preds-v0/absaL-llama7_preds.table.json\"\n",
    ") as fp:\n",
    "    template = json.load(fp)\n",
    "y_true = []\n",
    "y_pred = []\n",
    "\n",
    "for line in template[\"data\"]:\n",
    "    y_pred.append(line[0])\n",
    "    y_true.append(line[1])\n",
    "\n",
    "calc(y_pred, y_true)"
   ]
  },
  {
   "cell_type": "code",
   "execution_count": 31,
   "metadata": {},
   "outputs": [
    {
     "data": {
      "text/html": [
       "wandb version 0.16.6 is available!  To upgrade, please run:\n",
       " $ pip install wandb --upgrade"
      ],
      "text/plain": [
       "<IPython.core.display.HTML object>"
      ]
     },
     "metadata": {},
     "output_type": "display_data"
    },
    {
     "data": {
      "text/html": [
       "Tracking run with wandb version 0.16.4"
      ],
      "text/plain": [
       "<IPython.core.display.HTML object>"
      ]
     },
     "metadata": {},
     "output_type": "display_data"
    },
    {
     "data": {
      "text/html": [
       "Run data is saved locally in <code>c:\\Users\\Kate\\Desktop\\absa_for_tests\\wandb\\run-20240424_124441-s18vveva</code>"
      ],
      "text/plain": [
       "<IPython.core.display.HTML object>"
      ]
     },
     "metadata": {},
     "output_type": "display_data"
    },
    {
     "data": {
      "text/html": [
       "Syncing run <strong><a href='https://wandb.ai/shakhova/absa_fin/runs/s18vveva' target=\"_blank\">absaL-llama7v2</a></strong> to <a href='https://wandb.ai/shakhova/absa_fin' target=\"_blank\">Weights & Biases</a> (<a href='https://wandb.me/run' target=\"_blank\">docs</a>)<br/>"
      ],
      "text/plain": [
       "<IPython.core.display.HTML object>"
      ]
     },
     "metadata": {},
     "output_type": "display_data"
    },
    {
     "data": {
      "text/html": [
       " View project at <a href='https://wandb.ai/shakhova/absa_fin' target=\"_blank\">https://wandb.ai/shakhova/absa_fin</a>"
      ],
      "text/plain": [
       "<IPython.core.display.HTML object>"
      ]
     },
     "metadata": {},
     "output_type": "display_data"
    },
    {
     "data": {
      "text/html": [
       " View run at <a href='https://wandb.ai/shakhova/absa_fin/runs/s18vveva' target=\"_blank\">https://wandb.ai/shakhova/absa_fin/runs/s18vveva</a>"
      ],
      "text/plain": [
       "<IPython.core.display.HTML object>"
      ]
     },
     "metadata": {},
     "output_type": "display_data"
    },
    {
     "name": "stderr",
     "output_type": "stream",
     "text": [
      "\u001b[34m\u001b[1mwandb\u001b[0m:   1 of 1 files downloaded.  \n"
     ]
    }
   ],
   "source": [
    "run = wandb.init(project=\"absa_fin\", name=\"absaL-llama7v2\", tags=[\"fxdoiohj\"])\n",
    "artifact = run.use_artifact(\n",
    "    \"shakhova/absa_fin/run-fxdoiohj-absaLllama7_preds:v0\", type=\"run_table\"\n",
    ")\n",
    "artifact_dir = artifact.download()"
   ]
  },
  {
   "cell_type": "code",
   "execution_count": 32,
   "metadata": {},
   "outputs": [
    {
     "data": {
      "text/html": [
       "<style>\n",
       "    table.wandb td:nth-child(1) { padding: 0 10px; text-align: left ; width: auto;} td:nth-child(2) {text-align: left ; width: 100%}\n",
       "    .wandb-row { display: flex; flex-direction: row; flex-wrap: wrap; justify-content: flex-start; width: 100% }\n",
       "    .wandb-col { display: flex; flex-direction: column; flex-basis: 100%; flex: 1; padding: 10px; }\n",
       "    </style>\n",
       "<div class=\"wandb-row\"><div class=\"wandb-col\"><h3>Run history:</h3><br/><table class=\"wandb\"><tr><td>F1_A</td><td>▁</td></tr><tr><td>F1_S</td><td>▁</td></tr><tr><td>F1_macro_ABSA</td><td>▁</td></tr><tr><td>F1_micro_ABSA</td><td>▁</td></tr></table><br/></div></div>"
      ],
      "text/plain": [
       "<IPython.core.display.HTML object>"
      ]
     },
     "metadata": {},
     "output_type": "display_data"
    },
    {
     "data": {
      "text/html": [
       " View run <strong style=\"color:#cdcd00\">absaL-llama7v2</strong> at: <a href='https://wandb.ai/shakhova/absa_fin/runs/s18vveva' target=\"_blank\">https://wandb.ai/shakhova/absa_fin/runs/s18vveva</a><br/>Synced 5 W&B file(s), 0 media file(s), 0 artifact file(s) and 0 other file(s)"
      ],
      "text/plain": [
       "<IPython.core.display.HTML object>"
      ]
     },
     "metadata": {},
     "output_type": "display_data"
    },
    {
     "data": {
      "text/html": [
       "Find logs at: <code>.\\wandb\\run-20240424_124441-s18vveva\\logs</code>"
      ],
      "text/plain": [
       "<IPython.core.display.HTML object>"
      ]
     },
     "metadata": {},
     "output_type": "display_data"
    },
    {
     "name": "stdout",
     "output_type": "stream",
     "text": [
      "TP_sent=218, FN_sent=52, FP_sent=28,Total_Aspects=270, Exact_match=81\n"
     ]
    }
   ],
   "source": [
    "with open(\n",
    "    \"artifacts/run-fxdoiohj-absaLllama7_preds-v0/absaL-llama7_preds.table.json\"\n",
    ") as fp:\n",
    "    template = json.load(fp)\n",
    "y_true = []\n",
    "y_pred = []\n",
    "\n",
    "for line in template[\"data\"]:\n",
    "    y_pred.append(line[0])\n",
    "    y_true.append(line[1])\n",
    "\n",
    "calc(y_pred, y_true)"
   ]
  },
  {
   "cell_type": "code",
   "execution_count": 33,
   "metadata": {},
   "outputs": [
    {
     "data": {
      "text/html": [
       "wandb version 0.16.6 is available!  To upgrade, please run:\n",
       " $ pip install wandb --upgrade"
      ],
      "text/plain": [
       "<IPython.core.display.HTML object>"
      ]
     },
     "metadata": {},
     "output_type": "display_data"
    },
    {
     "data": {
      "text/html": [
       "Tracking run with wandb version 0.16.4"
      ],
      "text/plain": [
       "<IPython.core.display.HTML object>"
      ]
     },
     "metadata": {},
     "output_type": "display_data"
    },
    {
     "data": {
      "text/html": [
       "Run data is saved locally in <code>c:\\Users\\Kate\\Desktop\\absa_for_tests\\wandb\\run-20240424_124639-cr1pzamp</code>"
      ],
      "text/plain": [
       "<IPython.core.display.HTML object>"
      ]
     },
     "metadata": {},
     "output_type": "display_data"
    },
    {
     "data": {
      "text/html": [
       "Syncing run <strong><a href='https://wandb.ai/shakhova/absa_fin/runs/cr1pzamp' target=\"_blank\">absaL-llama7v2</a></strong> to <a href='https://wandb.ai/shakhova/absa_fin' target=\"_blank\">Weights & Biases</a> (<a href='https://wandb.me/run' target=\"_blank\">docs</a>)<br/>"
      ],
      "text/plain": [
       "<IPython.core.display.HTML object>"
      ]
     },
     "metadata": {},
     "output_type": "display_data"
    },
    {
     "data": {
      "text/html": [
       " View project at <a href='https://wandb.ai/shakhova/absa_fin' target=\"_blank\">https://wandb.ai/shakhova/absa_fin</a>"
      ],
      "text/plain": [
       "<IPython.core.display.HTML object>"
      ]
     },
     "metadata": {},
     "output_type": "display_data"
    },
    {
     "data": {
      "text/html": [
       " View run at <a href='https://wandb.ai/shakhova/absa_fin/runs/cr1pzamp' target=\"_blank\">https://wandb.ai/shakhova/absa_fin/runs/cr1pzamp</a>"
      ],
      "text/plain": [
       "<IPython.core.display.HTML object>"
      ]
     },
     "metadata": {},
     "output_type": "display_data"
    },
    {
     "name": "stderr",
     "output_type": "stream",
     "text": [
      "\u001b[34m\u001b[1mwandb\u001b[0m:   1 of 1 files downloaded.  \n"
     ]
    }
   ],
   "source": [
    "run = wandb.init(project=\"absa_fin\", name=\"absaL-llama7v2\", tags=[\"awfju5k6\"])\n",
    "artifact = run.use_artifact(\n",
    "    \"shakhova/absa_fin/run-awfju5k6-absaLllama7_preds:v0\", type=\"run_table\"\n",
    ")\n",
    "artifact_dir = artifact.download()"
   ]
  },
  {
   "cell_type": "code",
   "execution_count": 34,
   "metadata": {},
   "outputs": [
    {
     "data": {
      "text/html": [
       "<style>\n",
       "    table.wandb td:nth-child(1) { padding: 0 10px; text-align: left ; width: auto;} td:nth-child(2) {text-align: left ; width: 100%}\n",
       "    .wandb-row { display: flex; flex-direction: row; flex-wrap: wrap; justify-content: flex-start; width: 100% }\n",
       "    .wandb-col { display: flex; flex-direction: column; flex-basis: 100%; flex: 1; padding: 10px; }\n",
       "    </style>\n",
       "<div class=\"wandb-row\"><div class=\"wandb-col\"><h3>Run history:</h3><br/><table class=\"wandb\"><tr><td>F1_A</td><td>▁</td></tr><tr><td>F1_S</td><td>▁</td></tr><tr><td>F1_macro_ABSA</td><td>▁</td></tr><tr><td>F1_micro_ABSA</td><td>▁</td></tr></table><br/></div></div>"
      ],
      "text/plain": [
       "<IPython.core.display.HTML object>"
      ]
     },
     "metadata": {},
     "output_type": "display_data"
    },
    {
     "data": {
      "text/html": [
       " View run <strong style=\"color:#cdcd00\">absaL-llama7v2</strong> at: <a href='https://wandb.ai/shakhova/absa_fin/runs/cr1pzamp' target=\"_blank\">https://wandb.ai/shakhova/absa_fin/runs/cr1pzamp</a><br/>Synced 5 W&B file(s), 0 media file(s), 0 artifact file(s) and 0 other file(s)"
      ],
      "text/plain": [
       "<IPython.core.display.HTML object>"
      ]
     },
     "metadata": {},
     "output_type": "display_data"
    },
    {
     "data": {
      "text/html": [
       "Find logs at: <code>.\\wandb\\run-20240424_124639-cr1pzamp\\logs</code>"
      ],
      "text/plain": [
       "<IPython.core.display.HTML object>"
      ]
     },
     "metadata": {},
     "output_type": "display_data"
    },
    {
     "name": "stdout",
     "output_type": "stream",
     "text": [
      "TP_sent=208, FN_sent=51, FP_sent=34,Total_Aspects=259, Exact_match=80\n"
     ]
    }
   ],
   "source": [
    "with open(\n",
    "    \"artifacts/run-awfju5k6-absaLllama7_preds-v0/absaL-llama7_preds.table.json\"\n",
    ") as fp:\n",
    "    template = json.load(fp)\n",
    "y_true = []\n",
    "y_pred = []\n",
    "\n",
    "for line in template[\"data\"]:\n",
    "    y_pred.append(line[0])\n",
    "    y_true.append(line[1])\n",
    "\n",
    "calc(y_pred, y_true)"
   ]
  },
  {
   "cell_type": "code",
   "execution_count": 35,
   "metadata": {},
   "outputs": [
    {
     "data": {
      "text/html": [
       "wandb version 0.16.6 is available!  To upgrade, please run:\n",
       " $ pip install wandb --upgrade"
      ],
      "text/plain": [
       "<IPython.core.display.HTML object>"
      ]
     },
     "metadata": {},
     "output_type": "display_data"
    },
    {
     "data": {
      "text/html": [
       "Tracking run with wandb version 0.16.4"
      ],
      "text/plain": [
       "<IPython.core.display.HTML object>"
      ]
     },
     "metadata": {},
     "output_type": "display_data"
    },
    {
     "data": {
      "text/html": [
       "Run data is saved locally in <code>c:\\Users\\Kate\\Desktop\\absa_for_tests\\wandb\\run-20240424_124829-dvzbqo22</code>"
      ],
      "text/plain": [
       "<IPython.core.display.HTML object>"
      ]
     },
     "metadata": {},
     "output_type": "display_data"
    },
    {
     "data": {
      "text/html": [
       "Syncing run <strong><a href='https://wandb.ai/shakhova/absa_fin/runs/dvzbqo22' target=\"_blank\">MTabsaL-llama7v2</a></strong> to <a href='https://wandb.ai/shakhova/absa_fin' target=\"_blank\">Weights & Biases</a> (<a href='https://wandb.me/run' target=\"_blank\">docs</a>)<br/>"
      ],
      "text/plain": [
       "<IPython.core.display.HTML object>"
      ]
     },
     "metadata": {},
     "output_type": "display_data"
    },
    {
     "data": {
      "text/html": [
       " View project at <a href='https://wandb.ai/shakhova/absa_fin' target=\"_blank\">https://wandb.ai/shakhova/absa_fin</a>"
      ],
      "text/plain": [
       "<IPython.core.display.HTML object>"
      ]
     },
     "metadata": {},
     "output_type": "display_data"
    },
    {
     "data": {
      "text/html": [
       " View run at <a href='https://wandb.ai/shakhova/absa_fin/runs/dvzbqo22' target=\"_blank\">https://wandb.ai/shakhova/absa_fin/runs/dvzbqo22</a>"
      ],
      "text/plain": [
       "<IPython.core.display.HTML object>"
      ]
     },
     "metadata": {},
     "output_type": "display_data"
    },
    {
     "name": "stderr",
     "output_type": "stream",
     "text": [
      "\u001b[34m\u001b[1mwandb\u001b[0m:   1 of 1 files downloaded.  \n"
     ]
    }
   ],
   "source": [
    "run = wandb.init(project=\"absa_fin\", name=\"MTabsaL-llama7v2\", tags=[\"bj41dns5\"])\n",
    "artifact = run.use_artifact(\n",
    "    \"shakhova/absa_fin/run-bj41dns5-MTabsaLllama7_preds:v0\", type=\"run_table\"\n",
    ")\n",
    "artifact_dir = artifact.download()"
   ]
  },
  {
   "cell_type": "code",
   "execution_count": 36,
   "metadata": {},
   "outputs": [
    {
     "data": {
      "text/html": [
       "<style>\n",
       "    table.wandb td:nth-child(1) { padding: 0 10px; text-align: left ; width: auto;} td:nth-child(2) {text-align: left ; width: 100%}\n",
       "    .wandb-row { display: flex; flex-direction: row; flex-wrap: wrap; justify-content: flex-start; width: 100% }\n",
       "    .wandb-col { display: flex; flex-direction: column; flex-basis: 100%; flex: 1; padding: 10px; }\n",
       "    </style>\n",
       "<div class=\"wandb-row\"><div class=\"wandb-col\"><h3>Run history:</h3><br/><table class=\"wandb\"><tr><td>F1_A</td><td>▁</td></tr><tr><td>F1_S</td><td>▁</td></tr><tr><td>F1_macro_ABSA</td><td>▁</td></tr><tr><td>F1_micro_ABSA</td><td>▁</td></tr></table><br/></div></div>"
      ],
      "text/plain": [
       "<IPython.core.display.HTML object>"
      ]
     },
     "metadata": {},
     "output_type": "display_data"
    },
    {
     "data": {
      "text/html": [
       " View run <strong style=\"color:#cdcd00\">MTabsaL-llama7v2</strong> at: <a href='https://wandb.ai/shakhova/absa_fin/runs/dvzbqo22' target=\"_blank\">https://wandb.ai/shakhova/absa_fin/runs/dvzbqo22</a><br/>Synced 5 W&B file(s), 0 media file(s), 0 artifact file(s) and 0 other file(s)"
      ],
      "text/plain": [
       "<IPython.core.display.HTML object>"
      ]
     },
     "metadata": {},
     "output_type": "display_data"
    },
    {
     "data": {
      "text/html": [
       "Find logs at: <code>.\\wandb\\run-20240424_124829-dvzbqo22\\logs</code>"
      ],
      "text/plain": [
       "<IPython.core.display.HTML object>"
      ]
     },
     "metadata": {},
     "output_type": "display_data"
    },
    {
     "name": "stdout",
     "output_type": "stream",
     "text": [
      "TP_sent=204, FN_sent=40, FP_sent=23,Total_Aspects=244, Exact_match=84\n"
     ]
    }
   ],
   "source": [
    "with open(\n",
    "    \"artifacts/run-bj41dns5-MTabsaLllama7_preds-v0/MTabsaL-llama7_preds.table.json\"\n",
    ") as fp:\n",
    "    template = json.load(fp)\n",
    "y_true = []\n",
    "y_pred = []\n",
    "\n",
    "for line in template[\"data\"]:\n",
    "    y_pred.append(line[0])\n",
    "    y_true.append(line[1])\n",
    "\n",
    "calc(y_pred, y_true)"
   ]
  },
  {
   "cell_type": "code",
   "execution_count": 37,
   "metadata": {},
   "outputs": [
    {
     "data": {
      "text/html": [
       "wandb version 0.16.6 is available!  To upgrade, please run:\n",
       " $ pip install wandb --upgrade"
      ],
      "text/plain": [
       "<IPython.core.display.HTML object>"
      ]
     },
     "metadata": {},
     "output_type": "display_data"
    },
    {
     "data": {
      "text/html": [
       "Tracking run with wandb version 0.16.4"
      ],
      "text/plain": [
       "<IPython.core.display.HTML object>"
      ]
     },
     "metadata": {},
     "output_type": "display_data"
    },
    {
     "data": {
      "text/html": [
       "Run data is saved locally in <code>c:\\Users\\Kate\\Desktop\\absa_for_tests\\wandb\\run-20240424_125000-465369h4</code>"
      ],
      "text/plain": [
       "<IPython.core.display.HTML object>"
      ]
     },
     "metadata": {},
     "output_type": "display_data"
    },
    {
     "data": {
      "text/html": [
       "Syncing run <strong><a href='https://wandb.ai/shakhova/absa_fin/runs/465369h4' target=\"_blank\">MTabsaL-llama7v2</a></strong> to <a href='https://wandb.ai/shakhova/absa_fin' target=\"_blank\">Weights & Biases</a> (<a href='https://wandb.me/run' target=\"_blank\">docs</a>)<br/>"
      ],
      "text/plain": [
       "<IPython.core.display.HTML object>"
      ]
     },
     "metadata": {},
     "output_type": "display_data"
    },
    {
     "data": {
      "text/html": [
       " View project at <a href='https://wandb.ai/shakhova/absa_fin' target=\"_blank\">https://wandb.ai/shakhova/absa_fin</a>"
      ],
      "text/plain": [
       "<IPython.core.display.HTML object>"
      ]
     },
     "metadata": {},
     "output_type": "display_data"
    },
    {
     "data": {
      "text/html": [
       " View run at <a href='https://wandb.ai/shakhova/absa_fin/runs/465369h4' target=\"_blank\">https://wandb.ai/shakhova/absa_fin/runs/465369h4</a>"
      ],
      "text/plain": [
       "<IPython.core.display.HTML object>"
      ]
     },
     "metadata": {},
     "output_type": "display_data"
    },
    {
     "name": "stderr",
     "output_type": "stream",
     "text": [
      "\u001b[34m\u001b[1mwandb\u001b[0m:   1 of 1 files downloaded.  \n"
     ]
    }
   ],
   "source": [
    "run = wandb.init(project=\"absa_fin\", name=\"MTabsaL-llama7v2\", tags=[\"dbt5pbqy\"])\n",
    "artifact = run.use_artifact(\n",
    "    \"shakhova/absa_fin/run-dbt5pbqy-MTabsaLllama7_preds:v0\", type=\"run_table\"\n",
    ")\n",
    "artifact_dir = artifact.download()"
   ]
  },
  {
   "cell_type": "code",
   "execution_count": 38,
   "metadata": {},
   "outputs": [
    {
     "data": {
      "text/html": [
       "<style>\n",
       "    table.wandb td:nth-child(1) { padding: 0 10px; text-align: left ; width: auto;} td:nth-child(2) {text-align: left ; width: 100%}\n",
       "    .wandb-row { display: flex; flex-direction: row; flex-wrap: wrap; justify-content: flex-start; width: 100% }\n",
       "    .wandb-col { display: flex; flex-direction: column; flex-basis: 100%; flex: 1; padding: 10px; }\n",
       "    </style>\n",
       "<div class=\"wandb-row\"><div class=\"wandb-col\"><h3>Run history:</h3><br/><table class=\"wandb\"><tr><td>F1_A</td><td>▁</td></tr><tr><td>F1_S</td><td>▁</td></tr><tr><td>F1_macro_ABSA</td><td>▁</td></tr><tr><td>F1_micro_ABSA</td><td>▁</td></tr></table><br/></div></div>"
      ],
      "text/plain": [
       "<IPython.core.display.HTML object>"
      ]
     },
     "metadata": {},
     "output_type": "display_data"
    },
    {
     "data": {
      "text/html": [
       " View run <strong style=\"color:#cdcd00\">MTabsaL-llama7v2</strong> at: <a href='https://wandb.ai/shakhova/absa_fin/runs/465369h4' target=\"_blank\">https://wandb.ai/shakhova/absa_fin/runs/465369h4</a><br/>Synced 5 W&B file(s), 0 media file(s), 0 artifact file(s) and 0 other file(s)"
      ],
      "text/plain": [
       "<IPython.core.display.HTML object>"
      ]
     },
     "metadata": {},
     "output_type": "display_data"
    },
    {
     "data": {
      "text/html": [
       "Find logs at: <code>.\\wandb\\run-20240424_125000-465369h4\\logs</code>"
      ],
      "text/plain": [
       "<IPython.core.display.HTML object>"
      ]
     },
     "metadata": {},
     "output_type": "display_data"
    },
    {
     "name": "stdout",
     "output_type": "stream",
     "text": [
      "TP_sent=191, FN_sent=38, FP_sent=25,Total_Aspects=229, Exact_match=83\n"
     ]
    }
   ],
   "source": [
    "with open(\n",
    "    \"artifacts/run-dbt5pbqy-MTabsaLllama7_preds-v0/MTabsaL-llama7_preds.table.json\"\n",
    ") as fp:\n",
    "    template = json.load(fp)\n",
    "y_true = []\n",
    "y_pred = []\n",
    "\n",
    "for line in template[\"data\"]:\n",
    "    y_pred.append(line[0])\n",
    "    y_true.append(line[1])\n",
    "\n",
    "calc(y_pred, y_true)"
   ]
  },
  {
   "cell_type": "code",
   "execution_count": 39,
   "metadata": {},
   "outputs": [
    {
     "data": {
      "text/html": [
       "wandb version 0.16.6 is available!  To upgrade, please run:\n",
       " $ pip install wandb --upgrade"
      ],
      "text/plain": [
       "<IPython.core.display.HTML object>"
      ]
     },
     "metadata": {},
     "output_type": "display_data"
    },
    {
     "data": {
      "text/html": [
       "Tracking run with wandb version 0.16.4"
      ],
      "text/plain": [
       "<IPython.core.display.HTML object>"
      ]
     },
     "metadata": {},
     "output_type": "display_data"
    },
    {
     "data": {
      "text/html": [
       "Run data is saved locally in <code>c:\\Users\\Kate\\Desktop\\absa_for_tests\\wandb\\run-20240424_125147-559tnxy7</code>"
      ],
      "text/plain": [
       "<IPython.core.display.HTML object>"
      ]
     },
     "metadata": {},
     "output_type": "display_data"
    },
    {
     "data": {
      "text/html": [
       "Syncing run <strong><a href='https://wandb.ai/shakhova/absa_fin/runs/559tnxy7' target=\"_blank\">MTabsaL-llama7v2</a></strong> to <a href='https://wandb.ai/shakhova/absa_fin' target=\"_blank\">Weights & Biases</a> (<a href='https://wandb.me/run' target=\"_blank\">docs</a>)<br/>"
      ],
      "text/plain": [
       "<IPython.core.display.HTML object>"
      ]
     },
     "metadata": {},
     "output_type": "display_data"
    },
    {
     "data": {
      "text/html": [
       " View project at <a href='https://wandb.ai/shakhova/absa_fin' target=\"_blank\">https://wandb.ai/shakhova/absa_fin</a>"
      ],
      "text/plain": [
       "<IPython.core.display.HTML object>"
      ]
     },
     "metadata": {},
     "output_type": "display_data"
    },
    {
     "data": {
      "text/html": [
       " View run at <a href='https://wandb.ai/shakhova/absa_fin/runs/559tnxy7' target=\"_blank\">https://wandb.ai/shakhova/absa_fin/runs/559tnxy7</a>"
      ],
      "text/plain": [
       "<IPython.core.display.HTML object>"
      ]
     },
     "metadata": {},
     "output_type": "display_data"
    },
    {
     "name": "stderr",
     "output_type": "stream",
     "text": [
      "\u001b[34m\u001b[1mwandb\u001b[0m:   1 of 1 files downloaded.  \n"
     ]
    }
   ],
   "source": [
    "run = wandb.init(project=\"absa_fin\", name=\"MTabsaL-llama7v2\", tags=[\"pn0z5vb0\"])\n",
    "artifact = run.use_artifact(\n",
    "    \"shakhova/absa_fin/run-pn0z5vb0-MTabsaLllama7_preds:v0\", type=\"run_table\"\n",
    ")\n",
    "artifact_dir = artifact.download()"
   ]
  },
  {
   "cell_type": "code",
   "execution_count": 40,
   "metadata": {},
   "outputs": [
    {
     "data": {
      "text/html": [
       "<style>\n",
       "    table.wandb td:nth-child(1) { padding: 0 10px; text-align: left ; width: auto;} td:nth-child(2) {text-align: left ; width: 100%}\n",
       "    .wandb-row { display: flex; flex-direction: row; flex-wrap: wrap; justify-content: flex-start; width: 100% }\n",
       "    .wandb-col { display: flex; flex-direction: column; flex-basis: 100%; flex: 1; padding: 10px; }\n",
       "    </style>\n",
       "<div class=\"wandb-row\"><div class=\"wandb-col\"><h3>Run history:</h3><br/><table class=\"wandb\"><tr><td>F1_A</td><td>▁</td></tr><tr><td>F1_S</td><td>▁</td></tr><tr><td>F1_macro_ABSA</td><td>▁</td></tr><tr><td>F1_micro_ABSA</td><td>▁</td></tr></table><br/></div></div>"
      ],
      "text/plain": [
       "<IPython.core.display.HTML object>"
      ]
     },
     "metadata": {},
     "output_type": "display_data"
    },
    {
     "data": {
      "text/html": [
       " View run <strong style=\"color:#cdcd00\">MTabsaL-llama7v2</strong> at: <a href='https://wandb.ai/shakhova/absa_fin/runs/559tnxy7' target=\"_blank\">https://wandb.ai/shakhova/absa_fin/runs/559tnxy7</a><br/>Synced 5 W&B file(s), 0 media file(s), 0 artifact file(s) and 0 other file(s)"
      ],
      "text/plain": [
       "<IPython.core.display.HTML object>"
      ]
     },
     "metadata": {},
     "output_type": "display_data"
    },
    {
     "data": {
      "text/html": [
       "Find logs at: <code>.\\wandb\\run-20240424_125147-559tnxy7\\logs</code>"
      ],
      "text/plain": [
       "<IPython.core.display.HTML object>"
      ]
     },
     "metadata": {},
     "output_type": "display_data"
    },
    {
     "name": "stdout",
     "output_type": "stream",
     "text": [
      "TP_sent=213, FN_sent=55, FP_sent=35,Total_Aspects=268, Exact_match=79\n"
     ]
    }
   ],
   "source": [
    "with open(\n",
    "    \"artifacts/run-pn0z5vb0-MTabsaLllama7_preds-v0/MTabsaL-llama7_preds.table.json\"\n",
    ") as fp:\n",
    "    template = json.load(fp)\n",
    "y_true = []\n",
    "y_pred = []\n",
    "\n",
    "for line in template[\"data\"]:\n",
    "    y_pred.append(line[0])\n",
    "    y_true.append(line[1])\n",
    "\n",
    "calc(y_pred, y_true)"
   ]
  },
  {
   "cell_type": "code",
   "execution_count": 41,
   "metadata": {},
   "outputs": [
    {
     "data": {
      "text/html": [
       "wandb version 0.16.6 is available!  To upgrade, please run:\n",
       " $ pip install wandb --upgrade"
      ],
      "text/plain": [
       "<IPython.core.display.HTML object>"
      ]
     },
     "metadata": {},
     "output_type": "display_data"
    },
    {
     "data": {
      "text/html": [
       "Tracking run with wandb version 0.16.4"
      ],
      "text/plain": [
       "<IPython.core.display.HTML object>"
      ]
     },
     "metadata": {},
     "output_type": "display_data"
    },
    {
     "data": {
      "text/html": [
       "Run data is saved locally in <code>c:\\Users\\Kate\\Desktop\\absa_for_tests\\wandb\\run-20240424_125328-yh3ts5wz</code>"
      ],
      "text/plain": [
       "<IPython.core.display.HTML object>"
      ]
     },
     "metadata": {},
     "output_type": "display_data"
    },
    {
     "data": {
      "text/html": [
       "Syncing run <strong><a href='https://wandb.ai/shakhova/absa_fin/runs/yh3ts5wz' target=\"_blank\">MTabsaL-llama7v2</a></strong> to <a href='https://wandb.ai/shakhova/absa_fin' target=\"_blank\">Weights & Biases</a> (<a href='https://wandb.me/run' target=\"_blank\">docs</a>)<br/>"
      ],
      "text/plain": [
       "<IPython.core.display.HTML object>"
      ]
     },
     "metadata": {},
     "output_type": "display_data"
    },
    {
     "data": {
      "text/html": [
       " View project at <a href='https://wandb.ai/shakhova/absa_fin' target=\"_blank\">https://wandb.ai/shakhova/absa_fin</a>"
      ],
      "text/plain": [
       "<IPython.core.display.HTML object>"
      ]
     },
     "metadata": {},
     "output_type": "display_data"
    },
    {
     "data": {
      "text/html": [
       " View run at <a href='https://wandb.ai/shakhova/absa_fin/runs/yh3ts5wz' target=\"_blank\">https://wandb.ai/shakhova/absa_fin/runs/yh3ts5wz</a>"
      ],
      "text/plain": [
       "<IPython.core.display.HTML object>"
      ]
     },
     "metadata": {},
     "output_type": "display_data"
    },
    {
     "name": "stderr",
     "output_type": "stream",
     "text": [
      "\u001b[34m\u001b[1mwandb\u001b[0m:   1 of 1 files downloaded.  \n"
     ]
    }
   ],
   "source": [
    "run = wandb.init(project=\"absa_fin\", name=\"MTabsaL-llama7v2\", tags=[\"4yfnq7mr\"])\n",
    "artifact = run.use_artifact(\n",
    "    \"shakhova/absa_fin/run-4yfnq7mr-MTabsaLllama7_preds:v0\", type=\"run_table\"\n",
    ")\n",
    "artifact_dir = artifact.download()"
   ]
  },
  {
   "cell_type": "code",
   "execution_count": 42,
   "metadata": {},
   "outputs": [
    {
     "data": {
      "text/html": [
       "<style>\n",
       "    table.wandb td:nth-child(1) { padding: 0 10px; text-align: left ; width: auto;} td:nth-child(2) {text-align: left ; width: 100%}\n",
       "    .wandb-row { display: flex; flex-direction: row; flex-wrap: wrap; justify-content: flex-start; width: 100% }\n",
       "    .wandb-col { display: flex; flex-direction: column; flex-basis: 100%; flex: 1; padding: 10px; }\n",
       "    </style>\n",
       "<div class=\"wandb-row\"><div class=\"wandb-col\"><h3>Run history:</h3><br/><table class=\"wandb\"><tr><td>F1_A</td><td>▁</td></tr><tr><td>F1_S</td><td>▁</td></tr><tr><td>F1_macro_ABSA</td><td>▁</td></tr><tr><td>F1_micro_ABSA</td><td>▁</td></tr></table><br/></div></div>"
      ],
      "text/plain": [
       "<IPython.core.display.HTML object>"
      ]
     },
     "metadata": {},
     "output_type": "display_data"
    },
    {
     "data": {
      "text/html": [
       " View run <strong style=\"color:#cdcd00\">MTabsaL-llama7v2</strong> at: <a href='https://wandb.ai/shakhova/absa_fin/runs/yh3ts5wz' target=\"_blank\">https://wandb.ai/shakhova/absa_fin/runs/yh3ts5wz</a><br/>Synced 5 W&B file(s), 0 media file(s), 0 artifact file(s) and 0 other file(s)"
      ],
      "text/plain": [
       "<IPython.core.display.HTML object>"
      ]
     },
     "metadata": {},
     "output_type": "display_data"
    },
    {
     "data": {
      "text/html": [
       "Find logs at: <code>.\\wandb\\run-20240424_125328-yh3ts5wz\\logs</code>"
      ],
      "text/plain": [
       "<IPython.core.display.HTML object>"
      ]
     },
     "metadata": {},
     "output_type": "display_data"
    },
    {
     "name": "stdout",
     "output_type": "stream",
     "text": [
      "TP_sent=206, FN_sent=57, FP_sent=30,Total_Aspects=263, Exact_match=78\n"
     ]
    }
   ],
   "source": [
    "with open(\n",
    "    \"artifacts/run-4yfnq7mr-MTabsaLllama7_preds-v0/MTabsaL-llama7_preds.table.json\"\n",
    ") as fp:\n",
    "    template = json.load(fp)\n",
    "y_true = []\n",
    "y_pred = []\n",
    "\n",
    "for line in template[\"data\"]:\n",
    "    y_pred.append(line[0])\n",
    "    y_true.append(line[1])\n",
    "\n",
    "calc(y_pred, y_true)"
   ]
  },
  {
   "cell_type": "code",
   "execution_count": 43,
   "metadata": {},
   "outputs": [
    {
     "data": {
      "text/html": [
       "wandb version 0.16.6 is available!  To upgrade, please run:\n",
       " $ pip install wandb --upgrade"
      ],
      "text/plain": [
       "<IPython.core.display.HTML object>"
      ]
     },
     "metadata": {},
     "output_type": "display_data"
    },
    {
     "data": {
      "text/html": [
       "Tracking run with wandb version 0.16.4"
      ],
      "text/plain": [
       "<IPython.core.display.HTML object>"
      ]
     },
     "metadata": {},
     "output_type": "display_data"
    },
    {
     "data": {
      "text/html": [
       "Run data is saved locally in <code>c:\\Users\\Kate\\Desktop\\absa_for_tests\\wandb\\run-20240424_125501-twf168m2</code>"
      ],
      "text/plain": [
       "<IPython.core.display.HTML object>"
      ]
     },
     "metadata": {},
     "output_type": "display_data"
    },
    {
     "data": {
      "text/html": [
       "Syncing run <strong><a href='https://wandb.ai/shakhova/absa_fin/runs/twf168m2' target=\"_blank\">MTabsaL-llama7v2</a></strong> to <a href='https://wandb.ai/shakhova/absa_fin' target=\"_blank\">Weights & Biases</a> (<a href='https://wandb.me/run' target=\"_blank\">docs</a>)<br/>"
      ],
      "text/plain": [
       "<IPython.core.display.HTML object>"
      ]
     },
     "metadata": {},
     "output_type": "display_data"
    },
    {
     "data": {
      "text/html": [
       " View project at <a href='https://wandb.ai/shakhova/absa_fin' target=\"_blank\">https://wandb.ai/shakhova/absa_fin</a>"
      ],
      "text/plain": [
       "<IPython.core.display.HTML object>"
      ]
     },
     "metadata": {},
     "output_type": "display_data"
    },
    {
     "data": {
      "text/html": [
       " View run at <a href='https://wandb.ai/shakhova/absa_fin/runs/twf168m2' target=\"_blank\">https://wandb.ai/shakhova/absa_fin/runs/twf168m2</a>"
      ],
      "text/plain": [
       "<IPython.core.display.HTML object>"
      ]
     },
     "metadata": {},
     "output_type": "display_data"
    },
    {
     "name": "stderr",
     "output_type": "stream",
     "text": [
      "\u001b[34m\u001b[1mwandb\u001b[0m:   1 of 1 files downloaded.  \n"
     ]
    }
   ],
   "source": [
    "run = wandb.init(project=\"absa_fin\", name=\"MTabsaL-llama7v2\", tags=[\"orgik5ax\"])\n",
    "artifact = run.use_artifact(\n",
    "    \"shakhova/absa_fin/run-orgik5ax-MTabsaLllama7_preds:v0\", type=\"run_table\"\n",
    ")\n",
    "artifact_dir = artifact.download()"
   ]
  },
  {
   "cell_type": "code",
   "execution_count": 44,
   "metadata": {},
   "outputs": [
    {
     "data": {
      "text/html": [
       "<style>\n",
       "    table.wandb td:nth-child(1) { padding: 0 10px; text-align: left ; width: auto;} td:nth-child(2) {text-align: left ; width: 100%}\n",
       "    .wandb-row { display: flex; flex-direction: row; flex-wrap: wrap; justify-content: flex-start; width: 100% }\n",
       "    .wandb-col { display: flex; flex-direction: column; flex-basis: 100%; flex: 1; padding: 10px; }\n",
       "    </style>\n",
       "<div class=\"wandb-row\"><div class=\"wandb-col\"><h3>Run history:</h3><br/><table class=\"wandb\"><tr><td>F1_A</td><td>▁</td></tr><tr><td>F1_S</td><td>▁</td></tr><tr><td>F1_macro_ABSA</td><td>▁</td></tr><tr><td>F1_micro_ABSA</td><td>▁</td></tr></table><br/></div></div>"
      ],
      "text/plain": [
       "<IPython.core.display.HTML object>"
      ]
     },
     "metadata": {},
     "output_type": "display_data"
    },
    {
     "data": {
      "text/html": [
       " View run <strong style=\"color:#cdcd00\">MTabsaL-llama7v2</strong> at: <a href='https://wandb.ai/shakhova/absa_fin/runs/twf168m2' target=\"_blank\">https://wandb.ai/shakhova/absa_fin/runs/twf168m2</a><br/>Synced 5 W&B file(s), 0 media file(s), 0 artifact file(s) and 0 other file(s)"
      ],
      "text/plain": [
       "<IPython.core.display.HTML object>"
      ]
     },
     "metadata": {},
     "output_type": "display_data"
    },
    {
     "data": {
      "text/html": [
       "Find logs at: <code>.\\wandb\\run-20240424_125501-twf168m2\\logs</code>"
      ],
      "text/plain": [
       "<IPython.core.display.HTML object>"
      ]
     },
     "metadata": {},
     "output_type": "display_data"
    },
    {
     "name": "stdout",
     "output_type": "stream",
     "text": [
      "TP_sent=203, FN_sent=58, FP_sent=34,Total_Aspects=261, Exact_match=78\n"
     ]
    }
   ],
   "source": [
    "with open(\n",
    "    \"artifacts/run-orgik5ax-MTabsaLllama7_preds-v0/MTabsaL-llama7_preds.table.json\"\n",
    ") as fp:\n",
    "    template = json.load(fp)\n",
    "y_true = []\n",
    "y_pred = []\n",
    "\n",
    "for line in template[\"data\"]:\n",
    "    y_pred.append(line[0])\n",
    "    y_true.append(line[1])\n",
    "\n",
    "calc(y_pred, y_true)"
   ]
  }
 ],
 "metadata": {
  "kernelspec": {
   "display_name": ".venv",
   "language": "python",
   "name": "python3"
  },
  "language_info": {
   "codemirror_mode": {
    "name": "ipython",
    "version": 3
   },
   "file_extension": ".py",
   "mimetype": "text/x-python",
   "name": "python",
   "nbconvert_exporter": "python",
   "pygments_lexer": "ipython3",
   "version": "3.11.8"
  }
 },
 "nbformat": 4,
 "nbformat_minor": 2
}
